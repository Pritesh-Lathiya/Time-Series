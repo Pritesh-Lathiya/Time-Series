{
  "nbformat": 4,
  "nbformat_minor": 0,
  "metadata": {
    "colab": {
      "provenance": []
    },
    "kernelspec": {
      "name": "python3",
      "display_name": "Python 3"
    },
    "language_info": {
      "name": "python"
    }
  },
  "cells": [
    {
      "cell_type": "markdown",
      "source": [
        "# **Installing And Importing Necessary Libraries**"
      ],
      "metadata": {
        "id": "AsepmJnqlLqm"
      }
    },
    {
      "cell_type": "code",
      "source": [
        "pip install pymannkendall"
      ],
      "metadata": {
        "id": "KMTgUEiYBhMW",
        "colab": {
          "base_uri": "https://localhost:8080/"
        },
        "outputId": "042fa8b8-9afd-49c0-8ea4-d68f0c85f71a"
      },
      "execution_count": 1,
      "outputs": [
        {
          "output_type": "stream",
          "name": "stdout",
          "text": [
            "Looking in indexes: https://pypi.org/simple, https://us-python.pkg.dev/colab-wheels/public/simple/\n",
            "Collecting pymannkendall\n",
            "  Downloading pymannkendall-1.4.2-py3-none-any.whl (12 kB)\n",
            "Requirement already satisfied: scipy in /usr/local/lib/python3.8/dist-packages (from pymannkendall) (1.7.3)\n",
            "Requirement already satisfied: numpy in /usr/local/lib/python3.8/dist-packages (from pymannkendall) (1.21.6)\n",
            "Installing collected packages: pymannkendall\n",
            "Successfully installed pymannkendall-1.4.2\n"
          ]
        }
      ]
    },
    {
      "cell_type": "code",
      "source": [
        "pip install pmdarima"
      ],
      "metadata": {
        "id": "pgSMstZfBhI3",
        "colab": {
          "base_uri": "https://localhost:8080/"
        },
        "outputId": "87fa71c4-3e57-429d-b633-d5a04018dc84"
      },
      "execution_count": 2,
      "outputs": [
        {
          "output_type": "stream",
          "name": "stdout",
          "text": [
            "Looking in indexes: https://pypi.org/simple, https://us-python.pkg.dev/colab-wheels/public/simple/\n",
            "Collecting pmdarima\n",
            "  Downloading pmdarima-2.0.2-cp38-cp38-manylinux_2_17_x86_64.manylinux2014_x86_64.manylinux_2_28_x86_64.whl (1.9 MB)\n",
            "\u001b[2K     \u001b[90m━━━━━━━━━━━━━━━━━━━━━━━━━━━━━━━━━━━━━━━━\u001b[0m \u001b[32m1.9/1.9 MB\u001b[0m \u001b[31m25.7 MB/s\u001b[0m eta \u001b[36m0:00:00\u001b[0m\n",
            "\u001b[?25hRequirement already satisfied: Cython!=0.29.18,!=0.29.31,>=0.29 in /usr/local/lib/python3.8/dist-packages (from pmdarima) (0.29.32)\n",
            "Requirement already satisfied: scipy>=1.3.2 in /usr/local/lib/python3.8/dist-packages (from pmdarima) (1.7.3)\n",
            "Requirement already satisfied: numpy>=1.21.2 in /usr/local/lib/python3.8/dist-packages (from pmdarima) (1.21.6)\n",
            "Requirement already satisfied: pandas>=0.19 in /usr/local/lib/python3.8/dist-packages (from pmdarima) (1.3.5)\n",
            "Requirement already satisfied: scikit-learn>=0.22 in /usr/local/lib/python3.8/dist-packages (from pmdarima) (1.0.2)\n",
            "Requirement already satisfied: joblib>=0.11 in /usr/local/lib/python3.8/dist-packages (from pmdarima) (1.2.0)\n",
            "Requirement already satisfied: urllib3 in /usr/local/lib/python3.8/dist-packages (from pmdarima) (1.24.3)\n",
            "Collecting statsmodels>=0.13.2\n",
            "  Downloading statsmodels-0.13.5-cp38-cp38-manylinux_2_17_x86_64.manylinux2014_x86_64.whl (9.9 MB)\n",
            "\u001b[2K     \u001b[90m━━━━━━━━━━━━━━━━━━━━━━━━━━━━━━━━━━━━━━━━\u001b[0m \u001b[32m9.9/9.9 MB\u001b[0m \u001b[31m83.6 MB/s\u001b[0m eta \u001b[36m0:00:00\u001b[0m\n",
            "\u001b[?25hRequirement already satisfied: setuptools!=50.0.0,>=38.6.0 in /usr/local/lib/python3.8/dist-packages (from pmdarima) (57.4.0)\n",
            "Requirement already satisfied: pytz>=2017.3 in /usr/local/lib/python3.8/dist-packages (from pandas>=0.19->pmdarima) (2022.7)\n",
            "Requirement already satisfied: python-dateutil>=2.7.3 in /usr/local/lib/python3.8/dist-packages (from pandas>=0.19->pmdarima) (2.8.2)\n",
            "Requirement already satisfied: threadpoolctl>=2.0.0 in /usr/local/lib/python3.8/dist-packages (from scikit-learn>=0.22->pmdarima) (3.1.0)\n",
            "Requirement already satisfied: packaging>=21.3 in /usr/local/lib/python3.8/dist-packages (from statsmodels>=0.13.2->pmdarima) (21.3)\n",
            "Requirement already satisfied: patsy>=0.5.2 in /usr/local/lib/python3.8/dist-packages (from statsmodels>=0.13.2->pmdarima) (0.5.3)\n",
            "Requirement already satisfied: pyparsing!=3.0.5,>=2.0.2 in /usr/local/lib/python3.8/dist-packages (from packaging>=21.3->statsmodels>=0.13.2->pmdarima) (3.0.9)\n",
            "Requirement already satisfied: six in /usr/local/lib/python3.8/dist-packages (from patsy>=0.5.2->statsmodels>=0.13.2->pmdarima) (1.15.0)\n",
            "Installing collected packages: statsmodels, pmdarima\n",
            "  Attempting uninstall: statsmodels\n",
            "    Found existing installation: statsmodels 0.12.2\n",
            "    Uninstalling statsmodels-0.12.2:\n",
            "      Successfully uninstalled statsmodels-0.12.2\n",
            "Successfully installed pmdarima-2.0.2 statsmodels-0.13.5\n"
          ]
        }
      ]
    },
    {
      "cell_type": "code",
      "execution_count": 3,
      "metadata": {
        "id": "NOZ6OynVA0Bo",
        "colab": {
          "base_uri": "https://localhost:8080/"
        },
        "outputId": "bcd92b6d-0a9a-4b16-c4d0-dfacab4597bb"
      },
      "outputs": [
        {
          "output_type": "stream",
          "name": "stdout",
          "text": [
            "Looking in indexes: https://pypi.org/simple, https://us-python.pkg.dev/colab-wheels/public/simple/\n",
            "Requirement already satisfied: prophet in /usr/local/lib/python3.8/dist-packages (1.1.1)\n",
            "Requirement already satisfied: python-dateutil>=2.8.0 in /usr/local/lib/python3.8/dist-packages (from prophet) (2.8.2)\n",
            "Requirement already satisfied: matplotlib>=2.0.0 in /usr/local/lib/python3.8/dist-packages (from prophet) (3.2.2)\n",
            "Requirement already satisfied: cmdstanpy>=1.0.4 in /usr/local/lib/python3.8/dist-packages (from prophet) (1.0.8)\n",
            "Requirement already satisfied: tqdm>=4.36.1 in /usr/local/lib/python3.8/dist-packages (from prophet) (4.64.1)\n",
            "Requirement already satisfied: wheel>=0.37.0 in /usr/local/lib/python3.8/dist-packages (from prophet) (0.38.4)\n",
            "Requirement already satisfied: setuptools-git>=1.2 in /usr/local/lib/python3.8/dist-packages (from prophet) (1.2)\n",
            "Requirement already satisfied: setuptools>=42 in /usr/local/lib/python3.8/dist-packages (from prophet) (57.4.0)\n",
            "Requirement already satisfied: numpy>=1.15.4 in /usr/local/lib/python3.8/dist-packages (from prophet) (1.21.6)\n",
            "Requirement already satisfied: LunarCalendar>=0.0.9 in /usr/local/lib/python3.8/dist-packages (from prophet) (0.0.9)\n",
            "Requirement already satisfied: convertdate>=2.1.2 in /usr/local/lib/python3.8/dist-packages (from prophet) (2.4.0)\n",
            "Requirement already satisfied: pandas>=1.0.4 in /usr/local/lib/python3.8/dist-packages (from prophet) (1.3.5)\n",
            "Requirement already satisfied: holidays>=0.14.2 in /usr/local/lib/python3.8/dist-packages (from prophet) (0.17.2)\n",
            "Requirement already satisfied: pymeeus<=1,>=0.3.13 in /usr/local/lib/python3.8/dist-packages (from convertdate>=2.1.2->prophet) (0.5.12)\n",
            "Requirement already satisfied: korean-lunar-calendar in /usr/local/lib/python3.8/dist-packages (from holidays>=0.14.2->prophet) (0.3.1)\n",
            "Requirement already satisfied: hijri-converter in /usr/local/lib/python3.8/dist-packages (from holidays>=0.14.2->prophet) (2.2.4)\n",
            "Requirement already satisfied: ephem>=3.7.5.3 in /usr/local/lib/python3.8/dist-packages (from LunarCalendar>=0.0.9->prophet) (4.1.4)\n",
            "Requirement already satisfied: pytz in /usr/local/lib/python3.8/dist-packages (from LunarCalendar>=0.0.9->prophet) (2022.7)\n",
            "Requirement already satisfied: kiwisolver>=1.0.1 in /usr/local/lib/python3.8/dist-packages (from matplotlib>=2.0.0->prophet) (1.4.4)\n",
            "Requirement already satisfied: cycler>=0.10 in /usr/local/lib/python3.8/dist-packages (from matplotlib>=2.0.0->prophet) (0.11.0)\n",
            "Requirement already satisfied: pyparsing!=2.0.4,!=2.1.2,!=2.1.6,>=2.0.1 in /usr/local/lib/python3.8/dist-packages (from matplotlib>=2.0.0->prophet) (3.0.9)\n",
            "Requirement already satisfied: six>=1.5 in /usr/local/lib/python3.8/dist-packages (from python-dateutil>=2.8.0->prophet) (1.15.0)\n"
          ]
        }
      ],
      "source": [
        "pip install prophet"
      ]
    },
    {
      "cell_type": "code",
      "execution_count": 4,
      "metadata": {
        "id": "wwHkvnhjilGb"
      },
      "outputs": [],
      "source": [
        "import pandas as pd\n",
        "import numpy as np\n",
        "import matplotlib.pyplot as plt\n",
        "import seaborn as sns\n",
        "import plotly\n",
        "import plotly.express as px\n",
        "import pymannkendall as mk\n",
        "from statsmodels.tsa.stattools import adfuller\n",
        "from statsmodels.tsa.seasonal import seasonal_decompose\n",
        "import statsmodels.tsa.api as smt\n",
        "import statsmodels.api as sm\n",
        "from statsmodels.tsa.arima.model import ARIMA\n",
        "from sklearn.metrics import mean_squared_error\n",
        "from statsmodels.tools.eval_measures import rmse\n",
        "from pmdarima import auto_arima\n",
        "from prophet import Prophet\n",
        "from prophet.plot import plot_plotly, plot_components_plotly,add_changepoints_to_plot"
      ]
    },
    {
      "cell_type": "markdown",
      "source": [
        "# **Dataset**"
      ],
      "metadata": {
        "id": "MvdRvML7l2Cv"
      }
    },
    {
      "cell_type": "code",
      "source": [
        "df = pd.read_excel(\"/content/CocaCola_Sales_Rawdata.xlsx\")\n",
        "df"
      ],
      "metadata": {
        "colab": {
          "base_uri": "https://localhost:8080/",
          "height": 1000
        },
        "id": "pO3VIOfJlBFc",
        "outputId": "6dd6a2f0-d17a-49ad-de44-826a426c475e"
      },
      "execution_count": 5,
      "outputs": [
        {
          "output_type": "execute_result",
          "data": {
            "text/plain": [
              "   Quarter        Sales\n",
              "0    Q1_86  1734.827000\n",
              "1    Q2_86  2244.960999\n",
              "2    Q3_86  2533.804993\n",
              "3    Q4_86  2154.962997\n",
              "4    Q1_87  1547.818996\n",
              "5    Q2_87  2104.411995\n",
              "6    Q3_87  2014.362999\n",
              "7    Q4_87  1991.746998\n",
              "8    Q1_88  1869.049999\n",
              "9    Q2_88  2313.631996\n",
              "10   Q3_88  2128.320000\n",
              "11   Q4_88  2026.828999\n",
              "12   Q1_89  1910.603996\n",
              "13   Q2_89  2331.164993\n",
              "14   Q3_89  2206.549995\n",
              "15   Q4_89  2173.967995\n",
              "16   Q1_90  2148.278000\n",
              "17   Q2_90  2739.307999\n",
              "18   Q3_90  2792.753998\n",
              "19   Q4_90  2556.009995\n",
              "20   Q1_91  2480.973999\n",
              "21   Q2_91  3039.522995\n",
              "22   Q3_91  3172.115997\n",
              "23   Q4_91  2879.000999\n",
              "24   Q1_92  2772.000000\n",
              "25   Q2_92  3550.000000\n",
              "26   Q3_92  3508.000000\n",
              "27   Q4_92  3243.859993\n",
              "28   Q1_93  3056.000000\n",
              "29   Q2_93  3899.000000\n",
              "30   Q3_93  3629.000000\n",
              "31   Q4_93  3373.000000\n",
              "32   Q1_94  3352.000000\n",
              "33   Q2_94  4342.000000\n",
              "34   Q3_94  4461.000000\n",
              "35   Q4_94  4017.000000\n",
              "36   Q1_95  3854.000000\n",
              "37   Q2_95  4936.000000\n",
              "38   Q3_95  4895.000000\n",
              "39   Q4_95  4333.000000\n",
              "40   Q1_96  4194.000000\n",
              "41   Q2_96  5253.000000"
            ],
            "text/html": [
              "\n",
              "  <div id=\"df-15913c90-f717-4c8c-8dc2-86ca775f3945\">\n",
              "    <div class=\"colab-df-container\">\n",
              "      <div>\n",
              "<style scoped>\n",
              "    .dataframe tbody tr th:only-of-type {\n",
              "        vertical-align: middle;\n",
              "    }\n",
              "\n",
              "    .dataframe tbody tr th {\n",
              "        vertical-align: top;\n",
              "    }\n",
              "\n",
              "    .dataframe thead th {\n",
              "        text-align: right;\n",
              "    }\n",
              "</style>\n",
              "<table border=\"1\" class=\"dataframe\">\n",
              "  <thead>\n",
              "    <tr style=\"text-align: right;\">\n",
              "      <th></th>\n",
              "      <th>Quarter</th>\n",
              "      <th>Sales</th>\n",
              "    </tr>\n",
              "  </thead>\n",
              "  <tbody>\n",
              "    <tr>\n",
              "      <th>0</th>\n",
              "      <td>Q1_86</td>\n",
              "      <td>1734.827000</td>\n",
              "    </tr>\n",
              "    <tr>\n",
              "      <th>1</th>\n",
              "      <td>Q2_86</td>\n",
              "      <td>2244.960999</td>\n",
              "    </tr>\n",
              "    <tr>\n",
              "      <th>2</th>\n",
              "      <td>Q3_86</td>\n",
              "      <td>2533.804993</td>\n",
              "    </tr>\n",
              "    <tr>\n",
              "      <th>3</th>\n",
              "      <td>Q4_86</td>\n",
              "      <td>2154.962997</td>\n",
              "    </tr>\n",
              "    <tr>\n",
              "      <th>4</th>\n",
              "      <td>Q1_87</td>\n",
              "      <td>1547.818996</td>\n",
              "    </tr>\n",
              "    <tr>\n",
              "      <th>5</th>\n",
              "      <td>Q2_87</td>\n",
              "      <td>2104.411995</td>\n",
              "    </tr>\n",
              "    <tr>\n",
              "      <th>6</th>\n",
              "      <td>Q3_87</td>\n",
              "      <td>2014.362999</td>\n",
              "    </tr>\n",
              "    <tr>\n",
              "      <th>7</th>\n",
              "      <td>Q4_87</td>\n",
              "      <td>1991.746998</td>\n",
              "    </tr>\n",
              "    <tr>\n",
              "      <th>8</th>\n",
              "      <td>Q1_88</td>\n",
              "      <td>1869.049999</td>\n",
              "    </tr>\n",
              "    <tr>\n",
              "      <th>9</th>\n",
              "      <td>Q2_88</td>\n",
              "      <td>2313.631996</td>\n",
              "    </tr>\n",
              "    <tr>\n",
              "      <th>10</th>\n",
              "      <td>Q3_88</td>\n",
              "      <td>2128.320000</td>\n",
              "    </tr>\n",
              "    <tr>\n",
              "      <th>11</th>\n",
              "      <td>Q4_88</td>\n",
              "      <td>2026.828999</td>\n",
              "    </tr>\n",
              "    <tr>\n",
              "      <th>12</th>\n",
              "      <td>Q1_89</td>\n",
              "      <td>1910.603996</td>\n",
              "    </tr>\n",
              "    <tr>\n",
              "      <th>13</th>\n",
              "      <td>Q2_89</td>\n",
              "      <td>2331.164993</td>\n",
              "    </tr>\n",
              "    <tr>\n",
              "      <th>14</th>\n",
              "      <td>Q3_89</td>\n",
              "      <td>2206.549995</td>\n",
              "    </tr>\n",
              "    <tr>\n",
              "      <th>15</th>\n",
              "      <td>Q4_89</td>\n",
              "      <td>2173.967995</td>\n",
              "    </tr>\n",
              "    <tr>\n",
              "      <th>16</th>\n",
              "      <td>Q1_90</td>\n",
              "      <td>2148.278000</td>\n",
              "    </tr>\n",
              "    <tr>\n",
              "      <th>17</th>\n",
              "      <td>Q2_90</td>\n",
              "      <td>2739.307999</td>\n",
              "    </tr>\n",
              "    <tr>\n",
              "      <th>18</th>\n",
              "      <td>Q3_90</td>\n",
              "      <td>2792.753998</td>\n",
              "    </tr>\n",
              "    <tr>\n",
              "      <th>19</th>\n",
              "      <td>Q4_90</td>\n",
              "      <td>2556.009995</td>\n",
              "    </tr>\n",
              "    <tr>\n",
              "      <th>20</th>\n",
              "      <td>Q1_91</td>\n",
              "      <td>2480.973999</td>\n",
              "    </tr>\n",
              "    <tr>\n",
              "      <th>21</th>\n",
              "      <td>Q2_91</td>\n",
              "      <td>3039.522995</td>\n",
              "    </tr>\n",
              "    <tr>\n",
              "      <th>22</th>\n",
              "      <td>Q3_91</td>\n",
              "      <td>3172.115997</td>\n",
              "    </tr>\n",
              "    <tr>\n",
              "      <th>23</th>\n",
              "      <td>Q4_91</td>\n",
              "      <td>2879.000999</td>\n",
              "    </tr>\n",
              "    <tr>\n",
              "      <th>24</th>\n",
              "      <td>Q1_92</td>\n",
              "      <td>2772.000000</td>\n",
              "    </tr>\n",
              "    <tr>\n",
              "      <th>25</th>\n",
              "      <td>Q2_92</td>\n",
              "      <td>3550.000000</td>\n",
              "    </tr>\n",
              "    <tr>\n",
              "      <th>26</th>\n",
              "      <td>Q3_92</td>\n",
              "      <td>3508.000000</td>\n",
              "    </tr>\n",
              "    <tr>\n",
              "      <th>27</th>\n",
              "      <td>Q4_92</td>\n",
              "      <td>3243.859993</td>\n",
              "    </tr>\n",
              "    <tr>\n",
              "      <th>28</th>\n",
              "      <td>Q1_93</td>\n",
              "      <td>3056.000000</td>\n",
              "    </tr>\n",
              "    <tr>\n",
              "      <th>29</th>\n",
              "      <td>Q2_93</td>\n",
              "      <td>3899.000000</td>\n",
              "    </tr>\n",
              "    <tr>\n",
              "      <th>30</th>\n",
              "      <td>Q3_93</td>\n",
              "      <td>3629.000000</td>\n",
              "    </tr>\n",
              "    <tr>\n",
              "      <th>31</th>\n",
              "      <td>Q4_93</td>\n",
              "      <td>3373.000000</td>\n",
              "    </tr>\n",
              "    <tr>\n",
              "      <th>32</th>\n",
              "      <td>Q1_94</td>\n",
              "      <td>3352.000000</td>\n",
              "    </tr>\n",
              "    <tr>\n",
              "      <th>33</th>\n",
              "      <td>Q2_94</td>\n",
              "      <td>4342.000000</td>\n",
              "    </tr>\n",
              "    <tr>\n",
              "      <th>34</th>\n",
              "      <td>Q3_94</td>\n",
              "      <td>4461.000000</td>\n",
              "    </tr>\n",
              "    <tr>\n",
              "      <th>35</th>\n",
              "      <td>Q4_94</td>\n",
              "      <td>4017.000000</td>\n",
              "    </tr>\n",
              "    <tr>\n",
              "      <th>36</th>\n",
              "      <td>Q1_95</td>\n",
              "      <td>3854.000000</td>\n",
              "    </tr>\n",
              "    <tr>\n",
              "      <th>37</th>\n",
              "      <td>Q2_95</td>\n",
              "      <td>4936.000000</td>\n",
              "    </tr>\n",
              "    <tr>\n",
              "      <th>38</th>\n",
              "      <td>Q3_95</td>\n",
              "      <td>4895.000000</td>\n",
              "    </tr>\n",
              "    <tr>\n",
              "      <th>39</th>\n",
              "      <td>Q4_95</td>\n",
              "      <td>4333.000000</td>\n",
              "    </tr>\n",
              "    <tr>\n",
              "      <th>40</th>\n",
              "      <td>Q1_96</td>\n",
              "      <td>4194.000000</td>\n",
              "    </tr>\n",
              "    <tr>\n",
              "      <th>41</th>\n",
              "      <td>Q2_96</td>\n",
              "      <td>5253.000000</td>\n",
              "    </tr>\n",
              "  </tbody>\n",
              "</table>\n",
              "</div>\n",
              "      <button class=\"colab-df-convert\" onclick=\"convertToInteractive('df-15913c90-f717-4c8c-8dc2-86ca775f3945')\"\n",
              "              title=\"Convert this dataframe to an interactive table.\"\n",
              "              style=\"display:none;\">\n",
              "        \n",
              "  <svg xmlns=\"http://www.w3.org/2000/svg\" height=\"24px\"viewBox=\"0 0 24 24\"\n",
              "       width=\"24px\">\n",
              "    <path d=\"M0 0h24v24H0V0z\" fill=\"none\"/>\n",
              "    <path d=\"M18.56 5.44l.94 2.06.94-2.06 2.06-.94-2.06-.94-.94-2.06-.94 2.06-2.06.94zm-11 1L8.5 8.5l.94-2.06 2.06-.94-2.06-.94L8.5 2.5l-.94 2.06-2.06.94zm10 10l.94 2.06.94-2.06 2.06-.94-2.06-.94-.94-2.06-.94 2.06-2.06.94z\"/><path d=\"M17.41 7.96l-1.37-1.37c-.4-.4-.92-.59-1.43-.59-.52 0-1.04.2-1.43.59L10.3 9.45l-7.72 7.72c-.78.78-.78 2.05 0 2.83L4 21.41c.39.39.9.59 1.41.59.51 0 1.02-.2 1.41-.59l7.78-7.78 2.81-2.81c.8-.78.8-2.07 0-2.86zM5.41 20L4 18.59l7.72-7.72 1.47 1.35L5.41 20z\"/>\n",
              "  </svg>\n",
              "      </button>\n",
              "      \n",
              "  <style>\n",
              "    .colab-df-container {\n",
              "      display:flex;\n",
              "      flex-wrap:wrap;\n",
              "      gap: 12px;\n",
              "    }\n",
              "\n",
              "    .colab-df-convert {\n",
              "      background-color: #E8F0FE;\n",
              "      border: none;\n",
              "      border-radius: 50%;\n",
              "      cursor: pointer;\n",
              "      display: none;\n",
              "      fill: #1967D2;\n",
              "      height: 32px;\n",
              "      padding: 0 0 0 0;\n",
              "      width: 32px;\n",
              "    }\n",
              "\n",
              "    .colab-df-convert:hover {\n",
              "      background-color: #E2EBFA;\n",
              "      box-shadow: 0px 1px 2px rgba(60, 64, 67, 0.3), 0px 1px 3px 1px rgba(60, 64, 67, 0.15);\n",
              "      fill: #174EA6;\n",
              "    }\n",
              "\n",
              "    [theme=dark] .colab-df-convert {\n",
              "      background-color: #3B4455;\n",
              "      fill: #D2E3FC;\n",
              "    }\n",
              "\n",
              "    [theme=dark] .colab-df-convert:hover {\n",
              "      background-color: #434B5C;\n",
              "      box-shadow: 0px 1px 3px 1px rgba(0, 0, 0, 0.15);\n",
              "      filter: drop-shadow(0px 1px 2px rgba(0, 0, 0, 0.3));\n",
              "      fill: #FFFFFF;\n",
              "    }\n",
              "  </style>\n",
              "\n",
              "      <script>\n",
              "        const buttonEl =\n",
              "          document.querySelector('#df-15913c90-f717-4c8c-8dc2-86ca775f3945 button.colab-df-convert');\n",
              "        buttonEl.style.display =\n",
              "          google.colab.kernel.accessAllowed ? 'block' : 'none';\n",
              "\n",
              "        async function convertToInteractive(key) {\n",
              "          const element = document.querySelector('#df-15913c90-f717-4c8c-8dc2-86ca775f3945');\n",
              "          const dataTable =\n",
              "            await google.colab.kernel.invokeFunction('convertToInteractive',\n",
              "                                                     [key], {});\n",
              "          if (!dataTable) return;\n",
              "\n",
              "          const docLinkHtml = 'Like what you see? Visit the ' +\n",
              "            '<a target=\"_blank\" href=https://colab.research.google.com/notebooks/data_table.ipynb>data table notebook</a>'\n",
              "            + ' to learn more about interactive tables.';\n",
              "          element.innerHTML = '';\n",
              "          dataTable['output_type'] = 'display_data';\n",
              "          await google.colab.output.renderOutput(dataTable, element);\n",
              "          const docLink = document.createElement('div');\n",
              "          docLink.innerHTML = docLinkHtml;\n",
              "          element.appendChild(docLink);\n",
              "        }\n",
              "      </script>\n",
              "    </div>\n",
              "  </div>\n",
              "  "
            ]
          },
          "metadata": {},
          "execution_count": 5
        }
      ]
    },
    {
      "cell_type": "markdown",
      "source": [
        "# **Problem Statement**\n",
        "\n",
        "* Forecast the CocaCola Sales data set. Prepare a document for each model explaining how many dummy variables you have created and RMSE value for each model. Finally which model you will use for Forecasting."
      ],
      "metadata": {
        "id": "x0FfavfhlJc5"
      }
    },
    {
      "cell_type": "markdown",
      "source": [
        "# **EDA**"
      ],
      "metadata": {
        "id": "fX3qO-IwlpKx"
      }
    },
    {
      "cell_type": "code",
      "source": [
        "df.info()"
      ],
      "metadata": {
        "colab": {
          "base_uri": "https://localhost:8080/"
        },
        "id": "QRXIF5WSlC5n",
        "outputId": "726ae924-8f42-44c2-bd1b-65eb145a214e"
      },
      "execution_count": 6,
      "outputs": [
        {
          "output_type": "stream",
          "name": "stdout",
          "text": [
            "<class 'pandas.core.frame.DataFrame'>\n",
            "RangeIndex: 42 entries, 0 to 41\n",
            "Data columns (total 2 columns):\n",
            " #   Column   Non-Null Count  Dtype  \n",
            "---  ------   --------------  -----  \n",
            " 0   Quarter  42 non-null     object \n",
            " 1   Sales    42 non-null     float64\n",
            "dtypes: float64(1), object(1)\n",
            "memory usage: 800.0+ bytes\n"
          ]
        }
      ]
    },
    {
      "cell_type": "code",
      "source": [
        "df.describe()"
      ],
      "metadata": {
        "colab": {
          "base_uri": "https://localhost:8080/",
          "height": 300
        },
        "id": "w8UaiJf1lwCI",
        "outputId": "cf206cd3-bbf0-476b-a0a5-c7b81572c3ef"
      },
      "execution_count": 7,
      "outputs": [
        {
          "output_type": "execute_result",
          "data": {
            "text/plain": [
              "             Sales\n",
              "count    42.000000\n",
              "mean   2994.353308\n",
              "std     977.930896\n",
              "min    1547.818996\n",
              "25%    2159.714247\n",
              "50%    2782.376999\n",
              "75%    3609.250000\n",
              "max    5253.000000"
            ],
            "text/html": [
              "\n",
              "  <div id=\"df-12cc73ff-b149-4f04-a04d-c1202ac2fd0b\">\n",
              "    <div class=\"colab-df-container\">\n",
              "      <div>\n",
              "<style scoped>\n",
              "    .dataframe tbody tr th:only-of-type {\n",
              "        vertical-align: middle;\n",
              "    }\n",
              "\n",
              "    .dataframe tbody tr th {\n",
              "        vertical-align: top;\n",
              "    }\n",
              "\n",
              "    .dataframe thead th {\n",
              "        text-align: right;\n",
              "    }\n",
              "</style>\n",
              "<table border=\"1\" class=\"dataframe\">\n",
              "  <thead>\n",
              "    <tr style=\"text-align: right;\">\n",
              "      <th></th>\n",
              "      <th>Sales</th>\n",
              "    </tr>\n",
              "  </thead>\n",
              "  <tbody>\n",
              "    <tr>\n",
              "      <th>count</th>\n",
              "      <td>42.000000</td>\n",
              "    </tr>\n",
              "    <tr>\n",
              "      <th>mean</th>\n",
              "      <td>2994.353308</td>\n",
              "    </tr>\n",
              "    <tr>\n",
              "      <th>std</th>\n",
              "      <td>977.930896</td>\n",
              "    </tr>\n",
              "    <tr>\n",
              "      <th>min</th>\n",
              "      <td>1547.818996</td>\n",
              "    </tr>\n",
              "    <tr>\n",
              "      <th>25%</th>\n",
              "      <td>2159.714247</td>\n",
              "    </tr>\n",
              "    <tr>\n",
              "      <th>50%</th>\n",
              "      <td>2782.376999</td>\n",
              "    </tr>\n",
              "    <tr>\n",
              "      <th>75%</th>\n",
              "      <td>3609.250000</td>\n",
              "    </tr>\n",
              "    <tr>\n",
              "      <th>max</th>\n",
              "      <td>5253.000000</td>\n",
              "    </tr>\n",
              "  </tbody>\n",
              "</table>\n",
              "</div>\n",
              "      <button class=\"colab-df-convert\" onclick=\"convertToInteractive('df-12cc73ff-b149-4f04-a04d-c1202ac2fd0b')\"\n",
              "              title=\"Convert this dataframe to an interactive table.\"\n",
              "              style=\"display:none;\">\n",
              "        \n",
              "  <svg xmlns=\"http://www.w3.org/2000/svg\" height=\"24px\"viewBox=\"0 0 24 24\"\n",
              "       width=\"24px\">\n",
              "    <path d=\"M0 0h24v24H0V0z\" fill=\"none\"/>\n",
              "    <path d=\"M18.56 5.44l.94 2.06.94-2.06 2.06-.94-2.06-.94-.94-2.06-.94 2.06-2.06.94zm-11 1L8.5 8.5l.94-2.06 2.06-.94-2.06-.94L8.5 2.5l-.94 2.06-2.06.94zm10 10l.94 2.06.94-2.06 2.06-.94-2.06-.94-.94-2.06-.94 2.06-2.06.94z\"/><path d=\"M17.41 7.96l-1.37-1.37c-.4-.4-.92-.59-1.43-.59-.52 0-1.04.2-1.43.59L10.3 9.45l-7.72 7.72c-.78.78-.78 2.05 0 2.83L4 21.41c.39.39.9.59 1.41.59.51 0 1.02-.2 1.41-.59l7.78-7.78 2.81-2.81c.8-.78.8-2.07 0-2.86zM5.41 20L4 18.59l7.72-7.72 1.47 1.35L5.41 20z\"/>\n",
              "  </svg>\n",
              "      </button>\n",
              "      \n",
              "  <style>\n",
              "    .colab-df-container {\n",
              "      display:flex;\n",
              "      flex-wrap:wrap;\n",
              "      gap: 12px;\n",
              "    }\n",
              "\n",
              "    .colab-df-convert {\n",
              "      background-color: #E8F0FE;\n",
              "      border: none;\n",
              "      border-radius: 50%;\n",
              "      cursor: pointer;\n",
              "      display: none;\n",
              "      fill: #1967D2;\n",
              "      height: 32px;\n",
              "      padding: 0 0 0 0;\n",
              "      width: 32px;\n",
              "    }\n",
              "\n",
              "    .colab-df-convert:hover {\n",
              "      background-color: #E2EBFA;\n",
              "      box-shadow: 0px 1px 2px rgba(60, 64, 67, 0.3), 0px 1px 3px 1px rgba(60, 64, 67, 0.15);\n",
              "      fill: #174EA6;\n",
              "    }\n",
              "\n",
              "    [theme=dark] .colab-df-convert {\n",
              "      background-color: #3B4455;\n",
              "      fill: #D2E3FC;\n",
              "    }\n",
              "\n",
              "    [theme=dark] .colab-df-convert:hover {\n",
              "      background-color: #434B5C;\n",
              "      box-shadow: 0px 1px 3px 1px rgba(0, 0, 0, 0.15);\n",
              "      filter: drop-shadow(0px 1px 2px rgba(0, 0, 0, 0.3));\n",
              "      fill: #FFFFFF;\n",
              "    }\n",
              "  </style>\n",
              "\n",
              "      <script>\n",
              "        const buttonEl =\n",
              "          document.querySelector('#df-12cc73ff-b149-4f04-a04d-c1202ac2fd0b button.colab-df-convert');\n",
              "        buttonEl.style.display =\n",
              "          google.colab.kernel.accessAllowed ? 'block' : 'none';\n",
              "\n",
              "        async function convertToInteractive(key) {\n",
              "          const element = document.querySelector('#df-12cc73ff-b149-4f04-a04d-c1202ac2fd0b');\n",
              "          const dataTable =\n",
              "            await google.colab.kernel.invokeFunction('convertToInteractive',\n",
              "                                                     [key], {});\n",
              "          if (!dataTable) return;\n",
              "\n",
              "          const docLinkHtml = 'Like what you see? Visit the ' +\n",
              "            '<a target=\"_blank\" href=https://colab.research.google.com/notebooks/data_table.ipynb>data table notebook</a>'\n",
              "            + ' to learn more about interactive tables.';\n",
              "          element.innerHTML = '';\n",
              "          dataTable['output_type'] = 'display_data';\n",
              "          await google.colab.output.renderOutput(dataTable, element);\n",
              "          const docLink = document.createElement('div');\n",
              "          docLink.innerHTML = docLinkHtml;\n",
              "          element.appendChild(docLink);\n",
              "        }\n",
              "      </script>\n",
              "    </div>\n",
              "  </div>\n",
              "  "
            ]
          },
          "metadata": {},
          "execution_count": 7
        }
      ]
    },
    {
      "cell_type": "code",
      "source": [
        "df.isnull().sum()"
      ],
      "metadata": {
        "colab": {
          "base_uri": "https://localhost:8080/"
        },
        "id": "tLdsK2ZGlxN8",
        "outputId": "d0e8c105-ebc7-4f56-f381-5a1f9422254f"
      },
      "execution_count": 8,
      "outputs": [
        {
          "output_type": "execute_result",
          "data": {
            "text/plain": [
              "Quarter    0\n",
              "Sales      0\n",
              "dtype: int64"
            ]
          },
          "metadata": {},
          "execution_count": 8
        }
      ]
    },
    {
      "cell_type": "code",
      "source": [
        "index = pd.date_range(start='1986-1-1', periods=42, freq='Q')\n",
        "df[\"Time\"] = index\n",
        "df.set_index(\"Time\", inplace=True)"
      ],
      "metadata": {
        "id": "dIFCkstyRs9B"
      },
      "execution_count": 9,
      "outputs": []
    },
    {
      "cell_type": "code",
      "source": [
        "df = df.drop([\"Quarter\"], axis=1)"
      ],
      "metadata": {
        "id": "P9qwa7i4RtsS"
      },
      "execution_count": 10,
      "outputs": []
    },
    {
      "cell_type": "markdown",
      "source": [
        "# **Time Series**\n",
        "\n",
        "---\n",
        "\n"
      ],
      "metadata": {
        "id": "agr_eF3UmgDq"
      }
    },
    {
      "cell_type": "code",
      "source": [
        "fig = px.line(df)\n",
        "fig.show()"
      ],
      "metadata": {
        "colab": {
          "base_uri": "https://localhost:8080/",
          "height": 542
        },
        "id": "9ZzFIQDfB3hc",
        "outputId": "9a2c8de5-5088-484f-b2fa-e0c506ad72f7"
      },
      "execution_count": 11,
      "outputs": [
        {
          "output_type": "display_data",
          "data": {
            "text/html": [
              "<html>\n",
              "<head><meta charset=\"utf-8\" /></head>\n",
              "<body>\n",
              "    <div>            <script src=\"https://cdnjs.cloudflare.com/ajax/libs/mathjax/2.7.5/MathJax.js?config=TeX-AMS-MML_SVG\"></script><script type=\"text/javascript\">if (window.MathJax) {MathJax.Hub.Config({SVG: {font: \"STIX-Web\"}});}</script>                <script type=\"text/javascript\">window.PlotlyConfig = {MathJaxConfig: 'local'};</script>\n",
              "        <script src=\"https://cdn.plot.ly/plotly-2.8.3.min.js\"></script>                <div id=\"1803fd64-ceee-4eb6-a149-dac788ac97f1\" class=\"plotly-graph-div\" style=\"height:525px; width:100%;\"></div>            <script type=\"text/javascript\">                                    window.PLOTLYENV=window.PLOTLYENV || {};                                    if (document.getElementById(\"1803fd64-ceee-4eb6-a149-dac788ac97f1\")) {                    Plotly.newPlot(                        \"1803fd64-ceee-4eb6-a149-dac788ac97f1\",                        [{\"hovertemplate\":\"variable=Sales<br>Time=%{x}<br>value=%{y}<extra></extra>\",\"legendgroup\":\"Sales\",\"line\":{\"color\":\"#636efa\",\"dash\":\"solid\"},\"marker\":{\"symbol\":\"circle\"},\"mode\":\"lines\",\"name\":\"Sales\",\"orientation\":\"v\",\"showlegend\":true,\"x\":[\"1986-03-31T00:00:00\",\"1986-06-30T00:00:00\",\"1986-09-30T00:00:00\",\"1986-12-31T00:00:00\",\"1987-03-31T00:00:00\",\"1987-06-30T00:00:00\",\"1987-09-30T00:00:00\",\"1987-12-31T00:00:00\",\"1988-03-31T00:00:00\",\"1988-06-30T00:00:00\",\"1988-09-30T00:00:00\",\"1988-12-31T00:00:00\",\"1989-03-31T00:00:00\",\"1989-06-30T00:00:00\",\"1989-09-30T00:00:00\",\"1989-12-31T00:00:00\",\"1990-03-31T00:00:00\",\"1990-06-30T00:00:00\",\"1990-09-30T00:00:00\",\"1990-12-31T00:00:00\",\"1991-03-31T00:00:00\",\"1991-06-30T00:00:00\",\"1991-09-30T00:00:00\",\"1991-12-31T00:00:00\",\"1992-03-31T00:00:00\",\"1992-06-30T00:00:00\",\"1992-09-30T00:00:00\",\"1992-12-31T00:00:00\",\"1993-03-31T00:00:00\",\"1993-06-30T00:00:00\",\"1993-09-30T00:00:00\",\"1993-12-31T00:00:00\",\"1994-03-31T00:00:00\",\"1994-06-30T00:00:00\",\"1994-09-30T00:00:00\",\"1994-12-31T00:00:00\",\"1995-03-31T00:00:00\",\"1995-06-30T00:00:00\",\"1995-09-30T00:00:00\",\"1995-12-31T00:00:00\",\"1996-03-31T00:00:00\",\"1996-06-30T00:00:00\"],\"xaxis\":\"x\",\"y\":[1734.8269996643066,2244.9609985351562,2533.8049926757812,2154.9629974365234,1547.8189964294434,2104.411994934082,2014.3629989624023,1991.746997833252,1869.0499992370605,2313.631996154785,2128.319999694824,2026.8289985656738,1910.6039962768555,2331.164993286133,2206.5499954223633,2173.9679946899414,2148.2779998779297,2739.3079986572266,2792.7539978027344,2556.009994506836,2480.9739990234375,3039.522994995117,3172.115997314453,2879.0009994506836,2772.0,3550.0,3508.0,3243.859992980957,3056.0,3899.0,3629.0,3373.0,3352.0,4342.0,4461.0,4017.0,3854.0,4936.0,4895.0,4333.0,4194.0,5253.0],\"yaxis\":\"y\",\"type\":\"scatter\"}],                        {\"template\":{\"data\":{\"bar\":[{\"error_x\":{\"color\":\"#2a3f5f\"},\"error_y\":{\"color\":\"#2a3f5f\"},\"marker\":{\"line\":{\"color\":\"#E5ECF6\",\"width\":0.5},\"pattern\":{\"fillmode\":\"overlay\",\"size\":10,\"solidity\":0.2}},\"type\":\"bar\"}],\"barpolar\":[{\"marker\":{\"line\":{\"color\":\"#E5ECF6\",\"width\":0.5},\"pattern\":{\"fillmode\":\"overlay\",\"size\":10,\"solidity\":0.2}},\"type\":\"barpolar\"}],\"carpet\":[{\"aaxis\":{\"endlinecolor\":\"#2a3f5f\",\"gridcolor\":\"white\",\"linecolor\":\"white\",\"minorgridcolor\":\"white\",\"startlinecolor\":\"#2a3f5f\"},\"baxis\":{\"endlinecolor\":\"#2a3f5f\",\"gridcolor\":\"white\",\"linecolor\":\"white\",\"minorgridcolor\":\"white\",\"startlinecolor\":\"#2a3f5f\"},\"type\":\"carpet\"}],\"choropleth\":[{\"colorbar\":{\"outlinewidth\":0,\"ticks\":\"\"},\"type\":\"choropleth\"}],\"contour\":[{\"colorbar\":{\"outlinewidth\":0,\"ticks\":\"\"},\"colorscale\":[[0.0,\"#0d0887\"],[0.1111111111111111,\"#46039f\"],[0.2222222222222222,\"#7201a8\"],[0.3333333333333333,\"#9c179e\"],[0.4444444444444444,\"#bd3786\"],[0.5555555555555556,\"#d8576b\"],[0.6666666666666666,\"#ed7953\"],[0.7777777777777778,\"#fb9f3a\"],[0.8888888888888888,\"#fdca26\"],[1.0,\"#f0f921\"]],\"type\":\"contour\"}],\"contourcarpet\":[{\"colorbar\":{\"outlinewidth\":0,\"ticks\":\"\"},\"type\":\"contourcarpet\"}],\"heatmap\":[{\"colorbar\":{\"outlinewidth\":0,\"ticks\":\"\"},\"colorscale\":[[0.0,\"#0d0887\"],[0.1111111111111111,\"#46039f\"],[0.2222222222222222,\"#7201a8\"],[0.3333333333333333,\"#9c179e\"],[0.4444444444444444,\"#bd3786\"],[0.5555555555555556,\"#d8576b\"],[0.6666666666666666,\"#ed7953\"],[0.7777777777777778,\"#fb9f3a\"],[0.8888888888888888,\"#fdca26\"],[1.0,\"#f0f921\"]],\"type\":\"heatmap\"}],\"heatmapgl\":[{\"colorbar\":{\"outlinewidth\":0,\"ticks\":\"\"},\"colorscale\":[[0.0,\"#0d0887\"],[0.1111111111111111,\"#46039f\"],[0.2222222222222222,\"#7201a8\"],[0.3333333333333333,\"#9c179e\"],[0.4444444444444444,\"#bd3786\"],[0.5555555555555556,\"#d8576b\"],[0.6666666666666666,\"#ed7953\"],[0.7777777777777778,\"#fb9f3a\"],[0.8888888888888888,\"#fdca26\"],[1.0,\"#f0f921\"]],\"type\":\"heatmapgl\"}],\"histogram\":[{\"marker\":{\"pattern\":{\"fillmode\":\"overlay\",\"size\":10,\"solidity\":0.2}},\"type\":\"histogram\"}],\"histogram2d\":[{\"colorbar\":{\"outlinewidth\":0,\"ticks\":\"\"},\"colorscale\":[[0.0,\"#0d0887\"],[0.1111111111111111,\"#46039f\"],[0.2222222222222222,\"#7201a8\"],[0.3333333333333333,\"#9c179e\"],[0.4444444444444444,\"#bd3786\"],[0.5555555555555556,\"#d8576b\"],[0.6666666666666666,\"#ed7953\"],[0.7777777777777778,\"#fb9f3a\"],[0.8888888888888888,\"#fdca26\"],[1.0,\"#f0f921\"]],\"type\":\"histogram2d\"}],\"histogram2dcontour\":[{\"colorbar\":{\"outlinewidth\":0,\"ticks\":\"\"},\"colorscale\":[[0.0,\"#0d0887\"],[0.1111111111111111,\"#46039f\"],[0.2222222222222222,\"#7201a8\"],[0.3333333333333333,\"#9c179e\"],[0.4444444444444444,\"#bd3786\"],[0.5555555555555556,\"#d8576b\"],[0.6666666666666666,\"#ed7953\"],[0.7777777777777778,\"#fb9f3a\"],[0.8888888888888888,\"#fdca26\"],[1.0,\"#f0f921\"]],\"type\":\"histogram2dcontour\"}],\"mesh3d\":[{\"colorbar\":{\"outlinewidth\":0,\"ticks\":\"\"},\"type\":\"mesh3d\"}],\"parcoords\":[{\"line\":{\"colorbar\":{\"outlinewidth\":0,\"ticks\":\"\"}},\"type\":\"parcoords\"}],\"pie\":[{\"automargin\":true,\"type\":\"pie\"}],\"scatter\":[{\"marker\":{\"colorbar\":{\"outlinewidth\":0,\"ticks\":\"\"}},\"type\":\"scatter\"}],\"scatter3d\":[{\"line\":{\"colorbar\":{\"outlinewidth\":0,\"ticks\":\"\"}},\"marker\":{\"colorbar\":{\"outlinewidth\":0,\"ticks\":\"\"}},\"type\":\"scatter3d\"}],\"scattercarpet\":[{\"marker\":{\"colorbar\":{\"outlinewidth\":0,\"ticks\":\"\"}},\"type\":\"scattercarpet\"}],\"scattergeo\":[{\"marker\":{\"colorbar\":{\"outlinewidth\":0,\"ticks\":\"\"}},\"type\":\"scattergeo\"}],\"scattergl\":[{\"marker\":{\"colorbar\":{\"outlinewidth\":0,\"ticks\":\"\"}},\"type\":\"scattergl\"}],\"scattermapbox\":[{\"marker\":{\"colorbar\":{\"outlinewidth\":0,\"ticks\":\"\"}},\"type\":\"scattermapbox\"}],\"scatterpolar\":[{\"marker\":{\"colorbar\":{\"outlinewidth\":0,\"ticks\":\"\"}},\"type\":\"scatterpolar\"}],\"scatterpolargl\":[{\"marker\":{\"colorbar\":{\"outlinewidth\":0,\"ticks\":\"\"}},\"type\":\"scatterpolargl\"}],\"scatterternary\":[{\"marker\":{\"colorbar\":{\"outlinewidth\":0,\"ticks\":\"\"}},\"type\":\"scatterternary\"}],\"surface\":[{\"colorbar\":{\"outlinewidth\":0,\"ticks\":\"\"},\"colorscale\":[[0.0,\"#0d0887\"],[0.1111111111111111,\"#46039f\"],[0.2222222222222222,\"#7201a8\"],[0.3333333333333333,\"#9c179e\"],[0.4444444444444444,\"#bd3786\"],[0.5555555555555556,\"#d8576b\"],[0.6666666666666666,\"#ed7953\"],[0.7777777777777778,\"#fb9f3a\"],[0.8888888888888888,\"#fdca26\"],[1.0,\"#f0f921\"]],\"type\":\"surface\"}],\"table\":[{\"cells\":{\"fill\":{\"color\":\"#EBF0F8\"},\"line\":{\"color\":\"white\"}},\"header\":{\"fill\":{\"color\":\"#C8D4E3\"},\"line\":{\"color\":\"white\"}},\"type\":\"table\"}]},\"layout\":{\"annotationdefaults\":{\"arrowcolor\":\"#2a3f5f\",\"arrowhead\":0,\"arrowwidth\":1},\"autotypenumbers\":\"strict\",\"coloraxis\":{\"colorbar\":{\"outlinewidth\":0,\"ticks\":\"\"}},\"colorscale\":{\"diverging\":[[0,\"#8e0152\"],[0.1,\"#c51b7d\"],[0.2,\"#de77ae\"],[0.3,\"#f1b6da\"],[0.4,\"#fde0ef\"],[0.5,\"#f7f7f7\"],[0.6,\"#e6f5d0\"],[0.7,\"#b8e186\"],[0.8,\"#7fbc41\"],[0.9,\"#4d9221\"],[1,\"#276419\"]],\"sequential\":[[0.0,\"#0d0887\"],[0.1111111111111111,\"#46039f\"],[0.2222222222222222,\"#7201a8\"],[0.3333333333333333,\"#9c179e\"],[0.4444444444444444,\"#bd3786\"],[0.5555555555555556,\"#d8576b\"],[0.6666666666666666,\"#ed7953\"],[0.7777777777777778,\"#fb9f3a\"],[0.8888888888888888,\"#fdca26\"],[1.0,\"#f0f921\"]],\"sequentialminus\":[[0.0,\"#0d0887\"],[0.1111111111111111,\"#46039f\"],[0.2222222222222222,\"#7201a8\"],[0.3333333333333333,\"#9c179e\"],[0.4444444444444444,\"#bd3786\"],[0.5555555555555556,\"#d8576b\"],[0.6666666666666666,\"#ed7953\"],[0.7777777777777778,\"#fb9f3a\"],[0.8888888888888888,\"#fdca26\"],[1.0,\"#f0f921\"]]},\"colorway\":[\"#636efa\",\"#EF553B\",\"#00cc96\",\"#ab63fa\",\"#FFA15A\",\"#19d3f3\",\"#FF6692\",\"#B6E880\",\"#FF97FF\",\"#FECB52\"],\"font\":{\"color\":\"#2a3f5f\"},\"geo\":{\"bgcolor\":\"white\",\"lakecolor\":\"white\",\"landcolor\":\"#E5ECF6\",\"showlakes\":true,\"showland\":true,\"subunitcolor\":\"white\"},\"hoverlabel\":{\"align\":\"left\"},\"hovermode\":\"closest\",\"mapbox\":{\"style\":\"light\"},\"paper_bgcolor\":\"white\",\"plot_bgcolor\":\"#E5ECF6\",\"polar\":{\"angularaxis\":{\"gridcolor\":\"white\",\"linecolor\":\"white\",\"ticks\":\"\"},\"bgcolor\":\"#E5ECF6\",\"radialaxis\":{\"gridcolor\":\"white\",\"linecolor\":\"white\",\"ticks\":\"\"}},\"scene\":{\"xaxis\":{\"backgroundcolor\":\"#E5ECF6\",\"gridcolor\":\"white\",\"gridwidth\":2,\"linecolor\":\"white\",\"showbackground\":true,\"ticks\":\"\",\"zerolinecolor\":\"white\"},\"yaxis\":{\"backgroundcolor\":\"#E5ECF6\",\"gridcolor\":\"white\",\"gridwidth\":2,\"linecolor\":\"white\",\"showbackground\":true,\"ticks\":\"\",\"zerolinecolor\":\"white\"},\"zaxis\":{\"backgroundcolor\":\"#E5ECF6\",\"gridcolor\":\"white\",\"gridwidth\":2,\"linecolor\":\"white\",\"showbackground\":true,\"ticks\":\"\",\"zerolinecolor\":\"white\"}},\"shapedefaults\":{\"line\":{\"color\":\"#2a3f5f\"}},\"ternary\":{\"aaxis\":{\"gridcolor\":\"white\",\"linecolor\":\"white\",\"ticks\":\"\"},\"baxis\":{\"gridcolor\":\"white\",\"linecolor\":\"white\",\"ticks\":\"\"},\"bgcolor\":\"#E5ECF6\",\"caxis\":{\"gridcolor\":\"white\",\"linecolor\":\"white\",\"ticks\":\"\"}},\"title\":{\"x\":0.05},\"xaxis\":{\"automargin\":true,\"gridcolor\":\"white\",\"linecolor\":\"white\",\"ticks\":\"\",\"title\":{\"standoff\":15},\"zerolinecolor\":\"white\",\"zerolinewidth\":2},\"yaxis\":{\"automargin\":true,\"gridcolor\":\"white\",\"linecolor\":\"white\",\"ticks\":\"\",\"title\":{\"standoff\":15},\"zerolinecolor\":\"white\",\"zerolinewidth\":2}}},\"xaxis\":{\"anchor\":\"y\",\"domain\":[0.0,1.0],\"title\":{\"text\":\"Time\"}},\"yaxis\":{\"anchor\":\"x\",\"domain\":[0.0,1.0],\"title\":{\"text\":\"value\"}},\"legend\":{\"title\":{\"text\":\"variable\"},\"tracegroupgap\":0},\"margin\":{\"t\":60}},                        {\"responsive\": true}                    ).then(function(){\n",
              "                            \n",
              "var gd = document.getElementById('1803fd64-ceee-4eb6-a149-dac788ac97f1');\n",
              "var x = new MutationObserver(function (mutations, observer) {{\n",
              "        var display = window.getComputedStyle(gd).display;\n",
              "        if (!display || display === 'none') {{\n",
              "            console.log([gd, 'removed!']);\n",
              "            Plotly.purge(gd);\n",
              "            observer.disconnect();\n",
              "        }}\n",
              "}});\n",
              "\n",
              "// Listen for the removal of the full notebook cells\n",
              "var notebookContainer = gd.closest('#notebook-container');\n",
              "if (notebookContainer) {{\n",
              "    x.observe(notebookContainer, {childList: true});\n",
              "}}\n",
              "\n",
              "// Listen for the clearing of the current output cell\n",
              "var outputEl = gd.closest('.output');\n",
              "if (outputEl) {{\n",
              "    x.observe(outputEl, {childList: true});\n",
              "}}\n",
              "\n",
              "                        })                };                            </script>        </div>\n",
              "</body>\n",
              "</html>"
            ]
          },
          "metadata": {}
        }
      ]
    },
    {
      "cell_type": "markdown",
      "source": [
        "# **Mann-Kendall Test - to detect Trend**"
      ],
      "metadata": {
        "id": "gm2Ub8YfCDVo"
      }
    },
    {
      "cell_type": "markdown",
      "source": [
        "### **Hypothesis :**\n",
        ">H0 : There is no Trend\n",
        "\n",
        ">H1 : There is Trend"
      ],
      "metadata": {
        "id": "yCAmJ7mlCJYP"
      }
    },
    {
      "cell_type": "code",
      "source": [
        "mk.original_test(df)"
      ],
      "metadata": {
        "colab": {
          "base_uri": "https://localhost:8080/"
        },
        "id": "k5IGOj4sB3e2",
        "outputId": "5170df2a-1249-4031-fe8f-223004b494df"
      },
      "execution_count": 12,
      "outputs": [
        {
          "output_type": "execute_result",
          "data": {
            "text/plain": [
              "Mann_Kendall_Test(trend='increasing', h=True, p=2.177369395894857e-12, z=7.022628287809829, Tau=0.7537746806039489, s=649.0, var_s=8514.333333333334, slope=72.2794002532959, intercept=1300.6492937088012)"
            ]
          },
          "metadata": {},
          "execution_count": 12
        }
      ]
    },
    {
      "cell_type": "code",
      "source": [
        "mk.original_test(df)[2]"
      ],
      "metadata": {
        "colab": {
          "base_uri": "https://localhost:8080/"
        },
        "id": "AiQsVMDjmzxW",
        "outputId": "cf6aece4-331e-4c92-c7ca-72fb277d13ea"
      },
      "execution_count": 13,
      "outputs": [
        {
          "output_type": "execute_result",
          "data": {
            "text/plain": [
              "2.177369395894857e-12"
            ]
          },
          "metadata": {},
          "execution_count": 13
        }
      ]
    },
    {
      "cell_type": "markdown",
      "source": [
        "### **Conclusion :**\n",
        "* The p-value is less than 0.05, hence we reject H0 and conclude that the the trend is present in the data."
      ],
      "metadata": {
        "id": "nqrE306WCQS1"
      }
    },
    {
      "cell_type": "markdown",
      "source": [
        "# **Augmented Dickey-fuller Test - to detect Stationarity**"
      ],
      "metadata": {
        "id": "eB_B2JHSCTwX"
      }
    },
    {
      "cell_type": "markdown",
      "source": [
        "### **Hypothesis:**\n",
        ">H0 : The data is non-stationary\n",
        "\n",
        ">H1 : The data is stationary"
      ],
      "metadata": {
        "id": "rYIuHS-zCXC6"
      }
    },
    {
      "cell_type": "code",
      "source": [
        "result = adfuller(df)\n",
        "print('ADF Statistic: %f' % result[0])\n",
        "print('p-value: %f' % result[1])"
      ],
      "metadata": {
        "colab": {
          "base_uri": "https://localhost:8080/"
        },
        "id": "GFJCHsM-B3ci",
        "outputId": "1eac9002-655b-40bb-8cc8-adc3a7a67ab9"
      },
      "execution_count": 14,
      "outputs": [
        {
          "output_type": "stream",
          "name": "stdout",
          "text": [
            "ADF Statistic: 1.309421\n",
            "p-value: 0.996661\n"
          ]
        }
      ]
    },
    {
      "cell_type": "markdown",
      "source": [
        "###**Conclusion :**\n",
        "\n",
        "* The p-value is greater than 0.05, hence we do not reject H0 and conclude that the data is non-stationary.\n"
      ],
      "metadata": {
        "id": "G-iBMwEzCeni"
      }
    },
    {
      "cell_type": "markdown",
      "source": [
        "# **Decomposition - to find the type of model**\n",
        "\n",
        "* A rule of thumb for selecting the right model is to see in our plot if the trend and seasonal variation are relatively constant over time, in other words, linear. If yes, then we will select the Additive model. Otherwise, if the trend and seasonal variation increase or decrease over time then we use the Multiplicative model.\n",
        "\n",
        "\n"
      ],
      "metadata": {
        "id": "77hr_jo1ChyH"
      }
    },
    {
      "cell_type": "code",
      "source": [
        "types = [\"additive\", \"multiplicative\"]\n",
        "for i in types:\n",
        "    print(f'{i} \\n\\n')\n",
        "    seasonal_decomposition = seasonal_decompose(df, model = i , period=12)\n",
        "    seasonal_decomposition_fig = seasonal_decomposition.plot()\n",
        "    seasonal_decomposition_fig = plotly.tools.mpl_to_plotly(seasonal_decomposition_fig)\n",
        "    seasonal_decomposition_fig.update_layout(width = 800, height = 700, title = i)\n",
        "    seasonal_decomposition_fig.show()\n",
        "    print(\"\\n\\n\")"
      ],
      "metadata": {
        "colab": {
          "base_uri": "https://localhost:8080/",
          "height": 1000
        },
        "id": "euqzOylxB3aE",
        "outputId": "74329879-2cfe-474b-dbeb-1ff0b7c3d04d"
      },
      "execution_count": 15,
      "outputs": [
        {
          "output_type": "stream",
          "name": "stdout",
          "text": [
            "additive \n",
            "\n",
            "\n"
          ]
        },
        {
          "output_type": "display_data",
          "data": {
            "text/html": [
              "<html>\n",
              "<head><meta charset=\"utf-8\" /></head>\n",
              "<body>\n",
              "    <div>            <script src=\"https://cdnjs.cloudflare.com/ajax/libs/mathjax/2.7.5/MathJax.js?config=TeX-AMS-MML_SVG\"></script><script type=\"text/javascript\">if (window.MathJax) {MathJax.Hub.Config({SVG: {font: \"STIX-Web\"}});}</script>                <script type=\"text/javascript\">window.PlotlyConfig = {MathJaxConfig: 'local'};</script>\n",
              "        <script src=\"https://cdn.plot.ly/plotly-2.8.3.min.js\"></script>                <div id=\"634a9235-d356-42fe-b493-54b3f260a770\" class=\"plotly-graph-div\" style=\"height:700px; width:800px;\"></div>            <script type=\"text/javascript\">                                    window.PLOTLYENV=window.PLOTLYENV || {};                                    if (document.getElementById(\"634a9235-d356-42fe-b493-54b3f260a770\")) {                    Plotly.newPlot(                        \"634a9235-d356-42fe-b493-54b3f260a770\",                        [{\"line\":{\"color\":\"rgba (31, 119, 180, 1)\",\"dash\":\"solid\",\"width\":1.5},\"mode\":\"lines\",\"name\":\"_line0\",\"x\":[\"1986-03-31 00:00:00\",\"1986-06-30 00:00:00\",\"1986-09-30 00:00:00\",\"1986-12-31 00:00:00\",\"1987-03-31 00:00:00\",\"1987-06-30 00:00:00\",\"1987-09-30 00:00:00\",\"1987-12-31 00:00:00\",\"1988-03-31 00:00:00\",\"1988-06-30 00:00:00\",\"1988-09-30 00:00:00\",\"1988-12-31 00:00:00\",\"1989-03-31 00:00:00\",\"1989-06-30 00:00:00\",\"1989-09-30 00:00:00\",\"1989-12-31 00:00:00\",\"1990-03-31 00:00:00\",\"1990-06-30 00:00:00\",\"1990-09-30 00:00:00\",\"1990-12-31 00:00:00\",\"1991-03-31 00:00:00\",\"1991-06-30 00:00:00\",\"1991-09-30 00:00:00\",\"1991-12-31 00:00:00\",\"1992-03-31 00:00:00\",\"1992-06-30 00:00:00\",\"1992-09-30 00:00:00\",\"1992-12-31 00:00:00\",\"1993-03-31 00:00:00\",\"1993-06-30 00:00:00\",\"1993-09-30 00:00:00\",\"1993-12-31 00:00:00\",\"1994-03-31 00:00:00\",\"1994-06-30 00:00:00\",\"1994-09-30 00:00:00\",\"1994-12-31 00:00:00\",\"1995-03-31 00:00:00\",\"1995-06-30 00:00:00\",\"1995-09-30 00:00:00\",\"1995-12-31 00:00:00\",\"1996-03-31 00:00:00\",\"1996-06-30 00:00:00\"],\"xaxis\":\"x\",\"y\":[1734.8269996643066,2244.9609985351562,2533.8049926757812,2154.9629974365234,1547.8189964294434,2104.411994934082,2014.3629989624023,1991.746997833252,1869.0499992370605,2313.631996154785,2128.319999694824,2026.8289985656738,1910.6039962768555,2331.164993286133,2206.5499954223633,2173.9679946899414,2148.2779998779297,2739.3079986572266,2792.7539978027344,2556.009994506836,2480.9739990234375,3039.522994995117,3172.115997314453,2879.0009994506836,2772.0,3550.0,3508.0,3243.859992980957,3056.0,3899.0,3629.0,3373.0,3352.0,4342.0,4461.0,4017.0,3854.0,4936.0,4895.0,4333.0,4194.0,5253.0],\"yaxis\":\"y\",\"type\":\"scatter\"},{\"line\":{\"color\":\"rgba (31, 119, 180, 1)\",\"dash\":\"solid\",\"width\":1.5},\"mode\":\"lines\",\"name\":\"_line0\",\"x\":[\"1986-03-31 00:00:00\",\"1986-06-30 00:00:00\",\"1986-09-30 00:00:00\",\"1986-12-31 00:00:00\",\"1987-03-31 00:00:00\",\"1987-06-30 00:00:00\",\"1987-09-30 00:00:00\",\"1987-12-31 00:00:00\",\"1988-03-31 00:00:00\",\"1988-06-30 00:00:00\",\"1988-09-30 00:00:00\",\"1988-12-31 00:00:00\",\"1989-03-31 00:00:00\",\"1989-06-30 00:00:00\",\"1989-09-30 00:00:00\",\"1989-12-31 00:00:00\",\"1990-03-31 00:00:00\",\"1990-06-30 00:00:00\",\"1990-09-30 00:00:00\",\"1990-12-31 00:00:00\",\"1991-03-31 00:00:00\",\"1991-06-30 00:00:00\",\"1991-09-30 00:00:00\",\"1991-12-31 00:00:00\",\"1992-03-31 00:00:00\",\"1992-06-30 00:00:00\",\"1992-09-30 00:00:00\",\"1992-12-31 00:00:00\",\"1993-03-31 00:00:00\",\"1993-06-30 00:00:00\",\"1993-09-30 00:00:00\",\"1993-12-31 00:00:00\",\"1994-03-31 00:00:00\",\"1994-06-30 00:00:00\",\"1994-09-30 00:00:00\",\"1994-12-31 00:00:00\",\"1995-03-31 00:00:00\",\"1995-06-30 00:00:00\",\"1995-09-30 00:00:00\",\"1995-12-31 00:00:00\",\"1996-03-31 00:00:00\",\"1996-06-30 00:00:00\"],\"xaxis\":\"x2\",\"y\":[null,null,null,null,null,null,2062.718039035797,2073.633913675944,2063.590121905009,2050.746371905009,2076.5573719342547,2128.0304972330728,2186.917455673218,2242.861372152964,2291.869163672129,2347.611455281575,2421.3484134674068,2500.3470800717673,2571.74574693044,2658.422039031982,2763.4339145024614,2862.2398312886558,2944.6404145558677,3030.782664616903,3113.9467480977373,3182.831581751505,3253.1655820210767,3343.728207270304,3451.7015825907392,3552.821707725525,3645.321666081747,3748.154999415079,3863.6966660817466,3966.869166374206,4059.666666666666,4163.5,null,null,null,null,null,null],\"yaxis\":\"y2\",\"type\":\"scatter\"},{\"line\":{\"color\":\"rgba (31, 119, 180, 1)\",\"dash\":\"solid\",\"width\":1.5},\"mode\":\"lines\",\"name\":\"_line0\",\"x\":[\"1986-03-31 00:00:00\",\"1986-06-30 00:00:00\",\"1986-09-30 00:00:00\",\"1986-12-31 00:00:00\",\"1987-03-31 00:00:00\",\"1987-06-30 00:00:00\",\"1987-09-30 00:00:00\",\"1987-12-31 00:00:00\",\"1988-03-31 00:00:00\",\"1988-06-30 00:00:00\",\"1988-09-30 00:00:00\",\"1988-12-31 00:00:00\",\"1989-03-31 00:00:00\",\"1989-06-30 00:00:00\",\"1989-09-30 00:00:00\",\"1989-12-31 00:00:00\",\"1990-03-31 00:00:00\",\"1990-06-30 00:00:00\",\"1990-09-30 00:00:00\",\"1990-12-31 00:00:00\",\"1991-03-31 00:00:00\",\"1991-06-30 00:00:00\",\"1991-09-30 00:00:00\",\"1991-12-31 00:00:00\",\"1992-03-31 00:00:00\",\"1992-06-30 00:00:00\",\"1992-09-30 00:00:00\",\"1992-12-31 00:00:00\",\"1993-03-31 00:00:00\",\"1993-06-30 00:00:00\",\"1993-09-30 00:00:00\",\"1993-12-31 00:00:00\",\"1994-03-31 00:00:00\",\"1994-06-30 00:00:00\",\"1994-09-30 00:00:00\",\"1994-12-31 00:00:00\",\"1995-03-31 00:00:00\",\"1995-06-30 00:00:00\",\"1995-09-30 00:00:00\",\"1995-12-31 00:00:00\",\"1996-03-31 00:00:00\",\"1996-06-30 00:00:00\"],\"xaxis\":\"x3\",\"y\":[-286.3229597034278,250.5431637344539,107.56476890820072,-113.94869339686848,-311.57885404648613,315.3767494735892,74.91765894933955,-163.67750921735032,-306.75842403261754,294.57368457096595,249.664325327785,-110.35391056758404,-286.3229597034278,250.5431637344539,107.56476890820072,-113.94869339686848,-311.57885404648613,315.3767494735892,74.91765894933955,-163.67750921735032,-306.75842403261754,294.57368457096595,249.664325327785,-110.35391056758404,-286.3229597034278,250.5431637344539,107.56476890820072,-113.94869339686848,-311.57885404648613,315.3767494735892,74.91765894933955,-163.67750921735032,-306.75842403261754,294.57368457096595,249.664325327785,-110.35391056758404,-286.3229597034278,250.5431637344539,107.56476890820072,-113.94869339686848,-311.57885404648613,315.3767494735892],\"yaxis\":\"y3\",\"type\":\"scatter\"},{\"marker\":{\"color\":\"#1F77B4\",\"line\":{\"color\":\"#1F77B4\",\"width\":1.0},\"opacity\":1,\"size\":6.0,\"symbol\":\"circle\"},\"mode\":\"markers\",\"name\":\"_line0\",\"x\":[\"1986-03-31 00:00:00\",\"1986-06-30 00:00:00\",\"1986-09-30 00:00:00\",\"1986-12-31 00:00:00\",\"1987-03-31 00:00:00\",\"1987-06-30 00:00:00\",\"1987-09-30 00:00:00\",\"1987-12-31 00:00:00\",\"1988-03-31 00:00:00\",\"1988-06-30 00:00:00\",\"1988-09-30 00:00:00\",\"1988-12-31 00:00:00\",\"1989-03-31 00:00:00\",\"1989-06-30 00:00:00\",\"1989-09-30 00:00:00\",\"1989-12-31 00:00:00\",\"1990-03-31 00:00:00\",\"1990-06-30 00:00:00\",\"1990-09-30 00:00:00\",\"1990-12-31 00:00:00\",\"1991-03-31 00:00:00\",\"1991-06-30 00:00:00\",\"1991-09-30 00:00:00\",\"1991-12-31 00:00:00\",\"1992-03-31 00:00:00\",\"1992-06-30 00:00:00\",\"1992-09-30 00:00:00\",\"1992-12-31 00:00:00\",\"1993-03-31 00:00:00\",\"1993-06-30 00:00:00\",\"1993-09-30 00:00:00\",\"1993-12-31 00:00:00\",\"1994-03-31 00:00:00\",\"1994-06-30 00:00:00\",\"1994-09-30 00:00:00\",\"1994-12-31 00:00:00\",\"1995-03-31 00:00:00\",\"1995-06-30 00:00:00\",\"1995-09-30 00:00:00\",\"1995-12-31 00:00:00\",\"1996-03-31 00:00:00\",\"1996-06-30 00:00:00\"],\"xaxis\":\"x4\",\"y\":[null,null,null,null,null,null,-123.27269902273433,81.79059337465841,112.21830136466929,-31.688060321189596,-197.90169756721545,9.1524119001851,10.00950030706548,-162.23954260128522,-192.8839371579666,-59.69476719476533,38.508440457009044,-76.41583088812996,146.09059192295484,61.26546469220429,24.298508553593592,-117.29052086450451,-22.188742569199547,-41.42775459863519,-55.62378839430954,116.62525451404116,147.26964907072255,14.080479107521299,-84.1227285442531,30.801542800885898,-91.23932503108658,-211.47749019772883,-204.93824204912903,80.55714905482796,151.66900800554893,-36.14608943241596,null,null,null,null,null,null],\"yaxis\":\"y4\",\"type\":\"scatter\"},{\"line\":{\"color\":\"rgba (0, 0, 0, 1)\",\"dash\":\"solid\",\"width\":1.5},\"mode\":\"lines\",\"name\":\"_line1\",\"x\":[\"1986-03-31 00:00:00\",\"1996-06-30 00:00:00\"],\"xaxis\":\"x4\",\"y\":[0.0,0.0],\"yaxis\":\"y4\",\"type\":\"scatter\"}],                        {\"autosize\":false,\"height\":700,\"hovermode\":\"closest\",\"width\":800,\"template\":{\"data\":{\"bar\":[{\"error_x\":{\"color\":\"#2a3f5f\"},\"error_y\":{\"color\":\"#2a3f5f\"},\"marker\":{\"line\":{\"color\":\"#E5ECF6\",\"width\":0.5},\"pattern\":{\"fillmode\":\"overlay\",\"size\":10,\"solidity\":0.2}},\"type\":\"bar\"}],\"barpolar\":[{\"marker\":{\"line\":{\"color\":\"#E5ECF6\",\"width\":0.5},\"pattern\":{\"fillmode\":\"overlay\",\"size\":10,\"solidity\":0.2}},\"type\":\"barpolar\"}],\"carpet\":[{\"aaxis\":{\"endlinecolor\":\"#2a3f5f\",\"gridcolor\":\"white\",\"linecolor\":\"white\",\"minorgridcolor\":\"white\",\"startlinecolor\":\"#2a3f5f\"},\"baxis\":{\"endlinecolor\":\"#2a3f5f\",\"gridcolor\":\"white\",\"linecolor\":\"white\",\"minorgridcolor\":\"white\",\"startlinecolor\":\"#2a3f5f\"},\"type\":\"carpet\"}],\"choropleth\":[{\"colorbar\":{\"outlinewidth\":0,\"ticks\":\"\"},\"type\":\"choropleth\"}],\"contour\":[{\"colorbar\":{\"outlinewidth\":0,\"ticks\":\"\"},\"colorscale\":[[0.0,\"#0d0887\"],[0.1111111111111111,\"#46039f\"],[0.2222222222222222,\"#7201a8\"],[0.3333333333333333,\"#9c179e\"],[0.4444444444444444,\"#bd3786\"],[0.5555555555555556,\"#d8576b\"],[0.6666666666666666,\"#ed7953\"],[0.7777777777777778,\"#fb9f3a\"],[0.8888888888888888,\"#fdca26\"],[1.0,\"#f0f921\"]],\"type\":\"contour\"}],\"contourcarpet\":[{\"colorbar\":{\"outlinewidth\":0,\"ticks\":\"\"},\"type\":\"contourcarpet\"}],\"heatmap\":[{\"colorbar\":{\"outlinewidth\":0,\"ticks\":\"\"},\"colorscale\":[[0.0,\"#0d0887\"],[0.1111111111111111,\"#46039f\"],[0.2222222222222222,\"#7201a8\"],[0.3333333333333333,\"#9c179e\"],[0.4444444444444444,\"#bd3786\"],[0.5555555555555556,\"#d8576b\"],[0.6666666666666666,\"#ed7953\"],[0.7777777777777778,\"#fb9f3a\"],[0.8888888888888888,\"#fdca26\"],[1.0,\"#f0f921\"]],\"type\":\"heatmap\"}],\"heatmapgl\":[{\"colorbar\":{\"outlinewidth\":0,\"ticks\":\"\"},\"colorscale\":[[0.0,\"#0d0887\"],[0.1111111111111111,\"#46039f\"],[0.2222222222222222,\"#7201a8\"],[0.3333333333333333,\"#9c179e\"],[0.4444444444444444,\"#bd3786\"],[0.5555555555555556,\"#d8576b\"],[0.6666666666666666,\"#ed7953\"],[0.7777777777777778,\"#fb9f3a\"],[0.8888888888888888,\"#fdca26\"],[1.0,\"#f0f921\"]],\"type\":\"heatmapgl\"}],\"histogram\":[{\"marker\":{\"pattern\":{\"fillmode\":\"overlay\",\"size\":10,\"solidity\":0.2}},\"type\":\"histogram\"}],\"histogram2d\":[{\"colorbar\":{\"outlinewidth\":0,\"ticks\":\"\"},\"colorscale\":[[0.0,\"#0d0887\"],[0.1111111111111111,\"#46039f\"],[0.2222222222222222,\"#7201a8\"],[0.3333333333333333,\"#9c179e\"],[0.4444444444444444,\"#bd3786\"],[0.5555555555555556,\"#d8576b\"],[0.6666666666666666,\"#ed7953\"],[0.7777777777777778,\"#fb9f3a\"],[0.8888888888888888,\"#fdca26\"],[1.0,\"#f0f921\"]],\"type\":\"histogram2d\"}],\"histogram2dcontour\":[{\"colorbar\":{\"outlinewidth\":0,\"ticks\":\"\"},\"colorscale\":[[0.0,\"#0d0887\"],[0.1111111111111111,\"#46039f\"],[0.2222222222222222,\"#7201a8\"],[0.3333333333333333,\"#9c179e\"],[0.4444444444444444,\"#bd3786\"],[0.5555555555555556,\"#d8576b\"],[0.6666666666666666,\"#ed7953\"],[0.7777777777777778,\"#fb9f3a\"],[0.8888888888888888,\"#fdca26\"],[1.0,\"#f0f921\"]],\"type\":\"histogram2dcontour\"}],\"mesh3d\":[{\"colorbar\":{\"outlinewidth\":0,\"ticks\":\"\"},\"type\":\"mesh3d\"}],\"parcoords\":[{\"line\":{\"colorbar\":{\"outlinewidth\":0,\"ticks\":\"\"}},\"type\":\"parcoords\"}],\"pie\":[{\"automargin\":true,\"type\":\"pie\"}],\"scatter\":[{\"marker\":{\"colorbar\":{\"outlinewidth\":0,\"ticks\":\"\"}},\"type\":\"scatter\"}],\"scatter3d\":[{\"line\":{\"colorbar\":{\"outlinewidth\":0,\"ticks\":\"\"}},\"marker\":{\"colorbar\":{\"outlinewidth\":0,\"ticks\":\"\"}},\"type\":\"scatter3d\"}],\"scattercarpet\":[{\"marker\":{\"colorbar\":{\"outlinewidth\":0,\"ticks\":\"\"}},\"type\":\"scattercarpet\"}],\"scattergeo\":[{\"marker\":{\"colorbar\":{\"outlinewidth\":0,\"ticks\":\"\"}},\"type\":\"scattergeo\"}],\"scattergl\":[{\"marker\":{\"colorbar\":{\"outlinewidth\":0,\"ticks\":\"\"}},\"type\":\"scattergl\"}],\"scattermapbox\":[{\"marker\":{\"colorbar\":{\"outlinewidth\":0,\"ticks\":\"\"}},\"type\":\"scattermapbox\"}],\"scatterpolar\":[{\"marker\":{\"colorbar\":{\"outlinewidth\":0,\"ticks\":\"\"}},\"type\":\"scatterpolar\"}],\"scatterpolargl\":[{\"marker\":{\"colorbar\":{\"outlinewidth\":0,\"ticks\":\"\"}},\"type\":\"scatterpolargl\"}],\"scatterternary\":[{\"marker\":{\"colorbar\":{\"outlinewidth\":0,\"ticks\":\"\"}},\"type\":\"scatterternary\"}],\"surface\":[{\"colorbar\":{\"outlinewidth\":0,\"ticks\":\"\"},\"colorscale\":[[0.0,\"#0d0887\"],[0.1111111111111111,\"#46039f\"],[0.2222222222222222,\"#7201a8\"],[0.3333333333333333,\"#9c179e\"],[0.4444444444444444,\"#bd3786\"],[0.5555555555555556,\"#d8576b\"],[0.6666666666666666,\"#ed7953\"],[0.7777777777777778,\"#fb9f3a\"],[0.8888888888888888,\"#fdca26\"],[1.0,\"#f0f921\"]],\"type\":\"surface\"}],\"table\":[{\"cells\":{\"fill\":{\"color\":\"#EBF0F8\"},\"line\":{\"color\":\"white\"}},\"header\":{\"fill\":{\"color\":\"#C8D4E3\"},\"line\":{\"color\":\"white\"}},\"type\":\"table\"}]},\"layout\":{\"annotationdefaults\":{\"arrowcolor\":\"#2a3f5f\",\"arrowhead\":0,\"arrowwidth\":1},\"autotypenumbers\":\"strict\",\"coloraxis\":{\"colorbar\":{\"outlinewidth\":0,\"ticks\":\"\"}},\"colorscale\":{\"diverging\":[[0,\"#8e0152\"],[0.1,\"#c51b7d\"],[0.2,\"#de77ae\"],[0.3,\"#f1b6da\"],[0.4,\"#fde0ef\"],[0.5,\"#f7f7f7\"],[0.6,\"#e6f5d0\"],[0.7,\"#b8e186\"],[0.8,\"#7fbc41\"],[0.9,\"#4d9221\"],[1,\"#276419\"]],\"sequential\":[[0.0,\"#0d0887\"],[0.1111111111111111,\"#46039f\"],[0.2222222222222222,\"#7201a8\"],[0.3333333333333333,\"#9c179e\"],[0.4444444444444444,\"#bd3786\"],[0.5555555555555556,\"#d8576b\"],[0.6666666666666666,\"#ed7953\"],[0.7777777777777778,\"#fb9f3a\"],[0.8888888888888888,\"#fdca26\"],[1.0,\"#f0f921\"]],\"sequentialminus\":[[0.0,\"#0d0887\"],[0.1111111111111111,\"#46039f\"],[0.2222222222222222,\"#7201a8\"],[0.3333333333333333,\"#9c179e\"],[0.4444444444444444,\"#bd3786\"],[0.5555555555555556,\"#d8576b\"],[0.6666666666666666,\"#ed7953\"],[0.7777777777777778,\"#fb9f3a\"],[0.8888888888888888,\"#fdca26\"],[1.0,\"#f0f921\"]]},\"colorway\":[\"#636efa\",\"#EF553B\",\"#00cc96\",\"#ab63fa\",\"#FFA15A\",\"#19d3f3\",\"#FF6692\",\"#B6E880\",\"#FF97FF\",\"#FECB52\"],\"font\":{\"color\":\"#2a3f5f\"},\"geo\":{\"bgcolor\":\"white\",\"lakecolor\":\"white\",\"landcolor\":\"#E5ECF6\",\"showlakes\":true,\"showland\":true,\"subunitcolor\":\"white\"},\"hoverlabel\":{\"align\":\"left\"},\"hovermode\":\"closest\",\"mapbox\":{\"style\":\"light\"},\"paper_bgcolor\":\"white\",\"plot_bgcolor\":\"#E5ECF6\",\"polar\":{\"angularaxis\":{\"gridcolor\":\"white\",\"linecolor\":\"white\",\"ticks\":\"\"},\"bgcolor\":\"#E5ECF6\",\"radialaxis\":{\"gridcolor\":\"white\",\"linecolor\":\"white\",\"ticks\":\"\"}},\"scene\":{\"xaxis\":{\"backgroundcolor\":\"#E5ECF6\",\"gridcolor\":\"white\",\"gridwidth\":2,\"linecolor\":\"white\",\"showbackground\":true,\"ticks\":\"\",\"zerolinecolor\":\"white\"},\"yaxis\":{\"backgroundcolor\":\"#E5ECF6\",\"gridcolor\":\"white\",\"gridwidth\":2,\"linecolor\":\"white\",\"showbackground\":true,\"ticks\":\"\",\"zerolinecolor\":\"white\"},\"zaxis\":{\"backgroundcolor\":\"#E5ECF6\",\"gridcolor\":\"white\",\"gridwidth\":2,\"linecolor\":\"white\",\"showbackground\":true,\"ticks\":\"\",\"zerolinecolor\":\"white\"}},\"shapedefaults\":{\"line\":{\"color\":\"#2a3f5f\"}},\"ternary\":{\"aaxis\":{\"gridcolor\":\"white\",\"linecolor\":\"white\",\"ticks\":\"\"},\"baxis\":{\"gridcolor\":\"white\",\"linecolor\":\"white\",\"ticks\":\"\"},\"bgcolor\":\"#E5ECF6\",\"caxis\":{\"gridcolor\":\"white\",\"linecolor\":\"white\",\"ticks\":\"\"}},\"title\":{\"x\":0.05},\"xaxis\":{\"automargin\":true,\"gridcolor\":\"white\",\"linecolor\":\"white\",\"ticks\":\"\",\"title\":{\"standoff\":15},\"zerolinecolor\":\"white\",\"zerolinewidth\":2},\"yaxis\":{\"automargin\":true,\"gridcolor\":\"white\",\"linecolor\":\"white\",\"ticks\":\"\",\"title\":{\"standoff\":15},\"zerolinecolor\":\"white\",\"zerolinewidth\":2}}},\"margin\":{\"b\":27,\"l\":59,\"pad\":0,\"r\":10,\"t\":10},\"xaxis\":{\"anchor\":\"y\",\"domain\":[0.0,1.0],\"mirror\":\"ticks\",\"nticks\":11,\"range\":[\"1986-03-31 00:00:00\",\"1996-06-30 00:00:00\"],\"showgrid\":false,\"showline\":true,\"side\":\"bottom\",\"tickfont\":{\"size\":10.0},\"ticks\":\"inside\",\"type\":\"date\",\"zeroline\":false},\"yaxis\":{\"anchor\":\"x\",\"domain\":[0.8336006415396953,1.0],\"mirror\":\"ticks\",\"nticks\":4,\"range\":[1362.5599462509156,5438.259050178528],\"showgrid\":false,\"showline\":true,\"side\":\"left\",\"tickfont\":{\"size\":10.0},\"ticks\":\"inside\",\"type\":\"linear\",\"zeroline\":false},\"xaxis2\":{\"anchor\":\"y2\",\"domain\":[0.0,1.0],\"mirror\":\"ticks\",\"nticks\":11,\"range\":[\"1986-03-31 00:00:00\",\"1996-06-30 00:00:00\"],\"showgrid\":false,\"showline\":true,\"side\":\"bottom\",\"tickfont\":{\"size\":10.0},\"ticks\":\"inside\",\"type\":\"date\",\"zeroline\":false},\"yaxis2\":{\"anchor\":\"x2\",\"domain\":[0.5557337610264635,0.7221331194867683],\"mirror\":\"ticks\",\"nticks\":4,\"range\":[1945.1086905002592,4269.13768140475],\"showgrid\":false,\"showline\":true,\"side\":\"left\",\"tickfont\":{\"size\":10.0},\"ticks\":\"inside\",\"type\":\"linear\",\"zeroline\":false,\"title\":{\"text\":\"Trend\",\"font\":{\"color\":\"#000000\",\"size\":10.0}}},\"xaxis3\":{\"anchor\":\"y3\",\"domain\":[0.0,1.0],\"mirror\":\"ticks\",\"nticks\":11,\"range\":[\"1986-03-31 00:00:00\",\"1996-06-30 00:00:00\"],\"showgrid\":false,\"showline\":true,\"side\":\"bottom\",\"tickfont\":{\"size\":10.0},\"ticks\":\"inside\",\"type\":\"date\",\"zeroline\":false},\"yaxis3\":{\"anchor\":\"x3\",\"domain\":[0.2778668805132318,0.4442662389735365],\"mirror\":\"ticks\",\"nticks\":5,\"range\":[-342.9266342224899,346.72452964959297],\"showgrid\":false,\"showline\":true,\"side\":\"left\",\"tickfont\":{\"size\":10.0},\"ticks\":\"inside\",\"type\":\"linear\",\"zeroline\":false,\"title\":{\"text\":\"Seasonal\",\"font\":{\"color\":\"#000000\",\"size\":10.0}}},\"xaxis4\":{\"anchor\":\"y4\",\"domain\":[0.0,1.0],\"mirror\":\"ticks\",\"nticks\":11,\"range\":[\"1986-03-31 00:00:00\",\"1996-06-30 00:00:00\"],\"showgrid\":false,\"showline\":true,\"side\":\"bottom\",\"tickfont\":{\"size\":10.0},\"ticks\":\"inside\",\"type\":\"date\",\"zeroline\":false},\"yaxis4\":{\"anchor\":\"x4\",\"domain\":[0.0,0.16639935846030474],\"mirror\":\"ticks\",\"nticks\":4,\"range\":[-229.6348151078927,169.8263329157128],\"showgrid\":false,\"showline\":true,\"side\":\"left\",\"tickfont\":{\"size\":10.0},\"ticks\":\"inside\",\"type\":\"linear\",\"zeroline\":false,\"title\":{\"text\":\"Resid\",\"font\":{\"color\":\"#000000\",\"size\":10.0}}},\"showlegend\":false,\"title\":{\"text\":\"additive\"}},                        {\"responsive\": true}                    ).then(function(){\n",
              "                            \n",
              "var gd = document.getElementById('634a9235-d356-42fe-b493-54b3f260a770');\n",
              "var x = new MutationObserver(function (mutations, observer) {{\n",
              "        var display = window.getComputedStyle(gd).display;\n",
              "        if (!display || display === 'none') {{\n",
              "            console.log([gd, 'removed!']);\n",
              "            Plotly.purge(gd);\n",
              "            observer.disconnect();\n",
              "        }}\n",
              "}});\n",
              "\n",
              "// Listen for the removal of the full notebook cells\n",
              "var notebookContainer = gd.closest('#notebook-container');\n",
              "if (notebookContainer) {{\n",
              "    x.observe(notebookContainer, {childList: true});\n",
              "}}\n",
              "\n",
              "// Listen for the clearing of the current output cell\n",
              "var outputEl = gd.closest('.output');\n",
              "if (outputEl) {{\n",
              "    x.observe(outputEl, {childList: true});\n",
              "}}\n",
              "\n",
              "                        })                };                            </script>        </div>\n",
              "</body>\n",
              "</html>"
            ]
          },
          "metadata": {}
        },
        {
          "output_type": "stream",
          "name": "stdout",
          "text": [
            "\n",
            "\n",
            "\n",
            "multiplicative \n",
            "\n",
            "\n"
          ]
        },
        {
          "output_type": "display_data",
          "data": {
            "text/html": [
              "<html>\n",
              "<head><meta charset=\"utf-8\" /></head>\n",
              "<body>\n",
              "    <div>            <script src=\"https://cdnjs.cloudflare.com/ajax/libs/mathjax/2.7.5/MathJax.js?config=TeX-AMS-MML_SVG\"></script><script type=\"text/javascript\">if (window.MathJax) {MathJax.Hub.Config({SVG: {font: \"STIX-Web\"}});}</script>                <script type=\"text/javascript\">window.PlotlyConfig = {MathJaxConfig: 'local'};</script>\n",
              "        <script src=\"https://cdn.plot.ly/plotly-2.8.3.min.js\"></script>                <div id=\"ebbb355c-2754-4a11-a05a-07e485d1ccbf\" class=\"plotly-graph-div\" style=\"height:700px; width:800px;\"></div>            <script type=\"text/javascript\">                                    window.PLOTLYENV=window.PLOTLYENV || {};                                    if (document.getElementById(\"ebbb355c-2754-4a11-a05a-07e485d1ccbf\")) {                    Plotly.newPlot(                        \"ebbb355c-2754-4a11-a05a-07e485d1ccbf\",                        [{\"line\":{\"color\":\"rgba (31, 119, 180, 1)\",\"dash\":\"solid\",\"width\":1.5},\"mode\":\"lines\",\"name\":\"_line0\",\"x\":[\"1986-03-31 00:00:00\",\"1986-06-30 00:00:00\",\"1986-09-30 00:00:00\",\"1986-12-31 00:00:00\",\"1987-03-31 00:00:00\",\"1987-06-30 00:00:00\",\"1987-09-30 00:00:00\",\"1987-12-31 00:00:00\",\"1988-03-31 00:00:00\",\"1988-06-30 00:00:00\",\"1988-09-30 00:00:00\",\"1988-12-31 00:00:00\",\"1989-03-31 00:00:00\",\"1989-06-30 00:00:00\",\"1989-09-30 00:00:00\",\"1989-12-31 00:00:00\",\"1990-03-31 00:00:00\",\"1990-06-30 00:00:00\",\"1990-09-30 00:00:00\",\"1990-12-31 00:00:00\",\"1991-03-31 00:00:00\",\"1991-06-30 00:00:00\",\"1991-09-30 00:00:00\",\"1991-12-31 00:00:00\",\"1992-03-31 00:00:00\",\"1992-06-30 00:00:00\",\"1992-09-30 00:00:00\",\"1992-12-31 00:00:00\",\"1993-03-31 00:00:00\",\"1993-06-30 00:00:00\",\"1993-09-30 00:00:00\",\"1993-12-31 00:00:00\",\"1994-03-31 00:00:00\",\"1994-06-30 00:00:00\",\"1994-09-30 00:00:00\",\"1994-12-31 00:00:00\",\"1995-03-31 00:00:00\",\"1995-06-30 00:00:00\",\"1995-09-30 00:00:00\",\"1995-12-31 00:00:00\",\"1996-03-31 00:00:00\",\"1996-06-30 00:00:00\"],\"xaxis\":\"x\",\"y\":[1734.8269996643066,2244.9609985351562,2533.8049926757812,2154.9629974365234,1547.8189964294434,2104.411994934082,2014.3629989624023,1991.746997833252,1869.0499992370605,2313.631996154785,2128.319999694824,2026.8289985656738,1910.6039962768555,2331.164993286133,2206.5499954223633,2173.9679946899414,2148.2779998779297,2739.3079986572266,2792.7539978027344,2556.009994506836,2480.9739990234375,3039.522994995117,3172.115997314453,2879.0009994506836,2772.0,3550.0,3508.0,3243.859992980957,3056.0,3899.0,3629.0,3373.0,3352.0,4342.0,4461.0,4017.0,3854.0,4936.0,4895.0,4333.0,4194.0,5253.0],\"yaxis\":\"y\",\"type\":\"scatter\"},{\"line\":{\"color\":\"rgba (31, 119, 180, 1)\",\"dash\":\"solid\",\"width\":1.5},\"mode\":\"lines\",\"name\":\"_line0\",\"x\":[\"1986-03-31 00:00:00\",\"1986-06-30 00:00:00\",\"1986-09-30 00:00:00\",\"1986-12-31 00:00:00\",\"1987-03-31 00:00:00\",\"1987-06-30 00:00:00\",\"1987-09-30 00:00:00\",\"1987-12-31 00:00:00\",\"1988-03-31 00:00:00\",\"1988-06-30 00:00:00\",\"1988-09-30 00:00:00\",\"1988-12-31 00:00:00\",\"1989-03-31 00:00:00\",\"1989-06-30 00:00:00\",\"1989-09-30 00:00:00\",\"1989-12-31 00:00:00\",\"1990-03-31 00:00:00\",\"1990-06-30 00:00:00\",\"1990-09-30 00:00:00\",\"1990-12-31 00:00:00\",\"1991-03-31 00:00:00\",\"1991-06-30 00:00:00\",\"1991-09-30 00:00:00\",\"1991-12-31 00:00:00\",\"1992-03-31 00:00:00\",\"1992-06-30 00:00:00\",\"1992-09-30 00:00:00\",\"1992-12-31 00:00:00\",\"1993-03-31 00:00:00\",\"1993-06-30 00:00:00\",\"1993-09-30 00:00:00\",\"1993-12-31 00:00:00\",\"1994-03-31 00:00:00\",\"1994-06-30 00:00:00\",\"1994-09-30 00:00:00\",\"1994-12-31 00:00:00\",\"1995-03-31 00:00:00\",\"1995-06-30 00:00:00\",\"1995-09-30 00:00:00\",\"1995-12-31 00:00:00\",\"1996-03-31 00:00:00\",\"1996-06-30 00:00:00\"],\"xaxis\":\"x2\",\"y\":[null,null,null,null,null,null,2062.718039035797,2073.633913675944,2063.590121905009,2050.746371905009,2076.5573719342547,2128.0304972330728,2186.917455673218,2242.861372152964,2291.869163672129,2347.611455281575,2421.3484134674068,2500.3470800717673,2571.74574693044,2658.422039031982,2763.4339145024614,2862.2398312886558,2944.6404145558677,3030.782664616903,3113.9467480977373,3182.831581751505,3253.1655820210767,3343.728207270304,3451.7015825907392,3552.821707725525,3645.321666081747,3748.154999415079,3863.6966660817466,3966.869166374206,4059.666666666666,4163.5,null,null,null,null,null,null],\"yaxis\":\"y2\",\"type\":\"scatter\"},{\"line\":{\"color\":\"rgba (31, 119, 180, 1)\",\"dash\":\"solid\",\"width\":1.5},\"mode\":\"lines\",\"name\":\"_line0\",\"x\":[\"1986-03-31 00:00:00\",\"1986-06-30 00:00:00\",\"1986-09-30 00:00:00\",\"1986-12-31 00:00:00\",\"1987-03-31 00:00:00\",\"1987-06-30 00:00:00\",\"1987-09-30 00:00:00\",\"1987-12-31 00:00:00\",\"1988-03-31 00:00:00\",\"1988-06-30 00:00:00\",\"1988-09-30 00:00:00\",\"1988-12-31 00:00:00\",\"1989-03-31 00:00:00\",\"1989-06-30 00:00:00\",\"1989-09-30 00:00:00\",\"1989-12-31 00:00:00\",\"1990-03-31 00:00:00\",\"1990-06-30 00:00:00\",\"1990-09-30 00:00:00\",\"1990-12-31 00:00:00\",\"1991-03-31 00:00:00\",\"1991-06-30 00:00:00\",\"1991-09-30 00:00:00\",\"1991-12-31 00:00:00\",\"1992-03-31 00:00:00\",\"1992-06-30 00:00:00\",\"1992-09-30 00:00:00\",\"1992-12-31 00:00:00\",\"1993-03-31 00:00:00\",\"1993-06-30 00:00:00\",\"1993-09-30 00:00:00\",\"1993-12-31 00:00:00\",\"1994-03-31 00:00:00\",\"1994-06-30 00:00:00\",\"1994-09-30 00:00:00\",\"1994-12-31 00:00:00\",\"1995-03-31 00:00:00\",\"1995-06-30 00:00:00\",\"1995-09-30 00:00:00\",\"1995-12-31 00:00:00\",\"1996-03-31 00:00:00\",\"1996-06-30 00:00:00\"],\"xaxis\":\"x3\",\"y\":[0.8909270467669476,1.0883679716912429,1.0309764581672212,0.9577659617552495,0.8953436940766135,1.1077027631639025,1.0297494330847412,0.9502386082734247,0.8994520655625334,1.1060802961976146,1.077909414100788,0.9654862871597197,0.8909270467669476,1.0883679716912429,1.0309764581672212,0.9577659617552495,0.8953436940766135,1.1077027631639025,1.0297494330847412,0.9502386082734247,0.8994520655625334,1.1060802961976146,1.077909414100788,0.9654862871597197,0.8909270467669476,1.0883679716912429,1.0309764581672212,0.9577659617552495,0.8953436940766135,1.1077027631639025,1.0297494330847412,0.9502386082734247,0.8994520655625334,1.1060802961976146,1.077909414100788,0.9654862871597197,0.8909270467669476,1.0883679716912429,1.0309764581672212,0.9577659617552495,0.8953436940766135,1.1077027631639025],\"yaxis\":\"y3\",\"type\":\"scatter\"},{\"marker\":{\"color\":\"#1F77B4\",\"line\":{\"color\":\"#1F77B4\",\"width\":1.0},\"opacity\":1,\"size\":6.0,\"symbol\":\"circle\"},\"mode\":\"markers\",\"name\":\"_line0\",\"x\":[\"1986-03-31 00:00:00\",\"1986-06-30 00:00:00\",\"1986-09-30 00:00:00\",\"1986-12-31 00:00:00\",\"1987-03-31 00:00:00\",\"1987-06-30 00:00:00\",\"1987-09-30 00:00:00\",\"1987-12-31 00:00:00\",\"1988-03-31 00:00:00\",\"1988-06-30 00:00:00\",\"1988-09-30 00:00:00\",\"1988-12-31 00:00:00\",\"1989-03-31 00:00:00\",\"1989-06-30 00:00:00\",\"1989-09-30 00:00:00\",\"1989-12-31 00:00:00\",\"1990-03-31 00:00:00\",\"1990-06-30 00:00:00\",\"1990-09-30 00:00:00\",\"1990-12-31 00:00:00\",\"1991-03-31 00:00:00\",\"1991-06-30 00:00:00\",\"1991-09-30 00:00:00\",\"1991-12-31 00:00:00\",\"1992-03-31 00:00:00\",\"1992-06-30 00:00:00\",\"1992-09-30 00:00:00\",\"1992-12-31 00:00:00\",\"1993-03-31 00:00:00\",\"1993-06-30 00:00:00\",\"1993-09-30 00:00:00\",\"1993-12-31 00:00:00\",\"1994-03-31 00:00:00\",\"1994-06-30 00:00:00\",\"1994-09-30 00:00:00\",\"1994-12-31 00:00:00\",\"1995-03-31 00:00:00\",\"1995-06-30 00:00:00\",\"1995-09-30 00:00:00\",\"1995-12-31 00:00:00\",\"1996-03-31 00:00:00\",\"1996-06-30 00:00:00\"],\"xaxis\":\"x4\",\"y\":[null,null,null,null,null,null,0.9483448875455665,1.0108097267208138,1.0069767786439525,1.0199894363614368,0.9508471885173331,0.9864910553144871,0.9806096150613164,0.9549812141326425,0.9338458694367671,0.9668687586307197,0.9909310026795985,0.9890479066562569,1.0545643612249838,1.0118262614134763,0.9981483797770492,0.9600917909130695,0.9993889121972838,0.9838772334320561,0.9991711853130295,1.0247995862417034,1.045934930937579,1.0129120417436264,0.9888497976947472,0.9907328937180889,0.9667619517909691,0.9470352124272289,0.9645460421405171,0.9895899732870125,1.0194350998469026,0.9993029118149759,null,null,null,null,null,null],\"yaxis\":\"y4\",\"type\":\"scatter\"},{\"line\":{\"color\":\"rgba (0, 0, 0, 1)\",\"dash\":\"solid\",\"width\":1.5},\"mode\":\"lines\",\"name\":\"_line1\",\"x\":[\"1986-03-31 00:00:00\",\"1996-06-30 00:00:00\"],\"xaxis\":\"x4\",\"y\":[0.0,0.0],\"yaxis\":\"y4\",\"type\":\"scatter\"}],                        {\"autosize\":false,\"height\":700,\"hovermode\":\"closest\",\"width\":800,\"template\":{\"data\":{\"bar\":[{\"error_x\":{\"color\":\"#2a3f5f\"},\"error_y\":{\"color\":\"#2a3f5f\"},\"marker\":{\"line\":{\"color\":\"#E5ECF6\",\"width\":0.5},\"pattern\":{\"fillmode\":\"overlay\",\"size\":10,\"solidity\":0.2}},\"type\":\"bar\"}],\"barpolar\":[{\"marker\":{\"line\":{\"color\":\"#E5ECF6\",\"width\":0.5},\"pattern\":{\"fillmode\":\"overlay\",\"size\":10,\"solidity\":0.2}},\"type\":\"barpolar\"}],\"carpet\":[{\"aaxis\":{\"endlinecolor\":\"#2a3f5f\",\"gridcolor\":\"white\",\"linecolor\":\"white\",\"minorgridcolor\":\"white\",\"startlinecolor\":\"#2a3f5f\"},\"baxis\":{\"endlinecolor\":\"#2a3f5f\",\"gridcolor\":\"white\",\"linecolor\":\"white\",\"minorgridcolor\":\"white\",\"startlinecolor\":\"#2a3f5f\"},\"type\":\"carpet\"}],\"choropleth\":[{\"colorbar\":{\"outlinewidth\":0,\"ticks\":\"\"},\"type\":\"choropleth\"}],\"contour\":[{\"colorbar\":{\"outlinewidth\":0,\"ticks\":\"\"},\"colorscale\":[[0.0,\"#0d0887\"],[0.1111111111111111,\"#46039f\"],[0.2222222222222222,\"#7201a8\"],[0.3333333333333333,\"#9c179e\"],[0.4444444444444444,\"#bd3786\"],[0.5555555555555556,\"#d8576b\"],[0.6666666666666666,\"#ed7953\"],[0.7777777777777778,\"#fb9f3a\"],[0.8888888888888888,\"#fdca26\"],[1.0,\"#f0f921\"]],\"type\":\"contour\"}],\"contourcarpet\":[{\"colorbar\":{\"outlinewidth\":0,\"ticks\":\"\"},\"type\":\"contourcarpet\"}],\"heatmap\":[{\"colorbar\":{\"outlinewidth\":0,\"ticks\":\"\"},\"colorscale\":[[0.0,\"#0d0887\"],[0.1111111111111111,\"#46039f\"],[0.2222222222222222,\"#7201a8\"],[0.3333333333333333,\"#9c179e\"],[0.4444444444444444,\"#bd3786\"],[0.5555555555555556,\"#d8576b\"],[0.6666666666666666,\"#ed7953\"],[0.7777777777777778,\"#fb9f3a\"],[0.8888888888888888,\"#fdca26\"],[1.0,\"#f0f921\"]],\"type\":\"heatmap\"}],\"heatmapgl\":[{\"colorbar\":{\"outlinewidth\":0,\"ticks\":\"\"},\"colorscale\":[[0.0,\"#0d0887\"],[0.1111111111111111,\"#46039f\"],[0.2222222222222222,\"#7201a8\"],[0.3333333333333333,\"#9c179e\"],[0.4444444444444444,\"#bd3786\"],[0.5555555555555556,\"#d8576b\"],[0.6666666666666666,\"#ed7953\"],[0.7777777777777778,\"#fb9f3a\"],[0.8888888888888888,\"#fdca26\"],[1.0,\"#f0f921\"]],\"type\":\"heatmapgl\"}],\"histogram\":[{\"marker\":{\"pattern\":{\"fillmode\":\"overlay\",\"size\":10,\"solidity\":0.2}},\"type\":\"histogram\"}],\"histogram2d\":[{\"colorbar\":{\"outlinewidth\":0,\"ticks\":\"\"},\"colorscale\":[[0.0,\"#0d0887\"],[0.1111111111111111,\"#46039f\"],[0.2222222222222222,\"#7201a8\"],[0.3333333333333333,\"#9c179e\"],[0.4444444444444444,\"#bd3786\"],[0.5555555555555556,\"#d8576b\"],[0.6666666666666666,\"#ed7953\"],[0.7777777777777778,\"#fb9f3a\"],[0.8888888888888888,\"#fdca26\"],[1.0,\"#f0f921\"]],\"type\":\"histogram2d\"}],\"histogram2dcontour\":[{\"colorbar\":{\"outlinewidth\":0,\"ticks\":\"\"},\"colorscale\":[[0.0,\"#0d0887\"],[0.1111111111111111,\"#46039f\"],[0.2222222222222222,\"#7201a8\"],[0.3333333333333333,\"#9c179e\"],[0.4444444444444444,\"#bd3786\"],[0.5555555555555556,\"#d8576b\"],[0.6666666666666666,\"#ed7953\"],[0.7777777777777778,\"#fb9f3a\"],[0.8888888888888888,\"#fdca26\"],[1.0,\"#f0f921\"]],\"type\":\"histogram2dcontour\"}],\"mesh3d\":[{\"colorbar\":{\"outlinewidth\":0,\"ticks\":\"\"},\"type\":\"mesh3d\"}],\"parcoords\":[{\"line\":{\"colorbar\":{\"outlinewidth\":0,\"ticks\":\"\"}},\"type\":\"parcoords\"}],\"pie\":[{\"automargin\":true,\"type\":\"pie\"}],\"scatter\":[{\"marker\":{\"colorbar\":{\"outlinewidth\":0,\"ticks\":\"\"}},\"type\":\"scatter\"}],\"scatter3d\":[{\"line\":{\"colorbar\":{\"outlinewidth\":0,\"ticks\":\"\"}},\"marker\":{\"colorbar\":{\"outlinewidth\":0,\"ticks\":\"\"}},\"type\":\"scatter3d\"}],\"scattercarpet\":[{\"marker\":{\"colorbar\":{\"outlinewidth\":0,\"ticks\":\"\"}},\"type\":\"scattercarpet\"}],\"scattergeo\":[{\"marker\":{\"colorbar\":{\"outlinewidth\":0,\"ticks\":\"\"}},\"type\":\"scattergeo\"}],\"scattergl\":[{\"marker\":{\"colorbar\":{\"outlinewidth\":0,\"ticks\":\"\"}},\"type\":\"scattergl\"}],\"scattermapbox\":[{\"marker\":{\"colorbar\":{\"outlinewidth\":0,\"ticks\":\"\"}},\"type\":\"scattermapbox\"}],\"scatterpolar\":[{\"marker\":{\"colorbar\":{\"outlinewidth\":0,\"ticks\":\"\"}},\"type\":\"scatterpolar\"}],\"scatterpolargl\":[{\"marker\":{\"colorbar\":{\"outlinewidth\":0,\"ticks\":\"\"}},\"type\":\"scatterpolargl\"}],\"scatterternary\":[{\"marker\":{\"colorbar\":{\"outlinewidth\":0,\"ticks\":\"\"}},\"type\":\"scatterternary\"}],\"surface\":[{\"colorbar\":{\"outlinewidth\":0,\"ticks\":\"\"},\"colorscale\":[[0.0,\"#0d0887\"],[0.1111111111111111,\"#46039f\"],[0.2222222222222222,\"#7201a8\"],[0.3333333333333333,\"#9c179e\"],[0.4444444444444444,\"#bd3786\"],[0.5555555555555556,\"#d8576b\"],[0.6666666666666666,\"#ed7953\"],[0.7777777777777778,\"#fb9f3a\"],[0.8888888888888888,\"#fdca26\"],[1.0,\"#f0f921\"]],\"type\":\"surface\"}],\"table\":[{\"cells\":{\"fill\":{\"color\":\"#EBF0F8\"},\"line\":{\"color\":\"white\"}},\"header\":{\"fill\":{\"color\":\"#C8D4E3\"},\"line\":{\"color\":\"white\"}},\"type\":\"table\"}]},\"layout\":{\"annotationdefaults\":{\"arrowcolor\":\"#2a3f5f\",\"arrowhead\":0,\"arrowwidth\":1},\"autotypenumbers\":\"strict\",\"coloraxis\":{\"colorbar\":{\"outlinewidth\":0,\"ticks\":\"\"}},\"colorscale\":{\"diverging\":[[0,\"#8e0152\"],[0.1,\"#c51b7d\"],[0.2,\"#de77ae\"],[0.3,\"#f1b6da\"],[0.4,\"#fde0ef\"],[0.5,\"#f7f7f7\"],[0.6,\"#e6f5d0\"],[0.7,\"#b8e186\"],[0.8,\"#7fbc41\"],[0.9,\"#4d9221\"],[1,\"#276419\"]],\"sequential\":[[0.0,\"#0d0887\"],[0.1111111111111111,\"#46039f\"],[0.2222222222222222,\"#7201a8\"],[0.3333333333333333,\"#9c179e\"],[0.4444444444444444,\"#bd3786\"],[0.5555555555555556,\"#d8576b\"],[0.6666666666666666,\"#ed7953\"],[0.7777777777777778,\"#fb9f3a\"],[0.8888888888888888,\"#fdca26\"],[1.0,\"#f0f921\"]],\"sequentialminus\":[[0.0,\"#0d0887\"],[0.1111111111111111,\"#46039f\"],[0.2222222222222222,\"#7201a8\"],[0.3333333333333333,\"#9c179e\"],[0.4444444444444444,\"#bd3786\"],[0.5555555555555556,\"#d8576b\"],[0.6666666666666666,\"#ed7953\"],[0.7777777777777778,\"#fb9f3a\"],[0.8888888888888888,\"#fdca26\"],[1.0,\"#f0f921\"]]},\"colorway\":[\"#636efa\",\"#EF553B\",\"#00cc96\",\"#ab63fa\",\"#FFA15A\",\"#19d3f3\",\"#FF6692\",\"#B6E880\",\"#FF97FF\",\"#FECB52\"],\"font\":{\"color\":\"#2a3f5f\"},\"geo\":{\"bgcolor\":\"white\",\"lakecolor\":\"white\",\"landcolor\":\"#E5ECF6\",\"showlakes\":true,\"showland\":true,\"subunitcolor\":\"white\"},\"hoverlabel\":{\"align\":\"left\"},\"hovermode\":\"closest\",\"mapbox\":{\"style\":\"light\"},\"paper_bgcolor\":\"white\",\"plot_bgcolor\":\"#E5ECF6\",\"polar\":{\"angularaxis\":{\"gridcolor\":\"white\",\"linecolor\":\"white\",\"ticks\":\"\"},\"bgcolor\":\"#E5ECF6\",\"radialaxis\":{\"gridcolor\":\"white\",\"linecolor\":\"white\",\"ticks\":\"\"}},\"scene\":{\"xaxis\":{\"backgroundcolor\":\"#E5ECF6\",\"gridcolor\":\"white\",\"gridwidth\":2,\"linecolor\":\"white\",\"showbackground\":true,\"ticks\":\"\",\"zerolinecolor\":\"white\"},\"yaxis\":{\"backgroundcolor\":\"#E5ECF6\",\"gridcolor\":\"white\",\"gridwidth\":2,\"linecolor\":\"white\",\"showbackground\":true,\"ticks\":\"\",\"zerolinecolor\":\"white\"},\"zaxis\":{\"backgroundcolor\":\"#E5ECF6\",\"gridcolor\":\"white\",\"gridwidth\":2,\"linecolor\":\"white\",\"showbackground\":true,\"ticks\":\"\",\"zerolinecolor\":\"white\"}},\"shapedefaults\":{\"line\":{\"color\":\"#2a3f5f\"}},\"ternary\":{\"aaxis\":{\"gridcolor\":\"white\",\"linecolor\":\"white\",\"ticks\":\"\"},\"baxis\":{\"gridcolor\":\"white\",\"linecolor\":\"white\",\"ticks\":\"\"},\"bgcolor\":\"#E5ECF6\",\"caxis\":{\"gridcolor\":\"white\",\"linecolor\":\"white\",\"ticks\":\"\"}},\"title\":{\"x\":0.05},\"xaxis\":{\"automargin\":true,\"gridcolor\":\"white\",\"linecolor\":\"white\",\"ticks\":\"\",\"title\":{\"standoff\":15},\"zerolinecolor\":\"white\",\"zerolinewidth\":2},\"yaxis\":{\"automargin\":true,\"gridcolor\":\"white\",\"linecolor\":\"white\",\"ticks\":\"\",\"title\":{\"standoff\":15},\"zerolinecolor\":\"white\",\"zerolinewidth\":2}}},\"margin\":{\"b\":27,\"l\":56,\"pad\":0,\"r\":10,\"t\":10},\"xaxis\":{\"anchor\":\"y\",\"domain\":[0.0,1.0],\"mirror\":\"ticks\",\"nticks\":11,\"range\":[\"1986-03-31 00:00:00\",\"1996-06-30 00:00:00\"],\"showgrid\":false,\"showline\":true,\"side\":\"bottom\",\"tickfont\":{\"size\":10.0},\"ticks\":\"inside\",\"type\":\"date\",\"zeroline\":false},\"yaxis\":{\"anchor\":\"x\",\"domain\":[0.8345762830560057,1.0],\"mirror\":\"ticks\",\"nticks\":4,\"range\":[1362.5599462509156,5438.259050178528],\"showgrid\":false,\"showline\":true,\"side\":\"left\",\"tickfont\":{\"size\":10.0},\"ticks\":\"inside\",\"type\":\"linear\",\"zeroline\":false},\"xaxis2\":{\"anchor\":\"y2\",\"domain\":[0.0,1.0],\"mirror\":\"ticks\",\"nticks\":11,\"range\":[\"1986-03-31 00:00:00\",\"1996-06-30 00:00:00\"],\"showgrid\":false,\"showline\":true,\"side\":\"bottom\",\"tickfont\":{\"size\":10.0},\"ticks\":\"inside\",\"type\":\"date\",\"zeroline\":false},\"yaxis2\":{\"anchor\":\"x2\",\"domain\":[0.5563841887040039,0.721807905647998],\"mirror\":\"ticks\",\"nticks\":4,\"range\":[1945.1086905002592,4269.13768140475],\"showgrid\":false,\"showline\":true,\"side\":\"left\",\"tickfont\":{\"size\":10.0},\"ticks\":\"inside\",\"type\":\"linear\",\"zeroline\":false,\"title\":{\"text\":\"Trend\",\"font\":{\"color\":\"#000000\",\"size\":10.0}}},\"xaxis3\":{\"anchor\":\"y3\",\"domain\":[0.0,1.0],\"mirror\":\"ticks\",\"nticks\":11,\"range\":[\"1986-03-31 00:00:00\",\"1996-06-30 00:00:00\"],\"showgrid\":false,\"showline\":true,\"side\":\"bottom\",\"tickfont\":{\"size\":10.0},\"ticks\":\"inside\",\"type\":\"date\",\"zeroline\":false},\"yaxis3\":{\"anchor\":\"x3\",\"domain\":[0.27819209435200204,0.44361581129599614],\"mirror\":\"ticks\",\"nticks\":5,\"range\":[0.8800882609470998,1.1185415489837502],\"showgrid\":false,\"showline\":true,\"side\":\"left\",\"tickfont\":{\"size\":10.0},\"ticks\":\"inside\",\"type\":\"linear\",\"zeroline\":false,\"title\":{\"text\":\"Seasonal\",\"font\":{\"color\":\"#000000\",\"size\":10.0}}},\"xaxis4\":{\"anchor\":\"y4\",\"domain\":[0.0,1.0],\"mirror\":\"ticks\",\"nticks\":11,\"range\":[\"1986-03-31 00:00:00\",\"1996-06-30 00:00:00\"],\"showgrid\":false,\"showline\":true,\"side\":\"bottom\",\"tickfont\":{\"size\":10.0},\"ticks\":\"inside\",\"type\":\"date\",\"zeroline\":false},\"yaxis4\":{\"anchor\":\"x4\",\"domain\":[0.0,0.16542371694399421],\"mirror\":\"ticks\",\"nticks\":4,\"range\":[-0.052728218061249194,1.107292579286233],\"showgrid\":false,\"showline\":true,\"side\":\"left\",\"tickfont\":{\"size\":10.0},\"ticks\":\"inside\",\"type\":\"linear\",\"zeroline\":false,\"title\":{\"text\":\"Resid\",\"font\":{\"color\":\"#000000\",\"size\":10.0}}},\"showlegend\":false,\"title\":{\"text\":\"multiplicative\"}},                        {\"responsive\": true}                    ).then(function(){\n",
              "                            \n",
              "var gd = document.getElementById('ebbb355c-2754-4a11-a05a-07e485d1ccbf');\n",
              "var x = new MutationObserver(function (mutations, observer) {{\n",
              "        var display = window.getComputedStyle(gd).display;\n",
              "        if (!display || display === 'none') {{\n",
              "            console.log([gd, 'removed!']);\n",
              "            Plotly.purge(gd);\n",
              "            observer.disconnect();\n",
              "        }}\n",
              "}});\n",
              "\n",
              "// Listen for the removal of the full notebook cells\n",
              "var notebookContainer = gd.closest('#notebook-container');\n",
              "if (notebookContainer) {{\n",
              "    x.observe(notebookContainer, {childList: true});\n",
              "}}\n",
              "\n",
              "// Listen for the clearing of the current output cell\n",
              "var outputEl = gd.closest('.output');\n",
              "if (outputEl) {{\n",
              "    x.observe(outputEl, {childList: true});\n",
              "}}\n",
              "\n",
              "                        })                };                            </script>        </div>\n",
              "</body>\n",
              "</html>"
            ]
          },
          "metadata": {}
        },
        {
          "output_type": "stream",
          "name": "stdout",
          "text": [
            "\n",
            "\n",
            "\n"
          ]
        }
      ]
    },
    {
      "cell_type": "markdown",
      "source": [
        "###**Conclusion :**\n",
        "\n",
        "* For the Additive model, the residuals have a huge standard deviation, and also show a distinct pattern that an additive model didn’t capture. On the other hand, for the multiplicative model, the residuals are now centered around 1 and have a much lower range and standard deviation. Hence, our data follows a multiplicative model"
      ],
      "metadata": {
        "id": "YAsN7FnvCqz5"
      }
    },
    {
      "cell_type": "markdown",
      "source": [
        "# **Finding the order of differencing**"
      ],
      "metadata": {
        "id": "WAXW2OSRCtr2"
      }
    },
    {
      "cell_type": "code",
      "source": [
        "data = df\n",
        "for i in range(1,20):\n",
        "    series = data.diff()\n",
        "    series = series.dropna()\n",
        "    result = adfuller(series)\n",
        "    p_value = result[1]\n",
        "    data = series\n",
        "    if p_value < 0.05:\n",
        "        print(\"The order of which the data becomes stationary is : \",i)\n",
        "        fig = px.line(data)\n",
        "        fig.show()\n",
        "        break  "
      ],
      "metadata": {
        "colab": {
          "base_uri": "https://localhost:8080/",
          "height": 559
        },
        "id": "kF5Oz1qxB3Xp",
        "outputId": "f5abdb1b-d28a-4741-ed1c-6104263d7db3"
      },
      "execution_count": 16,
      "outputs": [
        {
          "output_type": "stream",
          "name": "stdout",
          "text": [
            "The order of which the data becomes stationary is :  2\n"
          ]
        },
        {
          "output_type": "display_data",
          "data": {
            "text/html": [
              "<html>\n",
              "<head><meta charset=\"utf-8\" /></head>\n",
              "<body>\n",
              "    <div>            <script src=\"https://cdnjs.cloudflare.com/ajax/libs/mathjax/2.7.5/MathJax.js?config=TeX-AMS-MML_SVG\"></script><script type=\"text/javascript\">if (window.MathJax) {MathJax.Hub.Config({SVG: {font: \"STIX-Web\"}});}</script>                <script type=\"text/javascript\">window.PlotlyConfig = {MathJaxConfig: 'local'};</script>\n",
              "        <script src=\"https://cdn.plot.ly/plotly-2.8.3.min.js\"></script>                <div id=\"55f80a3c-8bf4-4a70-a4dd-24eb5658e9d1\" class=\"plotly-graph-div\" style=\"height:525px; width:100%;\"></div>            <script type=\"text/javascript\">                                    window.PLOTLYENV=window.PLOTLYENV || {};                                    if (document.getElementById(\"55f80a3c-8bf4-4a70-a4dd-24eb5658e9d1\")) {                    Plotly.newPlot(                        \"55f80a3c-8bf4-4a70-a4dd-24eb5658e9d1\",                        [{\"hovertemplate\":\"variable=Sales<br>Time=%{x}<br>value=%{y}<extra></extra>\",\"legendgroup\":\"Sales\",\"line\":{\"color\":\"#636efa\",\"dash\":\"solid\"},\"marker\":{\"symbol\":\"circle\"},\"mode\":\"lines\",\"name\":\"Sales\",\"orientation\":\"v\",\"showlegend\":true,\"x\":[\"1986-09-30T00:00:00\",\"1986-12-31T00:00:00\",\"1987-03-31T00:00:00\",\"1987-06-30T00:00:00\",\"1987-09-30T00:00:00\",\"1987-12-31T00:00:00\",\"1988-03-31T00:00:00\",\"1988-06-30T00:00:00\",\"1988-09-30T00:00:00\",\"1988-12-31T00:00:00\",\"1989-03-31T00:00:00\",\"1989-06-30T00:00:00\",\"1989-09-30T00:00:00\",\"1989-12-31T00:00:00\",\"1990-03-31T00:00:00\",\"1990-06-30T00:00:00\",\"1990-09-30T00:00:00\",\"1990-12-31T00:00:00\",\"1991-03-31T00:00:00\",\"1991-06-30T00:00:00\",\"1991-09-30T00:00:00\",\"1991-12-31T00:00:00\",\"1992-03-31T00:00:00\",\"1992-06-30T00:00:00\",\"1992-09-30T00:00:00\",\"1992-12-31T00:00:00\",\"1993-03-31T00:00:00\",\"1993-06-30T00:00:00\",\"1993-09-30T00:00:00\",\"1993-12-31T00:00:00\",\"1994-03-31T00:00:00\",\"1994-06-30T00:00:00\",\"1994-09-30T00:00:00\",\"1994-12-31T00:00:00\",\"1995-03-31T00:00:00\",\"1995-06-30T00:00:00\",\"1995-09-30T00:00:00\",\"1995-12-31T00:00:00\",\"1996-03-31T00:00:00\",\"1996-06-30T00:00:00\"],\"xaxis\":\"x\",\"y\":[-221.2900047302246,-667.6859893798828,-228.30200576782227,1163.7369995117188,-646.6419944763184,67.4329948425293,-100.08099746704102,567.278995513916,-629.8939933776855,83.82099533081055,-14.734001159667969,536.7859992980957,-545.1759948730469,92.03299713134766,6.892005920410156,616.7199935913086,-537.5839996337891,-290.19000244140625,161.7080078125,633.5849914550781,-425.95599365234375,-425.70800018310547,186.11399841308594,885.0009994506836,-820.0,-222.14000701904297,76.28001403808594,1030.859992980957,-1113.0,14.0,235.0,1011.0,-871.0,-563.0,281.0,1245.0,-1123.0,-521.0,423.0,1198.0],\"yaxis\":\"y\",\"type\":\"scatter\"}],                        {\"template\":{\"data\":{\"bar\":[{\"error_x\":{\"color\":\"#2a3f5f\"},\"error_y\":{\"color\":\"#2a3f5f\"},\"marker\":{\"line\":{\"color\":\"#E5ECF6\",\"width\":0.5},\"pattern\":{\"fillmode\":\"overlay\",\"size\":10,\"solidity\":0.2}},\"type\":\"bar\"}],\"barpolar\":[{\"marker\":{\"line\":{\"color\":\"#E5ECF6\",\"width\":0.5},\"pattern\":{\"fillmode\":\"overlay\",\"size\":10,\"solidity\":0.2}},\"type\":\"barpolar\"}],\"carpet\":[{\"aaxis\":{\"endlinecolor\":\"#2a3f5f\",\"gridcolor\":\"white\",\"linecolor\":\"white\",\"minorgridcolor\":\"white\",\"startlinecolor\":\"#2a3f5f\"},\"baxis\":{\"endlinecolor\":\"#2a3f5f\",\"gridcolor\":\"white\",\"linecolor\":\"white\",\"minorgridcolor\":\"white\",\"startlinecolor\":\"#2a3f5f\"},\"type\":\"carpet\"}],\"choropleth\":[{\"colorbar\":{\"outlinewidth\":0,\"ticks\":\"\"},\"type\":\"choropleth\"}],\"contour\":[{\"colorbar\":{\"outlinewidth\":0,\"ticks\":\"\"},\"colorscale\":[[0.0,\"#0d0887\"],[0.1111111111111111,\"#46039f\"],[0.2222222222222222,\"#7201a8\"],[0.3333333333333333,\"#9c179e\"],[0.4444444444444444,\"#bd3786\"],[0.5555555555555556,\"#d8576b\"],[0.6666666666666666,\"#ed7953\"],[0.7777777777777778,\"#fb9f3a\"],[0.8888888888888888,\"#fdca26\"],[1.0,\"#f0f921\"]],\"type\":\"contour\"}],\"contourcarpet\":[{\"colorbar\":{\"outlinewidth\":0,\"ticks\":\"\"},\"type\":\"contourcarpet\"}],\"heatmap\":[{\"colorbar\":{\"outlinewidth\":0,\"ticks\":\"\"},\"colorscale\":[[0.0,\"#0d0887\"],[0.1111111111111111,\"#46039f\"],[0.2222222222222222,\"#7201a8\"],[0.3333333333333333,\"#9c179e\"],[0.4444444444444444,\"#bd3786\"],[0.5555555555555556,\"#d8576b\"],[0.6666666666666666,\"#ed7953\"],[0.7777777777777778,\"#fb9f3a\"],[0.8888888888888888,\"#fdca26\"],[1.0,\"#f0f921\"]],\"type\":\"heatmap\"}],\"heatmapgl\":[{\"colorbar\":{\"outlinewidth\":0,\"ticks\":\"\"},\"colorscale\":[[0.0,\"#0d0887\"],[0.1111111111111111,\"#46039f\"],[0.2222222222222222,\"#7201a8\"],[0.3333333333333333,\"#9c179e\"],[0.4444444444444444,\"#bd3786\"],[0.5555555555555556,\"#d8576b\"],[0.6666666666666666,\"#ed7953\"],[0.7777777777777778,\"#fb9f3a\"],[0.8888888888888888,\"#fdca26\"],[1.0,\"#f0f921\"]],\"type\":\"heatmapgl\"}],\"histogram\":[{\"marker\":{\"pattern\":{\"fillmode\":\"overlay\",\"size\":10,\"solidity\":0.2}},\"type\":\"histogram\"}],\"histogram2d\":[{\"colorbar\":{\"outlinewidth\":0,\"ticks\":\"\"},\"colorscale\":[[0.0,\"#0d0887\"],[0.1111111111111111,\"#46039f\"],[0.2222222222222222,\"#7201a8\"],[0.3333333333333333,\"#9c179e\"],[0.4444444444444444,\"#bd3786\"],[0.5555555555555556,\"#d8576b\"],[0.6666666666666666,\"#ed7953\"],[0.7777777777777778,\"#fb9f3a\"],[0.8888888888888888,\"#fdca26\"],[1.0,\"#f0f921\"]],\"type\":\"histogram2d\"}],\"histogram2dcontour\":[{\"colorbar\":{\"outlinewidth\":0,\"ticks\":\"\"},\"colorscale\":[[0.0,\"#0d0887\"],[0.1111111111111111,\"#46039f\"],[0.2222222222222222,\"#7201a8\"],[0.3333333333333333,\"#9c179e\"],[0.4444444444444444,\"#bd3786\"],[0.5555555555555556,\"#d8576b\"],[0.6666666666666666,\"#ed7953\"],[0.7777777777777778,\"#fb9f3a\"],[0.8888888888888888,\"#fdca26\"],[1.0,\"#f0f921\"]],\"type\":\"histogram2dcontour\"}],\"mesh3d\":[{\"colorbar\":{\"outlinewidth\":0,\"ticks\":\"\"},\"type\":\"mesh3d\"}],\"parcoords\":[{\"line\":{\"colorbar\":{\"outlinewidth\":0,\"ticks\":\"\"}},\"type\":\"parcoords\"}],\"pie\":[{\"automargin\":true,\"type\":\"pie\"}],\"scatter\":[{\"marker\":{\"colorbar\":{\"outlinewidth\":0,\"ticks\":\"\"}},\"type\":\"scatter\"}],\"scatter3d\":[{\"line\":{\"colorbar\":{\"outlinewidth\":0,\"ticks\":\"\"}},\"marker\":{\"colorbar\":{\"outlinewidth\":0,\"ticks\":\"\"}},\"type\":\"scatter3d\"}],\"scattercarpet\":[{\"marker\":{\"colorbar\":{\"outlinewidth\":0,\"ticks\":\"\"}},\"type\":\"scattercarpet\"}],\"scattergeo\":[{\"marker\":{\"colorbar\":{\"outlinewidth\":0,\"ticks\":\"\"}},\"type\":\"scattergeo\"}],\"scattergl\":[{\"marker\":{\"colorbar\":{\"outlinewidth\":0,\"ticks\":\"\"}},\"type\":\"scattergl\"}],\"scattermapbox\":[{\"marker\":{\"colorbar\":{\"outlinewidth\":0,\"ticks\":\"\"}},\"type\":\"scattermapbox\"}],\"scatterpolar\":[{\"marker\":{\"colorbar\":{\"outlinewidth\":0,\"ticks\":\"\"}},\"type\":\"scatterpolar\"}],\"scatterpolargl\":[{\"marker\":{\"colorbar\":{\"outlinewidth\":0,\"ticks\":\"\"}},\"type\":\"scatterpolargl\"}],\"scatterternary\":[{\"marker\":{\"colorbar\":{\"outlinewidth\":0,\"ticks\":\"\"}},\"type\":\"scatterternary\"}],\"surface\":[{\"colorbar\":{\"outlinewidth\":0,\"ticks\":\"\"},\"colorscale\":[[0.0,\"#0d0887\"],[0.1111111111111111,\"#46039f\"],[0.2222222222222222,\"#7201a8\"],[0.3333333333333333,\"#9c179e\"],[0.4444444444444444,\"#bd3786\"],[0.5555555555555556,\"#d8576b\"],[0.6666666666666666,\"#ed7953\"],[0.7777777777777778,\"#fb9f3a\"],[0.8888888888888888,\"#fdca26\"],[1.0,\"#f0f921\"]],\"type\":\"surface\"}],\"table\":[{\"cells\":{\"fill\":{\"color\":\"#EBF0F8\"},\"line\":{\"color\":\"white\"}},\"header\":{\"fill\":{\"color\":\"#C8D4E3\"},\"line\":{\"color\":\"white\"}},\"type\":\"table\"}]},\"layout\":{\"annotationdefaults\":{\"arrowcolor\":\"#2a3f5f\",\"arrowhead\":0,\"arrowwidth\":1},\"autotypenumbers\":\"strict\",\"coloraxis\":{\"colorbar\":{\"outlinewidth\":0,\"ticks\":\"\"}},\"colorscale\":{\"diverging\":[[0,\"#8e0152\"],[0.1,\"#c51b7d\"],[0.2,\"#de77ae\"],[0.3,\"#f1b6da\"],[0.4,\"#fde0ef\"],[0.5,\"#f7f7f7\"],[0.6,\"#e6f5d0\"],[0.7,\"#b8e186\"],[0.8,\"#7fbc41\"],[0.9,\"#4d9221\"],[1,\"#276419\"]],\"sequential\":[[0.0,\"#0d0887\"],[0.1111111111111111,\"#46039f\"],[0.2222222222222222,\"#7201a8\"],[0.3333333333333333,\"#9c179e\"],[0.4444444444444444,\"#bd3786\"],[0.5555555555555556,\"#d8576b\"],[0.6666666666666666,\"#ed7953\"],[0.7777777777777778,\"#fb9f3a\"],[0.8888888888888888,\"#fdca26\"],[1.0,\"#f0f921\"]],\"sequentialminus\":[[0.0,\"#0d0887\"],[0.1111111111111111,\"#46039f\"],[0.2222222222222222,\"#7201a8\"],[0.3333333333333333,\"#9c179e\"],[0.4444444444444444,\"#bd3786\"],[0.5555555555555556,\"#d8576b\"],[0.6666666666666666,\"#ed7953\"],[0.7777777777777778,\"#fb9f3a\"],[0.8888888888888888,\"#fdca26\"],[1.0,\"#f0f921\"]]},\"colorway\":[\"#636efa\",\"#EF553B\",\"#00cc96\",\"#ab63fa\",\"#FFA15A\",\"#19d3f3\",\"#FF6692\",\"#B6E880\",\"#FF97FF\",\"#FECB52\"],\"font\":{\"color\":\"#2a3f5f\"},\"geo\":{\"bgcolor\":\"white\",\"lakecolor\":\"white\",\"landcolor\":\"#E5ECF6\",\"showlakes\":true,\"showland\":true,\"subunitcolor\":\"white\"},\"hoverlabel\":{\"align\":\"left\"},\"hovermode\":\"closest\",\"mapbox\":{\"style\":\"light\"},\"paper_bgcolor\":\"white\",\"plot_bgcolor\":\"#E5ECF6\",\"polar\":{\"angularaxis\":{\"gridcolor\":\"white\",\"linecolor\":\"white\",\"ticks\":\"\"},\"bgcolor\":\"#E5ECF6\",\"radialaxis\":{\"gridcolor\":\"white\",\"linecolor\":\"white\",\"ticks\":\"\"}},\"scene\":{\"xaxis\":{\"backgroundcolor\":\"#E5ECF6\",\"gridcolor\":\"white\",\"gridwidth\":2,\"linecolor\":\"white\",\"showbackground\":true,\"ticks\":\"\",\"zerolinecolor\":\"white\"},\"yaxis\":{\"backgroundcolor\":\"#E5ECF6\",\"gridcolor\":\"white\",\"gridwidth\":2,\"linecolor\":\"white\",\"showbackground\":true,\"ticks\":\"\",\"zerolinecolor\":\"white\"},\"zaxis\":{\"backgroundcolor\":\"#E5ECF6\",\"gridcolor\":\"white\",\"gridwidth\":2,\"linecolor\":\"white\",\"showbackground\":true,\"ticks\":\"\",\"zerolinecolor\":\"white\"}},\"shapedefaults\":{\"line\":{\"color\":\"#2a3f5f\"}},\"ternary\":{\"aaxis\":{\"gridcolor\":\"white\",\"linecolor\":\"white\",\"ticks\":\"\"},\"baxis\":{\"gridcolor\":\"white\",\"linecolor\":\"white\",\"ticks\":\"\"},\"bgcolor\":\"#E5ECF6\",\"caxis\":{\"gridcolor\":\"white\",\"linecolor\":\"white\",\"ticks\":\"\"}},\"title\":{\"x\":0.05},\"xaxis\":{\"automargin\":true,\"gridcolor\":\"white\",\"linecolor\":\"white\",\"ticks\":\"\",\"title\":{\"standoff\":15},\"zerolinecolor\":\"white\",\"zerolinewidth\":2},\"yaxis\":{\"automargin\":true,\"gridcolor\":\"white\",\"linecolor\":\"white\",\"ticks\":\"\",\"title\":{\"standoff\":15},\"zerolinecolor\":\"white\",\"zerolinewidth\":2}}},\"xaxis\":{\"anchor\":\"y\",\"domain\":[0.0,1.0],\"title\":{\"text\":\"Time\"}},\"yaxis\":{\"anchor\":\"x\",\"domain\":[0.0,1.0],\"title\":{\"text\":\"value\"}},\"legend\":{\"title\":{\"text\":\"variable\"},\"tracegroupgap\":0},\"margin\":{\"t\":60}},                        {\"responsive\": true}                    ).then(function(){\n",
              "                            \n",
              "var gd = document.getElementById('55f80a3c-8bf4-4a70-a4dd-24eb5658e9d1');\n",
              "var x = new MutationObserver(function (mutations, observer) {{\n",
              "        var display = window.getComputedStyle(gd).display;\n",
              "        if (!display || display === 'none') {{\n",
              "            console.log([gd, 'removed!']);\n",
              "            Plotly.purge(gd);\n",
              "            observer.disconnect();\n",
              "        }}\n",
              "}});\n",
              "\n",
              "// Listen for the removal of the full notebook cells\n",
              "var notebookContainer = gd.closest('#notebook-container');\n",
              "if (notebookContainer) {{\n",
              "    x.observe(notebookContainer, {childList: true});\n",
              "}}\n",
              "\n",
              "// Listen for the clearing of the current output cell\n",
              "var outputEl = gd.closest('.output');\n",
              "if (outputEl) {{\n",
              "    x.observe(outputEl, {childList: true});\n",
              "}}\n",
              "\n",
              "                        })                };                            </script>        </div>\n",
              "</body>\n",
              "</html>"
            ]
          },
          "metadata": {}
        }
      ]
    },
    {
      "cell_type": "markdown",
      "source": [
        "###**Conclusion:**\n",
        "* Here, the graph shows that at the 2nd order differencing, the data becomes stationary and the trend is also gone, but to validate our results, we shall also perform the statistical test for testing stationarity and trend."
      ],
      "metadata": {
        "id": "0NJiFNk1C3Mt"
      }
    },
    {
      "cell_type": "markdown",
      "source": [
        "### **1. Mann-Kendall Test to detect Trend**"
      ],
      "metadata": {
        "id": "twZqaikyDA0n"
      }
    },
    {
      "cell_type": "markdown",
      "source": [
        "#### **Hypothesis :**\n",
        ">H0 : There is no Trend\n",
        "\n",
        ">H1 : There is Trend"
      ],
      "metadata": {
        "id": "iPY5AjX-DC1X"
      }
    },
    {
      "cell_type": "code",
      "source": [
        "mk.original_test(data)"
      ],
      "metadata": {
        "colab": {
          "base_uri": "https://localhost:8080/"
        },
        "id": "_yPK7IF8B3U9",
        "outputId": "acbd9a82-ea8e-460a-f4da-a733f7f41e61"
      },
      "execution_count": 17,
      "outputs": [
        {
          "output_type": "execute_result",
          "data": {
            "text/plain": [
              "Mann_Kendall_Test(trend='no trend', h=False, p=0.3107545604252415, z=1.0136400067817055, Tau=0.11282051282051282, s=88.0, var_s=7366.666666666667, slope=8.580180962880451, intercept=-156.86752581596372)"
            ]
          },
          "metadata": {},
          "execution_count": 17
        }
      ]
    },
    {
      "cell_type": "code",
      "source": [
        "mk.original_test(data)[2]"
      ],
      "metadata": {
        "colab": {
          "base_uri": "https://localhost:8080/"
        },
        "id": "PZOmM8S2wjUd",
        "outputId": "8a310aca-3162-439e-d636-78abdb032cea"
      },
      "execution_count": 18,
      "outputs": [
        {
          "output_type": "execute_result",
          "data": {
            "text/plain": [
              "0.3107545604252415"
            ]
          },
          "metadata": {},
          "execution_count": 18
        }
      ]
    },
    {
      "cell_type": "markdown",
      "source": [
        "###**Conclusion :**\n",
        "* The p-value is more than 0.05, hence we do not reject H0 and conclude that the the trend is not present in the data."
      ],
      "metadata": {
        "id": "Fyhm64ddDJSK"
      }
    },
    {
      "cell_type": "markdown",
      "source": [
        "### **2. Augmented Dickey-fuller Test for Stationarity detection**"
      ],
      "metadata": {
        "id": "dqQvNeM1DMNc"
      }
    },
    {
      "cell_type": "markdown",
      "source": [
        "#### **Hypothesis:**\n",
        ">H0 : The data is non-stationary\n",
        "\n",
        ">H1 : The data is stationary"
      ],
      "metadata": {
        "id": "LyrhHvVQDLQz"
      }
    },
    {
      "cell_type": "code",
      "source": [
        "result = adfuller(data)\n",
        "print('ADF Statistic: %f' % result[0])\n",
        "print('p-value: %f' % result[1])"
      ],
      "metadata": {
        "colab": {
          "base_uri": "https://localhost:8080/"
        },
        "id": "6xsphDlzB3R2",
        "outputId": "11ca33e7-25c2-4808-95c2-74ee5c899837"
      },
      "execution_count": 19,
      "outputs": [
        {
          "output_type": "stream",
          "name": "stdout",
          "text": [
            "ADF Statistic: -27.632625\n",
            "p-value: 0.000000\n"
          ]
        }
      ]
    },
    {
      "cell_type": "markdown",
      "source": [
        "###**Conclusion :**\n",
        "\n",
        "The p-value is less than 0.05, hence we reject H0 and conclude that the data is stationary.\n"
      ],
      "metadata": {
        "id": "LgKyP9ZDDVMg"
      }
    },
    {
      "cell_type": "markdown",
      "source": [
        "## **ACF and PACF plots**"
      ],
      "metadata": {
        "id": "myhGQ3hrDY1e"
      }
    },
    {
      "cell_type": "code",
      "source": [
        "acf = smt.graphics.plot_acf(df, lags=20, alpha=0.5)\n",
        "acf.show()\n",
        "pacf = smt.graphics.plot_pacf(df, lags=20, alpha=0.5)\n",
        "pacf.show()"
      ],
      "metadata": {
        "colab": {
          "base_uri": "https://localhost:8080/",
          "height": 634
        },
        "id": "jqtKUwSiB3PF",
        "outputId": "f20e76ee-8f15-4544-e936-c54849c99228"
      },
      "execution_count": 20,
      "outputs": [
        {
          "output_type": "stream",
          "name": "stderr",
          "text": [
            "/usr/local/lib/python3.8/dist-packages/statsmodels/graphics/tsaplots.py:348: FutureWarning:\n",
            "\n",
            "The default method 'yw' can produce PACF values outside of the [-1,1] interval. After 0.13, the default will change tounadjusted Yule-Walker ('ywm'). You can use this method now by setting method='ywm'.\n",
            "\n"
          ]
        },
        {
          "output_type": "display_data",
          "data": {
            "text/plain": [
              "<Figure size 432x288 with 1 Axes>"
            ],
            "image/png": "[encoded data removed]"
          },
          "metadata": {
            "needs_background": "light"
          }
        },
        {
          "output_type": "display_data",
          "data": {
            "text/plain": [
              "<Figure size 432x288 with 1 Axes>"
            ],
            "image/png": "[encoded data removed]"
          },
          "metadata": {
            "needs_background": "light"
          }
        }
      ]
    },
    {
      "cell_type": "markdown",
      "source": [
        "###**Conclusion :**\n",
        "1. ACF Plot :\n",
        "* Here, so many points are outside the line of significance, so instead of finding the order in usual way, we shall find it in other way. Here, we are able to witness a decreasing trend in the points, hence the order will be 0.\n",
        "2. PACF Plot :\n",
        "* Here, almost all the points are falling outside the line of significance, hence, we shall go for other method to find the order. We shall see for the points which falls close to 1 or -1. Here, 3 points falls very close to 1 or -1. Hence the order will be 3."
      ],
      "metadata": {
        "id": "ypue6NnbYZ8t"
      }
    },
    {
      "cell_type": "markdown",
      "metadata": {
        "id": "103f55f0"
      },
      "source": [
        "## **Fitting ARIMA Model**"
      ]
    },
    {
      "cell_type": "markdown",
      "metadata": {
        "id": "092e00d4"
      },
      "source": [
        "We got the order of ARIMA as (3,2,0)"
      ]
    },
    {
      "cell_type": "code",
      "execution_count": 21,
      "metadata": {
        "colab": {
          "base_uri": "https://localhost:8080/"
        },
        "id": "0808fbfe",
        "outputId": "1e07b5a2-265f-4317-8da1-e8e6022f8dd6"
      },
      "outputs": [
        {
          "output_type": "stream",
          "name": "stderr",
          "text": [
            "/usr/local/lib/python3.8/dist-packages/statsmodels/tsa/base/tsa_model.py:471: ValueWarning:\n",
            "\n",
            "No frequency information was provided, so inferred frequency Q-DEC will be used.\n",
            "\n",
            "/usr/local/lib/python3.8/dist-packages/statsmodels/tsa/base/tsa_model.py:471: ValueWarning:\n",
            "\n",
            "No frequency information was provided, so inferred frequency Q-DEC will be used.\n",
            "\n",
            "/usr/local/lib/python3.8/dist-packages/statsmodels/tsa/base/tsa_model.py:471: ValueWarning:\n",
            "\n",
            "No frequency information was provided, so inferred frequency Q-DEC will be used.\n",
            "\n"
          ]
        },
        {
          "output_type": "stream",
          "name": "stdout",
          "text": [
            "                               SARIMAX Results                                \n",
            "==============================================================================\n",
            "Dep. Variable:                  Sales   No. Observations:                   42\n",
            "Model:                 ARIMA(3, 2, 0)   Log Likelihood                -267.922\n",
            "Date:                Tue, 10 Jan 2023   AIC                            543.843\n",
            "Time:                        16:24:06   BIC                            550.599\n",
            "Sample:                    03-31-1986   HQIC                           546.286\n",
            "                         - 06-30-1996                                         \n",
            "Covariance Type:                  opg                                         \n",
            "==============================================================================\n",
            "                 coef    std err          z      P>|z|      [0.025      0.975]\n",
            "------------------------------------------------------------------------------\n",
            "ar.L1         -0.9851      0.045    -22.039      0.000      -1.073      -0.897\n",
            "ar.L2         -1.0094      0.046    -22.062      0.000      -1.099      -0.920\n",
            "ar.L3         -0.9500      0.046    -20.476      0.000      -1.041      -0.859\n",
            "sigma2      2.948e+04   6894.815      4.275      0.000     1.6e+04     4.3e+04\n",
            "===================================================================================\n",
            "Ljung-Box (L1) (Q):                   0.01   Jarque-Bera (JB):                 0.89\n",
            "Prob(Q):                              0.92   Prob(JB):                         0.64\n",
            "Heteroskedasticity (H):               0.57   Skew:                             0.36\n",
            "Prob(H) (two-sided):                  0.32   Kurtosis:                         3.08\n",
            "===================================================================================\n",
            "\n",
            "Warnings:\n",
            "[1] Covariance matrix calculated using the outer product of gradients (complex-step).\n"
          ]
        }
      ],
      "source": [
        "model = ARIMA(df,order = (3,2,0))\n",
        "model = model.fit()\n",
        "print(model.summary())"
      ]
    },
    {
      "cell_type": "code",
      "execution_count": 22,
      "metadata": {
        "colab": {
          "base_uri": "https://localhost:8080/",
          "height": 279
        },
        "id": "05733646",
        "outputId": "159db1ec-4404-41c0-a689-357fa3f10ade"
      },
      "outputs": [
        {
          "output_type": "display_data",
          "data": {
            "text/plain": [
              "<Figure size 432x288 with 1 Axes>"
            ],
            "image/png": "[encoded data removed]"
          },
          "metadata": {
            "needs_background": "light"
          }
        }
      ],
      "source": [
        "# making predictions \n",
        "pred = model.predict()\n",
        "df.plot(legend=True)\n",
        "pred.plot(label=\"Predicted\",legend=True)\n",
        "plt.show()"
      ]
    },
    {
      "cell_type": "code",
      "execution_count": 23,
      "metadata": {
        "colab": {
          "base_uri": "https://localhost:8080/"
        },
        "id": "012aea45",
        "outputId": "33d40cbe-64e6-4617-e50c-2da4c8174347"
      },
      "outputs": [
        {
          "output_type": "stream",
          "name": "stdout",
          "text": [
            "(28,) (14,) (42, 1)\n"
          ]
        }
      ],
      "source": [
        "# using training and testing\n",
        "train = df.Sales[:28]\n",
        "test = df.Sales[28:]\n",
        "print(train.shape , test.shape, df.shape)"
      ]
    },
    {
      "cell_type": "code",
      "execution_count": 24,
      "metadata": {
        "colab": {
          "base_uri": "https://localhost:8080/"
        },
        "id": "338b2780",
        "outputId": "641b3cd1-6cc2-44b4-8ae3-e3564e3e3d15"
      },
      "outputs": [
        {
          "output_type": "stream",
          "name": "stdout",
          "text": [
            "\t ARIMA MODEL : In- Sample Forecasting \n",
            "\n",
            "predicted = 3239.949322, expected = 3056.000000\n",
            "predicted = 3783.857832, expected = 3899.000000\n",
            "predicted = 3831.717656, expected = 3629.000000\n"
          ]
        },
        {
          "output_type": "stream",
          "name": "stderr",
          "text": [
            "/usr/local/lib/python3.8/dist-packages/statsmodels/base/model.py:604: ConvergenceWarning:\n",
            "\n",
            "Maximum Likelihood optimization failed to converge. Check mle_retvals\n",
            "\n"
          ]
        },
        {
          "output_type": "stream",
          "name": "stdout",
          "text": [
            "predicted = 3362.648217, expected = 3373.000000\n",
            "predicted = 3290.990016, expected = 3352.000000\n",
            "predicted = 4128.699752, expected = 4342.000000\n",
            "predicted = 4010.654891, expected = 4461.000000\n"
          ]
        },
        {
          "output_type": "stream",
          "name": "stderr",
          "text": [
            "/usr/local/lib/python3.8/dist-packages/statsmodels/tsa/statespace/sarimax.py:966: UserWarning:\n",
            "\n",
            "Non-stationary starting autoregressive parameters found. Using zeros as starting parameters.\n",
            "\n"
          ]
        },
        {
          "output_type": "stream",
          "name": "stdout",
          "text": [
            "predicted = 4199.816638, expected = 4017.000000\n",
            "predicted = 4059.928665, expected = 3854.000000\n",
            "predicted = 4794.057182, expected = 4936.000000\n",
            "predicted = 5063.869305, expected = 4895.000000\n",
            "predicted = 4440.437326, expected = 4333.000000\n",
            "predicted = 4243.307178, expected = 4194.000000\n",
            "predicted = 5229.308109, expected = 5253.000000\n"
          ]
        }
      ],
      "source": [
        "print('\\t ARIMA MODEL : In- Sample Forecasting \\n')\n",
        "\n",
        "history = [x for x in train]\n",
        "predictions = []\n",
        "\n",
        "for t in range(len(test)):\n",
        "    \n",
        "    model = ARIMA(history, order=(3,2,0))\n",
        "    model_fit = model.fit()\n",
        "    \n",
        "    output = model_fit.forecast(steps=1)\n",
        "    yhat = output[0]\n",
        "    predictions.append(float(yhat))\n",
        "    \n",
        "    obs = test[t]\n",
        "    history.append(obs)\n",
        "    print('predicted = %f, expected = %f' % (yhat, obs))\n"
      ]
    },
    {
      "cell_type": "code",
      "execution_count": 25,
      "metadata": {
        "colab": {
          "base_uri": "https://localhost:8080/",
          "height": 265
        },
        "id": "3ceacd61",
        "outputId": "a0d1efd0-5174-4d48-e121-c0d74960a24a"
      },
      "outputs": [
        {
          "output_type": "display_data",
          "data": {
            "text/plain": [
              "<Figure size 432x288 with 1 Axes>"
            ],
            "image/png": "[encoded data removed]"
          },
          "metadata": {
            "needs_background": "light"
          }
        }
      ],
      "source": [
        "predictions_series = pd.Series(predictions, index = test.index)\n",
        "plt.plot(df,label = 'Expected Values')\n",
        "plt.plot(predictions_series,label = 'Predicted Values');\n",
        "plt.legend(loc=\"upper left\")\n",
        "plt.show()"
      ]
    },
    {
      "cell_type": "code",
      "execution_count": 26,
      "metadata": {
        "colab": {
          "base_uri": "https://localhost:8080/"
        },
        "id": "abfa2a3c",
        "outputId": "9f77564a-9146-4975-881b-11c824ae0b31"
      },
      "outputs": [
        {
          "output_type": "stream",
          "name": "stdout",
          "text": [
            "MSE :  34239.64547246103\n",
            "RMSE :  185.03957812441377\n"
          ]
        }
      ],
      "source": [
        "#Calculate mean squared error\n",
        "print(\"MSE : \",mean_squared_error(test, predictions))\n",
        "  \n",
        "# Calculate root mean squared error\n",
        "print(\"RMSE : \",rmse(test, predictions))"
      ]
    },
    {
      "cell_type": "markdown",
      "metadata": {
        "id": "48a2076e"
      },
      "source": [
        "### **Making Predictions for future dates**"
      ]
    },
    {
      "cell_type": "code",
      "execution_count": 27,
      "metadata": {
        "id": "d8f1915c"
      },
      "outputs": [],
      "source": [
        "index_future_dates = pd.date_range(start='1996-7-1', periods=7, freq='Q')\n",
        "fut_pred = model_fit.predict(start=len(df), end=len(df)+7, typ=\"levels\")\n",
        "fut_val = fut_pred[-7:]\n",
        "fut_fc = pd.DataFrame({'Sales' : fut_val},index=index_future_dates)"
      ]
    },
    {
      "cell_type": "code",
      "execution_count": 28,
      "metadata": {
        "colab": {
          "base_uri": "https://localhost:8080/",
          "height": 269
        },
        "id": "f81933c7",
        "outputId": "2ebfda94-a7e7-4453-ad91-d36094d1d824"
      },
      "outputs": [
        {
          "output_type": "execute_result",
          "data": {
            "text/plain": [
              "                  Sales\n",
              "1996-09-30  4608.918092\n",
              "1996-12-31  4531.592801\n",
              "1997-03-31  5523.067397\n",
              "1997-06-30  5456.972459\n",
              "1997-09-30  4888.179754\n",
              "1997-12-31  4867.022191\n",
              "1998-03-31  5817.043906"
            ],
            "text/html": [
              "\n",
              "  <div id=\"df-53655994-f570-441e-b241-3959d3a45853\">\n",
              "    <div class=\"colab-df-container\">\n",
              "      <div>\n",
              "<style scoped>\n",
              "    .dataframe tbody tr th:only-of-type {\n",
              "        vertical-align: middle;\n",
              "    }\n",
              "\n",
              "    .dataframe tbody tr th {\n",
              "        vertical-align: top;\n",
              "    }\n",
              "\n",
              "    .dataframe thead th {\n",
              "        text-align: right;\n",
              "    }\n",
              "</style>\n",
              "<table border=\"1\" class=\"dataframe\">\n",
              "  <thead>\n",
              "    <tr style=\"text-align: right;\">\n",
              "      <th></th>\n",
              "      <th>Sales</th>\n",
              "    </tr>\n",
              "  </thead>\n",
              "  <tbody>\n",
              "    <tr>\n",
              "      <th>1996-09-30</th>\n",
              "      <td>4608.918092</td>\n",
              "    </tr>\n",
              "    <tr>\n",
              "      <th>1996-12-31</th>\n",
              "      <td>4531.592801</td>\n",
              "    </tr>\n",
              "    <tr>\n",
              "      <th>1997-03-31</th>\n",
              "      <td>5523.067397</td>\n",
              "    </tr>\n",
              "    <tr>\n",
              "      <th>1997-06-30</th>\n",
              "      <td>5456.972459</td>\n",
              "    </tr>\n",
              "    <tr>\n",
              "      <th>1997-09-30</th>\n",
              "      <td>4888.179754</td>\n",
              "    </tr>\n",
              "    <tr>\n",
              "      <th>1997-12-31</th>\n",
              "      <td>4867.022191</td>\n",
              "    </tr>\n",
              "    <tr>\n",
              "      <th>1998-03-31</th>\n",
              "      <td>5817.043906</td>\n",
              "    </tr>\n",
              "  </tbody>\n",
              "</table>\n",
              "</div>\n",
              "      <button class=\"colab-df-convert\" onclick=\"convertToInteractive('df-53655994-f570-441e-b241-3959d3a45853')\"\n",
              "              title=\"Convert this dataframe to an interactive table.\"\n",
              "              style=\"display:none;\">\n",
              "        \n",
              "  <svg xmlns=\"http://www.w3.org/2000/svg\" height=\"24px\"viewBox=\"0 0 24 24\"\n",
              "       width=\"24px\">\n",
              "    <path d=\"M0 0h24v24H0V0z\" fill=\"none\"/>\n",
              "    <path d=\"M18.56 5.44l.94 2.06.94-2.06 2.06-.94-2.06-.94-.94-2.06-.94 2.06-2.06.94zm-11 1L8.5 8.5l.94-2.06 2.06-.94-2.06-.94L8.5 2.5l-.94 2.06-2.06.94zm10 10l.94 2.06.94-2.06 2.06-.94-2.06-.94-.94-2.06-.94 2.06-2.06.94z\"/><path d=\"M17.41 7.96l-1.37-1.37c-.4-.4-.92-.59-1.43-.59-.52 0-1.04.2-1.43.59L10.3 9.45l-7.72 7.72c-.78.78-.78 2.05 0 2.83L4 21.41c.39.39.9.59 1.41.59.51 0 1.02-.2 1.41-.59l7.78-7.78 2.81-2.81c.8-.78.8-2.07 0-2.86zM5.41 20L4 18.59l7.72-7.72 1.47 1.35L5.41 20z\"/>\n",
              "  </svg>\n",
              "      </button>\n",
              "      \n",
              "  <style>\n",
              "    .colab-df-container {\n",
              "      display:flex;\n",
              "      flex-wrap:wrap;\n",
              "      gap: 12px;\n",
              "    }\n",
              "\n",
              "    .colab-df-convert {\n",
              "      background-color: #E8F0FE;\n",
              "      border: none;\n",
              "      border-radius: 50%;\n",
              "      cursor: pointer;\n",
              "      display: none;\n",
              "      fill: #1967D2;\n",
              "      height: 32px;\n",
              "      padding: 0 0 0 0;\n",
              "      width: 32px;\n",
              "    }\n",
              "\n",
              "    .colab-df-convert:hover {\n",
              "      background-color: #E2EBFA;\n",
              "      box-shadow: 0px 1px 2px rgba(60, 64, 67, 0.3), 0px 1px 3px 1px rgba(60, 64, 67, 0.15);\n",
              "      fill: #174EA6;\n",
              "    }\n",
              "\n",
              "    [theme=dark] .colab-df-convert {\n",
              "      background-color: #3B4455;\n",
              "      fill: #D2E3FC;\n",
              "    }\n",
              "\n",
              "    [theme=dark] .colab-df-convert:hover {\n",
              "      background-color: #434B5C;\n",
              "      box-shadow: 0px 1px 3px 1px rgba(0, 0, 0, 0.15);\n",
              "      filter: drop-shadow(0px 1px 2px rgba(0, 0, 0, 0.3));\n",
              "      fill: #FFFFFF;\n",
              "    }\n",
              "  </style>\n",
              "\n",
              "      <script>\n",
              "        const buttonEl =\n",
              "          document.querySelector('#df-53655994-f570-441e-b241-3959d3a45853 button.colab-df-convert');\n",
              "        buttonEl.style.display =\n",
              "          google.colab.kernel.accessAllowed ? 'block' : 'none';\n",
              "\n",
              "        async function convertToInteractive(key) {\n",
              "          const element = document.querySelector('#df-53655994-f570-441e-b241-3959d3a45853');\n",
              "          const dataTable =\n",
              "            await google.colab.kernel.invokeFunction('convertToInteractive',\n",
              "                                                     [key], {});\n",
              "          if (!dataTable) return;\n",
              "\n",
              "          const docLinkHtml = 'Like what you see? Visit the ' +\n",
              "            '<a target=\"_blank\" href=https://colab.research.google.com/notebooks/data_table.ipynb>data table notebook</a>'\n",
              "            + ' to learn more about interactive tables.';\n",
              "          element.innerHTML = '';\n",
              "          dataTable['output_type'] = 'display_data';\n",
              "          await google.colab.output.renderOutput(dataTable, element);\n",
              "          const docLink = document.createElement('div');\n",
              "          docLink.innerHTML = docLinkHtml;\n",
              "          element.appendChild(docLink);\n",
              "        }\n",
              "      </script>\n",
              "    </div>\n",
              "  </div>\n",
              "  "
            ]
          },
          "metadata": {},
          "execution_count": 28
        }
      ],
      "source": [
        "fut_fc"
      ]
    },
    {
      "cell_type": "code",
      "execution_count": 29,
      "metadata": {
        "colab": {
          "base_uri": "https://localhost:8080/",
          "height": 268
        },
        "id": "6c8c438b",
        "outputId": "d74238ad-f927-4c46-977a-4410b9464800"
      },
      "outputs": [
        {
          "output_type": "display_data",
          "data": {
            "text/plain": [
              "<Figure size 432x288 with 1 Axes>"
            ],
            "image/png": "[encoded data removed]"
          },
          "metadata": {
            "needs_background": "light"
          }
        }
      ],
      "source": [
        "plt.plot(df)\n",
        "plt.plot(fut_fc)\n",
        "plt.show()"
      ]
    },
    {
      "cell_type": "code",
      "execution_count": 30,
      "metadata": {
        "colab": {
          "base_uri": "https://localhost:8080/"
        },
        "id": "89e95639",
        "outputId": "8da71c8b-e038-460e-e0bd-99ed909ef1bd"
      },
      "outputs": [
        {
          "output_type": "execute_result",
          "data": {
            "text/plain": [
              "['__class__',\n",
              " '__delattr__',\n",
              " '__dict__',\n",
              " '__dir__',\n",
              " '__doc__',\n",
              " '__eq__',\n",
              " '__format__',\n",
              " '__ge__',\n",
              " '__getattribute__',\n",
              " '__getitem__',\n",
              " '__gt__',\n",
              " '__hash__',\n",
              " '__init__',\n",
              " '__init_subclass__',\n",
              " '__le__',\n",
              " '__lt__',\n",
              " '__module__',\n",
              " '__ne__',\n",
              " '__new__',\n",
              " '__reduce__',\n",
              " '__reduce_ex__',\n",
              " '__repr__',\n",
              " '__setattr__',\n",
              " '__setitem__',\n",
              " '__sizeof__',\n",
              " '__str__',\n",
              " '__subclasshook__',\n",
              " '__weakref__',\n",
              " '_check_kwargs',\n",
              " '_clone_from_init_kwds',\n",
              " '_conditional_sum_squares',\n",
              " '_data_attr',\n",
              " '_fit_collinear',\n",
              " '_fit_zeros',\n",
              " '_fixed_params',\n",
              " '_fixed_params_index',\n",
              " '_forecasts_error_partial_derivatives',\n",
              " '_formula_max_endog',\n",
              " '_free_params_index',\n",
              " '_get_exog_names',\n",
              " '_get_extension_time_varying_matrices',\n",
              " '_get_index_label_loc',\n",
              " '_get_index_loc',\n",
              " '_get_index_with_final_state',\n",
              " '_get_init_kwds',\n",
              " '_get_model_names',\n",
              " '_get_prediction_index',\n",
              " '_handle_data',\n",
              " '_has_fixed_params',\n",
              " '_hessian_complex_step',\n",
              " '_hessian_finite_difference',\n",
              " '_hessian_oim',\n",
              " '_hessian_opg',\n",
              " '_hessian_param_defaults',\n",
              " '_hessian_param_names',\n",
              " '_index',\n",
              " '_index_dates',\n",
              " '_index_freq',\n",
              " '_index_generated',\n",
              " '_index_inferred_freq',\n",
              " '_index_int64',\n",
              " '_index_none',\n",
              " '_init_dates',\n",
              " '_init_keys',\n",
              " '_init_kwargs',\n",
              " '_input_exog',\n",
              " '_input_exog_names',\n",
              " '_k_diff',\n",
              " '_k_exog',\n",
              " '_k_order',\n",
              " '_k_seasonal_diff',\n",
              " '_k_states_diff',\n",
              " '_k_trend',\n",
              " '_kwargs_allowed',\n",
              " '_loglike_param_defaults',\n",
              " '_loglike_param_names',\n",
              " '_loglikelihood_burn',\n",
              " '_params',\n",
              " '_params_index',\n",
              " '_polynomial_ar',\n",
              " '_polynomial_ar_idx',\n",
              " '_polynomial_ma',\n",
              " '_polynomial_ma_idx',\n",
              " '_polynomial_seasonal_ar',\n",
              " '_polynomial_seasonal_ar_idx',\n",
              " '_polynomial_seasonal_ma',\n",
              " '_polynomial_seasonal_ma_idx',\n",
              " '_polynomial_trend',\n",
              " '_res_classes',\n",
              " '_score_complex_step',\n",
              " '_score_finite_difference',\n",
              " '_score_harvey',\n",
              " '_score_obs_harvey',\n",
              " '_score_param_defaults',\n",
              " '_score_param_names',\n",
              " '_set_exog_names',\n",
              " '_spec',\n",
              " '_spec_arima',\n",
              " '_trend_data',\n",
              " '_validate_can_fix_params',\n",
              " '_validate_out_of_sample_exog',\n",
              " '_wrap_results',\n",
              " 'clone',\n",
              " 'concentrate_scale',\n",
              " 'data',\n",
              " 'endog',\n",
              " 'endog_names',\n",
              " 'enforce_invertibility',\n",
              " 'enforce_stationarity',\n",
              " 'exog',\n",
              " 'exog_names',\n",
              " 'filter',\n",
              " 'fit',\n",
              " 'fit_constrained',\n",
              " 'fix_params',\n",
              " 'from_formula',\n",
              " 'hamilton_representation',\n",
              " 'handle_params',\n",
              " 'hessian',\n",
              " 'impulse_responses',\n",
              " 'information',\n",
              " 'initial_design',\n",
              " 'initial_selection',\n",
              " 'initial_state_intercept',\n",
              " 'initial_transition',\n",
              " 'initial_variance',\n",
              " 'initialization',\n",
              " 'initialize',\n",
              " 'initialize_approximate_diffuse',\n",
              " 'initialize_default',\n",
              " 'initialize_known',\n",
              " 'initialize_statespace',\n",
              " 'initialize_stationary',\n",
              " 'k_ar',\n",
              " 'k_ar_params',\n",
              " 'k_constant',\n",
              " 'k_diff',\n",
              " 'k_endog',\n",
              " 'k_exog',\n",
              " 'k_ma',\n",
              " 'k_ma_params',\n",
              " 'k_params',\n",
              " 'k_posdef',\n",
              " 'k_seasonal_ar',\n",
              " 'k_seasonal_ar_params',\n",
              " 'k_seasonal_diff',\n",
              " 'k_seasonal_ma',\n",
              " 'k_seasonal_ma_params',\n",
              " 'k_states',\n",
              " 'k_trend',\n",
              " 'loglike',\n",
              " 'loglikelihood_burn',\n",
              " 'loglikeobs',\n",
              " 'measurement_error',\n",
              " 'mle_regression',\n",
              " 'model_latex_names',\n",
              " 'model_names',\n",
              " 'model_orders',\n",
              " 'nobs',\n",
              " 'observed_information_matrix',\n",
              " 'opg_information_matrix',\n",
              " 'order',\n",
              " 'orig_endog',\n",
              " 'orig_exog',\n",
              " 'orig_k_diff',\n",
              " 'orig_k_seasonal_diff',\n",
              " 'param_names',\n",
              " 'param_terms',\n",
              " 'params_complete',\n",
              " 'polynomial_ar',\n",
              " 'polynomial_ma',\n",
              " 'polynomial_seasonal_ar',\n",
              " 'polynomial_seasonal_ma',\n",
              " 'polynomial_trend',\n",
              " 'predict',\n",
              " 'prepare_data',\n",
              " 'score',\n",
              " 'score_obs',\n",
              " 'seasonal_order',\n",
              " 'seasonal_periods',\n",
              " 'selection_ma_params_idx',\n",
              " 'set_conserve_memory',\n",
              " 'set_filter_method',\n",
              " 'set_inversion_method',\n",
              " 'set_smoother_output',\n",
              " 'set_stability_method',\n",
              " 'simple_differencing',\n",
              " 'simulate',\n",
              " 'simulation_smoother',\n",
              " 'smooth',\n",
              " 'ssm',\n",
              " 'start_params',\n",
              " 'state_error',\n",
              " 'state_names',\n",
              " 'state_regression',\n",
              " 'time_varying_regression',\n",
              " 'tolerance',\n",
              " 'transform_jacobian',\n",
              " 'transform_params',\n",
              " 'transition_ar_params_idx',\n",
              " 'trend',\n",
              " 'trend_offset',\n",
              " 'untransform_params',\n",
              " 'update',\n",
              " 'use_exact_diffuse']"
            ]
          },
          "metadata": {},
          "execution_count": 30
        }
      ],
      "source": [
        "dir(model)"
      ]
    },
    {
      "cell_type": "code",
      "execution_count": 31,
      "metadata": {
        "id": "4146485a"
      },
      "outputs": [],
      "source": [
        "# model.plot_diagnostics(figsize=(15, 12))\n",
        "# plt.show()"
      ]
    },
    {
      "cell_type": "markdown",
      "metadata": {
        "id": "843586ec"
      },
      "source": [
        "### **Ljung-Box test:**\n",
        "The Ljung-Box test is a statistical test that checks if autocorrelation exists in a time series.\n",
        "\n",
        "* H0 : independently distributed  \n",
        "* H1 : not independently distribute"
      ]
    },
    {
      "cell_type": "code",
      "execution_count": 32,
      "metadata": {
        "colab": {
          "base_uri": "https://localhost:8080/",
          "height": 81
        },
        "id": "a26642ac",
        "outputId": "26855e69-18d1-479e-ced9-40174ca9250b"
      },
      "outputs": [
        {
          "output_type": "execute_result",
          "data": {
            "text/plain": [
              "    lb_stat  lb_pvalue\n",
              "1  0.020055   0.887384"
            ],
            "text/html": [
              "\n",
              "  <div id=\"df-ace88d33-3628-424e-9e36-4d49ed9c8407\">\n",
              "    <div class=\"colab-df-container\">\n",
              "      <div>\n",
              "<style scoped>\n",
              "    .dataframe tbody tr th:only-of-type {\n",
              "        vertical-align: middle;\n",
              "    }\n",
              "\n",
              "    .dataframe tbody tr th {\n",
              "        vertical-align: top;\n",
              "    }\n",
              "\n",
              "    .dataframe thead th {\n",
              "        text-align: right;\n",
              "    }\n",
              "</style>\n",
              "<table border=\"1\" class=\"dataframe\">\n",
              "  <thead>\n",
              "    <tr style=\"text-align: right;\">\n",
              "      <th></th>\n",
              "      <th>lb_stat</th>\n",
              "      <th>lb_pvalue</th>\n",
              "    </tr>\n",
              "  </thead>\n",
              "  <tbody>\n",
              "    <tr>\n",
              "      <th>1</th>\n",
              "      <td>0.020055</td>\n",
              "      <td>0.887384</td>\n",
              "    </tr>\n",
              "  </tbody>\n",
              "</table>\n",
              "</div>\n",
              "      <button class=\"colab-df-convert\" onclick=\"convertToInteractive('df-ace88d33-3628-424e-9e36-4d49ed9c8407')\"\n",
              "              title=\"Convert this dataframe to an interactive table.\"\n",
              "              style=\"display:none;\">\n",
              "        \n",
              "  <svg xmlns=\"http://www.w3.org/2000/svg\" height=\"24px\"viewBox=\"0 0 24 24\"\n",
              "       width=\"24px\">\n",
              "    <path d=\"M0 0h24v24H0V0z\" fill=\"none\"/>\n",
              "    <path d=\"M18.56 5.44l.94 2.06.94-2.06 2.06-.94-2.06-.94-.94-2.06-.94 2.06-2.06.94zm-11 1L8.5 8.5l.94-2.06 2.06-.94-2.06-.94L8.5 2.5l-.94 2.06-2.06.94zm10 10l.94 2.06.94-2.06 2.06-.94-2.06-.94-.94-2.06-.94 2.06-2.06.94z\"/><path d=\"M17.41 7.96l-1.37-1.37c-.4-.4-.92-.59-1.43-.59-.52 0-1.04.2-1.43.59L10.3 9.45l-7.72 7.72c-.78.78-.78 2.05 0 2.83L4 21.41c.39.39.9.59 1.41.59.51 0 1.02-.2 1.41-.59l7.78-7.78 2.81-2.81c.8-.78.8-2.07 0-2.86zM5.41 20L4 18.59l7.72-7.72 1.47 1.35L5.41 20z\"/>\n",
              "  </svg>\n",
              "      </button>\n",
              "      \n",
              "  <style>\n",
              "    .colab-df-container {\n",
              "      display:flex;\n",
              "      flex-wrap:wrap;\n",
              "      gap: 12px;\n",
              "    }\n",
              "\n",
              "    .colab-df-convert {\n",
              "      background-color: #E8F0FE;\n",
              "      border: none;\n",
              "      border-radius: 50%;\n",
              "      cursor: pointer;\n",
              "      display: none;\n",
              "      fill: #1967D2;\n",
              "      height: 32px;\n",
              "      padding: 0 0 0 0;\n",
              "      width: 32px;\n",
              "    }\n",
              "\n",
              "    .colab-df-convert:hover {\n",
              "      background-color: #E2EBFA;\n",
              "      box-shadow: 0px 1px 2px rgba(60, 64, 67, 0.3), 0px 1px 3px 1px rgba(60, 64, 67, 0.15);\n",
              "      fill: #174EA6;\n",
              "    }\n",
              "\n",
              "    [theme=dark] .colab-df-convert {\n",
              "      background-color: #3B4455;\n",
              "      fill: #D2E3FC;\n",
              "    }\n",
              "\n",
              "    [theme=dark] .colab-df-convert:hover {\n",
              "      background-color: #434B5C;\n",
              "      box-shadow: 0px 1px 3px 1px rgba(0, 0, 0, 0.15);\n",
              "      filter: drop-shadow(0px 1px 2px rgba(0, 0, 0, 0.3));\n",
              "      fill: #FFFFFF;\n",
              "    }\n",
              "  </style>\n",
              "\n",
              "      <script>\n",
              "        const buttonEl =\n",
              "          document.querySelector('#df-ace88d33-3628-424e-9e36-4d49ed9c8407 button.colab-df-convert');\n",
              "        buttonEl.style.display =\n",
              "          google.colab.kernel.accessAllowed ? 'block' : 'none';\n",
              "\n",
              "        async function convertToInteractive(key) {\n",
              "          const element = document.querySelector('#df-ace88d33-3628-424e-9e36-4d49ed9c8407');\n",
              "          const dataTable =\n",
              "            await google.colab.kernel.invokeFunction('convertToInteractive',\n",
              "                                                     [key], {});\n",
              "          if (!dataTable) return;\n",
              "\n",
              "          const docLinkHtml = 'Like what you see? Visit the ' +\n",
              "            '<a target=\"_blank\" href=https://colab.research.google.com/notebooks/data_table.ipynb>data table notebook</a>'\n",
              "            + ' to learn more about interactive tables.';\n",
              "          element.innerHTML = '';\n",
              "          dataTable['output_type'] = 'display_data';\n",
              "          await google.colab.output.renderOutput(dataTable, element);\n",
              "          const docLink = document.createElement('div');\n",
              "          docLink.innerHTML = docLinkHtml;\n",
              "          element.appendChild(docLink);\n",
              "        }\n",
              "      </script>\n",
              "    </div>\n",
              "  </div>\n",
              "  "
            ]
          },
          "metadata": {},
          "execution_count": 32
        }
      ],
      "source": [
        "sm.stats.acorr_ljungbox(model_fit.resid, lags=[1], return_df=True)"
      ]
    },
    {
      "cell_type": "markdown",
      "metadata": {
        "id": "6d4abdf1"
      },
      "source": [
        "* Conclusion: \n",
        "Here p-value = 0.05 <0.87, we do not Reject Ho i.e. The data are independently distributed in the given series. "
      ]
    },
    {
      "cell_type": "markdown",
      "source": [
        "## **Using Auto ARIMA for model building**"
      ],
      "metadata": {
        "id": "4Rd2I2ggDfbH"
      }
    },
    {
      "cell_type": "markdown",
      "source": [
        "Here, in our data there is a serious problem of seasonality, hence we shall use SARIMAX model for forecasting. For that purpose we shall use Auto ARIMA."
      ],
      "metadata": {
        "id": "fEqOWrklDiZ7"
      }
    },
    {
      "cell_type": "code",
      "source": [
        "auto_arima_model = auto_arima(df, start_p=1, start_q=1,\n",
        "                      test='adf',       # use adftest to find optimal 'd'\n",
        "                      max_p=3, max_q=3, # maximum p and q\n",
        "                      m=4,              # periodicity=4\n",
        "                      d=None,           # let model determine 'd'\n",
        "                      seasonal=True,   # Seasonality\n",
        "                      trace=True,\n",
        "                      error_action='ignore',  \n",
        "                      suppress_warnings=True, \n",
        "                      stepwise=True)\n",
        "\n",
        "print(auto_arima_model.summary())"
      ],
      "metadata": {
        "colab": {
          "base_uri": "https://localhost:8080/"
        },
        "id": "2HZAUbQxB3M4",
        "outputId": "d1912587-11db-4b80-8685-c49689389fb4"
      },
      "execution_count": 33,
      "outputs": [
        {
          "output_type": "stream",
          "name": "stdout",
          "text": [
            "Performing stepwise search to minimize aic\n",
            " ARIMA(1,1,1)(1,1,1)[4]             : AIC=inf, Time=0.25 sec\n",
            " ARIMA(0,1,0)(0,1,0)[4]             : AIC=488.648, Time=0.02 sec\n",
            " ARIMA(1,1,0)(1,1,0)[4]             : AIC=491.401, Time=0.11 sec\n",
            " ARIMA(0,1,1)(0,1,1)[4]             : AIC=491.202, Time=0.10 sec\n",
            " ARIMA(0,1,0)(1,1,0)[4]             : AIC=489.549, Time=0.10 sec\n",
            " ARIMA(0,1,0)(0,1,1)[4]             : AIC=489.438, Time=0.07 sec\n",
            " ARIMA(0,1,0)(1,1,1)[4]             : AIC=491.336, Time=0.15 sec\n",
            " ARIMA(1,1,0)(0,1,0)[4]             : AIC=490.586, Time=0.05 sec\n",
            " ARIMA(0,1,1)(0,1,0)[4]             : AIC=490.538, Time=0.05 sec\n",
            " ARIMA(1,1,1)(0,1,0)[4]             : AIC=489.597, Time=0.10 sec\n",
            " ARIMA(0,1,0)(0,1,0)[4] intercept   : AIC=490.419, Time=0.03 sec\n",
            "\n",
            "Best model:  ARIMA(0,1,0)(0,1,0)[4]          \n",
            "Total fit time: 1.068 seconds\n",
            "                                     SARIMAX Results                                     \n",
            "=========================================================================================\n",
            "Dep. Variable:                                 y   No. Observations:                   42\n",
            "Model:             SARIMAX(0, 1, 0)x(0, 1, 0, 4)   Log Likelihood                -243.324\n",
            "Date:                           Tue, 10 Jan 2023   AIC                            488.648\n",
            "Time:                                   16:24:09   BIC                            490.258\n",
            "Sample:                               03-31-1986   HQIC                           489.215\n",
            "                                    - 06-30-1996                                         \n",
            "Covariance Type:                             opg                                         \n",
            "==============================================================================\n",
            "                 coef    std err          z      P>|z|      [0.025      0.975]\n",
            "------------------------------------------------------------------------------\n",
            "sigma2      3.017e+04   5911.961      5.104      0.000    1.86e+04    4.18e+04\n",
            "===================================================================================\n",
            "Ljung-Box (L1) (Q):                   0.08   Jarque-Bera (JB):                 2.51\n",
            "Prob(Q):                              0.78   Prob(JB):                         0.29\n",
            "Heteroskedasticity (H):               0.65   Skew:                             0.55\n",
            "Prob(H) (two-sided):                  0.46   Kurtosis:                         3.65\n",
            "===================================================================================\n",
            "\n",
            "Warnings:\n",
            "[1] Covariance matrix calculated using the outer product of gradients (complex-step).\n"
          ]
        }
      ]
    },
    {
      "cell_type": "code",
      "source": [
        "# making predictions\n",
        "pred_auto = auto_arima_model.predict_in_sample(df)\n",
        "df.plot(legend=True)\n",
        "pred_auto.plot(label=\"Predicted\",legend=True)\n",
        "plt.show()"
      ],
      "metadata": {
        "colab": {
          "base_uri": "https://localhost:8080/",
          "height": 279
        },
        "id": "QDGCegG8B3KD",
        "outputId": "7d709e14-0e3d-4893-cd00-b77d85dec724"
      },
      "execution_count": 34,
      "outputs": [
        {
          "output_type": "display_data",
          "data": {
            "text/plain": [
              "<Figure size 432x288 with 1 Axes>"
            ],
            "image/png": "[encoded data removed]"
          },
          "metadata": {
            "needs_background": "light"
          }
        }
      ]
    },
    {
      "cell_type": "code",
      "source": [
        "# making future predictions\n",
        "fut_pred_auto = auto_arima_model.predict(n_periods=7)\n",
        "df.plot(legend=True)\n",
        "fut_pred_auto.plot(label=\"Predicted\",legend=True)\n",
        "plt.show()"
      ],
      "metadata": {
        "colab": {
          "base_uri": "https://localhost:8080/",
          "height": 279
        },
        "id": "NE1FIbIAB3Hr",
        "outputId": "12ce8c2b-a3fc-4662-f52e-d8e89c920cd5"
      },
      "execution_count": 35,
      "outputs": [
        {
          "output_type": "display_data",
          "data": {
            "text/plain": [
              "<Figure size 432x288 with 1 Axes>"
            ],
            "image/png": "[encoded data removed]"
          },
          "metadata": {
            "needs_background": "light"
          }
        }
      ]
    },
    {
      "cell_type": "code",
      "source": [
        "auto_arima_model.plot_diagnostics(figsize=(15, 12))\n",
        "plt.show()"
      ],
      "metadata": {
        "colab": {
          "base_uri": "https://localhost:8080/",
          "height": 730
        },
        "id": "wUJGzOdWB3FJ",
        "outputId": "e0e917be-73d3-42b2-c3c6-c6d0a38978e7"
      },
      "execution_count": 36,
      "outputs": [
        {
          "output_type": "display_data",
          "data": {
            "text/plain": [
              "<Figure size 1080x864 with 4 Axes>"
            ],
            "image/png": "[encoded data removed]"
          },
          "metadata": {
            "needs_background": "light"
          }
        }
      ]
    },
    {
      "cell_type": "markdown",
      "source": [
        "## **Comaparing the Results from ARIMA and Auto ARIMA**"
      ],
      "metadata": {
        "id": "tUTIIRrfaH8u"
      }
    },
    {
      "cell_type": "code",
      "execution_count": 37,
      "metadata": {
        "colab": {
          "base_uri": "https://localhost:8080/",
          "height": 279
        },
        "id": "240748a6",
        "outputId": "1efd020f-6686-415e-d3f6-94496fd2129f"
      },
      "outputs": [
        {
          "output_type": "display_data",
          "data": {
            "text/plain": [
              "<Figure size 432x288 with 1 Axes>"
            ],
            "image/png": "[encoded data removed]"
          },
          "metadata": {
            "needs_background": "light"
          }
        }
      ],
      "source": [
        "# comparing the in-sample predictions\n",
        "df.plot(legend=True)\n",
        "pred.plot(label=\"ARIMA\",legend=True)\n",
        "pred_auto.plot(label=\"Auto ARIMA\",legend=True)\n",
        "plt.show()"
      ]
    },
    {
      "cell_type": "code",
      "execution_count": 38,
      "metadata": {
        "colab": {
          "base_uri": "https://localhost:8080/",
          "height": 268
        },
        "id": "c5b5180c",
        "outputId": "b562c9bb-5d16-4b56-a217-9d85e6441448"
      },
      "outputs": [
        {
          "output_type": "display_data",
          "data": {
            "text/plain": [
              "<Figure size 432x288 with 1 Axes>"
            ],
            "image/png": "[encoded data removed]"
          },
          "metadata": {
            "needs_background": "light"
          }
        }
      ],
      "source": [
        "# comparing the future predictions\n",
        "plt.plot(df, label=\"Original\")\n",
        "plt.plot(fut_fc, label=\"ARIMA\")\n",
        "plt.plot(fut_pred_auto, label=\"Auto ARIMA\")\n",
        "plt.legend()\n",
        "plt.show()"
      ]
    },
    {
      "cell_type": "markdown",
      "source": [
        "## **FB Prophet** - for building the forecasting model"
      ],
      "metadata": {
        "id": "UX5QwmcfED8Q"
      }
    },
    {
      "cell_type": "code",
      "source": [
        "data1 = df.reset_index()"
      ],
      "metadata": {
        "id": "NW9IbkODB3Cr"
      },
      "execution_count": 39,
      "outputs": []
    },
    {
      "cell_type": "code",
      "source": [
        "train_dataset= pd.DataFrame()\n",
        "train_dataset['ds'] = data1['Time']\n",
        "train_dataset['y']= data1['Sales']\n",
        "train_dataset.head()"
      ],
      "metadata": {
        "id": "ROUpEFrzA5UQ",
        "colab": {
          "base_uri": "https://localhost:8080/",
          "height": 206
        },
        "outputId": "11863b13-3a54-4174-ca35-94cd3cf65d02"
      },
      "execution_count": 40,
      "outputs": [
        {
          "output_type": "execute_result",
          "data": {
            "text/plain": [
              "          ds            y\n",
              "0 1986-03-31  1734.827000\n",
              "1 1986-06-30  2244.960999\n",
              "2 1986-09-30  2533.804993\n",
              "3 1986-12-31  2154.962997\n",
              "4 1987-03-31  1547.818996"
            ],
            "text/html": [
              "\n",
              "  <div id=\"df-a2605fc0-917d-4786-b0ff-b668523e9ef3\">\n",
              "    <div class=\"colab-df-container\">\n",
              "      <div>\n",
              "<style scoped>\n",
              "    .dataframe tbody tr th:only-of-type {\n",
              "        vertical-align: middle;\n",
              "    }\n",
              "\n",
              "    .dataframe tbody tr th {\n",
              "        vertical-align: top;\n",
              "    }\n",
              "\n",
              "    .dataframe thead th {\n",
              "        text-align: right;\n",
              "    }\n",
              "</style>\n",
              "<table border=\"1\" class=\"dataframe\">\n",
              "  <thead>\n",
              "    <tr style=\"text-align: right;\">\n",
              "      <th></th>\n",
              "      <th>ds</th>\n",
              "      <th>y</th>\n",
              "    </tr>\n",
              "  </thead>\n",
              "  <tbody>\n",
              "    <tr>\n",
              "      <th>0</th>\n",
              "      <td>1986-03-31</td>\n",
              "      <td>1734.827000</td>\n",
              "    </tr>\n",
              "    <tr>\n",
              "      <th>1</th>\n",
              "      <td>1986-06-30</td>\n",
              "      <td>2244.960999</td>\n",
              "    </tr>\n",
              "    <tr>\n",
              "      <th>2</th>\n",
              "      <td>1986-09-30</td>\n",
              "      <td>2533.804993</td>\n",
              "    </tr>\n",
              "    <tr>\n",
              "      <th>3</th>\n",
              "      <td>1986-12-31</td>\n",
              "      <td>2154.962997</td>\n",
              "    </tr>\n",
              "    <tr>\n",
              "      <th>4</th>\n",
              "      <td>1987-03-31</td>\n",
              "      <td>1547.818996</td>\n",
              "    </tr>\n",
              "  </tbody>\n",
              "</table>\n",
              "</div>\n",
              "      <button class=\"colab-df-convert\" onclick=\"convertToInteractive('df-a2605fc0-917d-4786-b0ff-b668523e9ef3')\"\n",
              "              title=\"Convert this dataframe to an interactive table.\"\n",
              "              style=\"display:none;\">\n",
              "        \n",
              "  <svg xmlns=\"http://www.w3.org/2000/svg\" height=\"24px\"viewBox=\"0 0 24 24\"\n",
              "       width=\"24px\">\n",
              "    <path d=\"M0 0h24v24H0V0z\" fill=\"none\"/>\n",
              "    <path d=\"M18.56 5.44l.94 2.06.94-2.06 2.06-.94-2.06-.94-.94-2.06-.94 2.06-2.06.94zm-11 1L8.5 8.5l.94-2.06 2.06-.94-2.06-.94L8.5 2.5l-.94 2.06-2.06.94zm10 10l.94 2.06.94-2.06 2.06-.94-2.06-.94-.94-2.06-.94 2.06-2.06.94z\"/><path d=\"M17.41 7.96l-1.37-1.37c-.4-.4-.92-.59-1.43-.59-.52 0-1.04.2-1.43.59L10.3 9.45l-7.72 7.72c-.78.78-.78 2.05 0 2.83L4 21.41c.39.39.9.59 1.41.59.51 0 1.02-.2 1.41-.59l7.78-7.78 2.81-2.81c.8-.78.8-2.07 0-2.86zM5.41 20L4 18.59l7.72-7.72 1.47 1.35L5.41 20z\"/>\n",
              "  </svg>\n",
              "      </button>\n",
              "      \n",
              "  <style>\n",
              "    .colab-df-container {\n",
              "      display:flex;\n",
              "      flex-wrap:wrap;\n",
              "      gap: 12px;\n",
              "    }\n",
              "\n",
              "    .colab-df-convert {\n",
              "      background-color: #E8F0FE;\n",
              "      border: none;\n",
              "      border-radius: 50%;\n",
              "      cursor: pointer;\n",
              "      display: none;\n",
              "      fill: #1967D2;\n",
              "      height: 32px;\n",
              "      padding: 0 0 0 0;\n",
              "      width: 32px;\n",
              "    }\n",
              "\n",
              "    .colab-df-convert:hover {\n",
              "      background-color: #E2EBFA;\n",
              "      box-shadow: 0px 1px 2px rgba(60, 64, 67, 0.3), 0px 1px 3px 1px rgba(60, 64, 67, 0.15);\n",
              "      fill: #174EA6;\n",
              "    }\n",
              "\n",
              "    [theme=dark] .colab-df-convert {\n",
              "      background-color: #3B4455;\n",
              "      fill: #D2E3FC;\n",
              "    }\n",
              "\n",
              "    [theme=dark] .colab-df-convert:hover {\n",
              "      background-color: #434B5C;\n",
              "      box-shadow: 0px 1px 3px 1px rgba(0, 0, 0, 0.15);\n",
              "      filter: drop-shadow(0px 1px 2px rgba(0, 0, 0, 0.3));\n",
              "      fill: #FFFFFF;\n",
              "    }\n",
              "  </style>\n",
              "\n",
              "      <script>\n",
              "        const buttonEl =\n",
              "          document.querySelector('#df-a2605fc0-917d-4786-b0ff-b668523e9ef3 button.colab-df-convert');\n",
              "        buttonEl.style.display =\n",
              "          google.colab.kernel.accessAllowed ? 'block' : 'none';\n",
              "\n",
              "        async function convertToInteractive(key) {\n",
              "          const element = document.querySelector('#df-a2605fc0-917d-4786-b0ff-b668523e9ef3');\n",
              "          const dataTable =\n",
              "            await google.colab.kernel.invokeFunction('convertToInteractive',\n",
              "                                                     [key], {});\n",
              "          if (!dataTable) return;\n",
              "\n",
              "          const docLinkHtml = 'Like what you see? Visit the ' +\n",
              "            '<a target=\"_blank\" href=https://colab.research.google.com/notebooks/data_table.ipynb>data table notebook</a>'\n",
              "            + ' to learn more about interactive tables.';\n",
              "          element.innerHTML = '';\n",
              "          dataTable['output_type'] = 'display_data';\n",
              "          await google.colab.output.renderOutput(dataTable, element);\n",
              "          const docLink = document.createElement('div');\n",
              "          docLink.innerHTML = docLinkHtml;\n",
              "          element.appendChild(docLink);\n",
              "        }\n",
              "      </script>\n",
              "    </div>\n",
              "  </div>\n",
              "  "
            ]
          },
          "metadata": {},
          "execution_count": 40
        }
      ]
    },
    {
      "cell_type": "code",
      "source": [
        "m = Prophet()\n",
        "m.fit(train_dataset)\n",
        "future = m.make_future_dataframe(periods=10, freq='Q')\n",
        "forecast = m.predict(future)\n",
        "forecast[['ds', 'yhat', 'yhat_lower', 'yhat_upper']]"
      ],
      "metadata": {
        "colab": {
          "base_uri": "https://localhost:8080/",
          "height": 1000
        },
        "id": "1xl7KSCyA5Wn",
        "outputId": "5d12b090-04a2-4ac3-c84e-f8646e396bb2"
      },
      "execution_count": 41,
      "outputs": [
        {
          "output_type": "stream",
          "name": "stderr",
          "text": [
            "INFO:prophet:Disabling weekly seasonality. Run prophet with weekly_seasonality=True to override this.\n",
            "INFO:prophet:Disabling daily seasonality. Run prophet with daily_seasonality=True to override this.\n",
            "DEBUG:cmdstanpy:input tempfile: /tmp/tmpuafds_t6/y2hjdvxz.json\n",
            "DEBUG:cmdstanpy:input tempfile: /tmp/tmpuafds_t6/28pqhyj5.json\n",
            "DEBUG:cmdstanpy:idx 0\n",
            "DEBUG:cmdstanpy:running CmdStan, num_threads: None\n",
            "DEBUG:cmdstanpy:CmdStan args: ['/usr/local/lib/python3.8/dist-packages/prophet/stan_model/prophet_model.bin', 'random', 'seed=52989', 'data', 'file=/tmp/tmpuafds_t6/y2hjdvxz.json', 'init=/tmp/tmpuafds_t6/28pqhyj5.json', 'output', 'file=/tmp/tmpuafds_t6/prophet_model9107f13m/prophet_model-20230110162413.csv', 'method=optimize', 'algorithm=newton', 'iter=10000']\n",
            "16:24:13 - cmdstanpy - INFO - Chain [1] start processing\n",
            "INFO:cmdstanpy:Chain [1] start processing\n",
            "16:24:13 - cmdstanpy - INFO - Chain [1] done processing\n",
            "INFO:cmdstanpy:Chain [1] done processing\n"
          ]
        },
        {
          "output_type": "execute_result",
          "data": {
            "text/plain": [
              "           ds         yhat   yhat_lower   yhat_upper\n",
              "0  1986-03-31  1610.924483  1407.491947  1792.446421\n",
              "1  1986-06-30  2246.517004  2057.471464  2414.998089\n",
              "2  1986-09-30  2225.267396  2050.778034  2408.799884\n",
              "3  1986-12-31  1877.590465  1696.125647  2061.934972\n",
              "4  1987-03-31  1648.035221  1469.746331  1827.433642\n",
              "5  1987-06-30  2325.731699  2153.541139  2505.604455\n",
              "6  1987-09-30  2328.605331  2141.255501  2513.836821\n",
              "7  1987-12-31  1962.408423  1796.398173  2141.612234\n",
              "8  1988-03-31  1751.239433  1561.344804  1951.563848\n",
              "9  1988-06-30  2443.067172  2275.119225  2625.520666\n",
              "10 1988-09-30  2178.841003  1994.036454  2367.466566\n",
              "11 1988-12-31  1977.264659  1802.546388  2172.707936\n",
              "12 1989-03-31  1830.482789  1644.239562  2028.565073\n",
              "13 1989-06-30  2471.060206  2294.245170  2653.740467\n",
              "14 1989-09-30  2361.015510  2171.797001  2533.569995\n",
              "15 1989-12-31  2143.621994  1955.239059  2323.539275\n",
              "16 1990-03-31  2038.359558  1852.415783  2230.474684\n",
              "17 1990-06-30  2748.654235  2555.896400  2930.291970\n",
              "18 1990-09-30  2802.969235  2609.489856  2982.884554\n",
              "19 1990-12-31  2530.863845  2361.547423  2711.207299\n",
              "20 1991-03-31  2375.250099  2179.012853  2557.414576\n",
              "21 1991-06-30  3127.823423  2948.706725  3310.842345\n",
              "22 1991-09-30  3206.396566  3022.912378  3369.524695\n",
              "23 1991-12-31  2915.971638  2739.447159  3116.746174\n",
              "24 1992-03-31  2779.828237  2594.855632  2952.285800\n",
              "25 1992-06-30  3546.732141  3366.854856  3731.768802\n",
              "26 1992-09-30  3358.345553  3177.961864  3562.384159\n",
              "27 1992-12-31  3232.580997  3051.015167  3435.734282\n",
              "28 1993-03-31  3162.785575  2977.929653  3351.566232\n",
              "29 1993-06-30  3881.209122  3697.062869  4064.446484\n",
              "30 1993-09-30  3849.817667  3669.670195  4043.298036\n",
              "31 1993-12-31  3635.897510  3448.953792  3800.120882\n",
              "32 1994-03-31  3534.095921  3355.263126  3707.185942\n",
              "33 1994-06-30  4247.972173  4073.000050  4429.556041\n",
              "34 1994-09-30  4305.866556  4131.687722  4487.535023\n",
              "35 1994-12-31  4037.333616  3857.882801  4219.573427\n",
              "36 1995-03-31  3885.201842  3685.542734  4064.574691\n",
              "37 1995-06-30  4641.182052  4461.908878  4825.515305\n",
              "38 1995-09-30  4723.199519  4536.314663  4907.835179\n",
              "39 1995-12-31  4436.110110  4254.693364  4616.924187\n",
              "40 1996-03-31  4303.188756  4120.428173  4490.806700\n",
              "41 1996-06-30  5073.234141  4888.606984  5242.745249\n",
              "42 1996-09-30  4888.023555  4711.796801  5081.060089\n",
              "43 1996-12-31  4765.426019  4580.724841  4945.839493\n",
              "44 1997-03-31  4695.906027  4524.158384  4883.528035\n",
              "45 1997-06-30  5414.577396  5241.368234  5598.738165\n",
              "46 1997-09-30  5383.371436  5186.587947  5590.908268\n",
              "47 1997-12-31  5169.636773  4978.566117  5360.137733\n",
              "48 1998-03-31  5067.916555  4871.314311  5255.790960\n",
              "49 1998-06-30  5781.792807  5595.463197  5974.506083\n",
              "50 1998-09-30  5839.687190  5646.733967  6036.045850\n",
              "51 1998-12-31  5571.154250  5381.883169  5773.439461"
            ],
            "text/html": [
              "\n",
              "  <div id=\"df-9fce22a8-1a41-4381-bc4a-4515328258fb\">\n",
              "    <div class=\"colab-df-container\">\n",
              "      <div>\n",
              "<style scoped>\n",
              "    .dataframe tbody tr th:only-of-type {\n",
              "        vertical-align: middle;\n",
              "    }\n",
              "\n",
              "    .dataframe tbody tr th {\n",
              "        vertical-align: top;\n",
              "    }\n",
              "\n",
              "    .dataframe thead th {\n",
              "        text-align: right;\n",
              "    }\n",
              "</style>\n",
              "<table border=\"1\" class=\"dataframe\">\n",
              "  <thead>\n",
              "    <tr style=\"text-align: right;\">\n",
              "      <th></th>\n",
              "      <th>ds</th>\n",
              "      <th>yhat</th>\n",
              "      <th>yhat_lower</th>\n",
              "      <th>yhat_upper</th>\n",
              "    </tr>\n",
              "  </thead>\n",
              "  <tbody>\n",
              "    <tr>\n",
              "      <th>0</th>\n",
              "      <td>1986-03-31</td>\n",
              "      <td>1610.924483</td>\n",
              "      <td>1407.491947</td>\n",
              "      <td>1792.446421</td>\n",
              "    </tr>\n",
              "    <tr>\n",
              "      <th>1</th>\n",
              "      <td>1986-06-30</td>\n",
              "      <td>2246.517004</td>\n",
              "      <td>2057.471464</td>\n",
              "      <td>2414.998089</td>\n",
              "    </tr>\n",
              "    <tr>\n",
              "      <th>2</th>\n",
              "      <td>1986-09-30</td>\n",
              "      <td>2225.267396</td>\n",
              "      <td>2050.778034</td>\n",
              "      <td>2408.799884</td>\n",
              "    </tr>\n",
              "    <tr>\n",
              "      <th>3</th>\n",
              "      <td>1986-12-31</td>\n",
              "      <td>1877.590465</td>\n",
              "      <td>1696.125647</td>\n",
              "      <td>2061.934972</td>\n",
              "    </tr>\n",
              "    <tr>\n",
              "      <th>4</th>\n",
              "      <td>1987-03-31</td>\n",
              "      <td>1648.035221</td>\n",
              "      <td>1469.746331</td>\n",
              "      <td>1827.433642</td>\n",
              "    </tr>\n",
              "    <tr>\n",
              "      <th>5</th>\n",
              "      <td>1987-06-30</td>\n",
              "      <td>2325.731699</td>\n",
              "      <td>2153.541139</td>\n",
              "      <td>2505.604455</td>\n",
              "    </tr>\n",
              "    <tr>\n",
              "      <th>6</th>\n",
              "      <td>1987-09-30</td>\n",
              "      <td>2328.605331</td>\n",
              "      <td>2141.255501</td>\n",
              "      <td>2513.836821</td>\n",
              "    </tr>\n",
              "    <tr>\n",
              "      <th>7</th>\n",
              "      <td>1987-12-31</td>\n",
              "      <td>1962.408423</td>\n",
              "      <td>1796.398173</td>\n",
              "      <td>2141.612234</td>\n",
              "    </tr>\n",
              "    <tr>\n",
              "      <th>8</th>\n",
              "      <td>1988-03-31</td>\n",
              "      <td>1751.239433</td>\n",
              "      <td>1561.344804</td>\n",
              "      <td>1951.563848</td>\n",
              "    </tr>\n",
              "    <tr>\n",
              "      <th>9</th>\n",
              "      <td>1988-06-30</td>\n",
              "      <td>2443.067172</td>\n",
              "      <td>2275.119225</td>\n",
              "      <td>2625.520666</td>\n",
              "    </tr>\n",
              "    <tr>\n",
              "      <th>10</th>\n",
              "      <td>1988-09-30</td>\n",
              "      <td>2178.841003</td>\n",
              "      <td>1994.036454</td>\n",
              "      <td>2367.466566</td>\n",
              "    </tr>\n",
              "    <tr>\n",
              "      <th>11</th>\n",
              "      <td>1988-12-31</td>\n",
              "      <td>1977.264659</td>\n",
              "      <td>1802.546388</td>\n",
              "      <td>2172.707936</td>\n",
              "    </tr>\n",
              "    <tr>\n",
              "      <th>12</th>\n",
              "      <td>1989-03-31</td>\n",
              "      <td>1830.482789</td>\n",
              "      <td>1644.239562</td>\n",
              "      <td>2028.565073</td>\n",
              "    </tr>\n",
              "    <tr>\n",
              "      <th>13</th>\n",
              "      <td>1989-06-30</td>\n",
              "      <td>2471.060206</td>\n",
              "      <td>2294.245170</td>\n",
              "      <td>2653.740467</td>\n",
              "    </tr>\n",
              "    <tr>\n",
              "      <th>14</th>\n",
              "      <td>1989-09-30</td>\n",
              "      <td>2361.015510</td>\n",
              "      <td>2171.797001</td>\n",
              "      <td>2533.569995</td>\n",
              "    </tr>\n",
              "    <tr>\n",
              "      <th>15</th>\n",
              "      <td>1989-12-31</td>\n",
              "      <td>2143.621994</td>\n",
              "      <td>1955.239059</td>\n",
              "      <td>2323.539275</td>\n",
              "    </tr>\n",
              "    <tr>\n",
              "      <th>16</th>\n",
              "      <td>1990-03-31</td>\n",
              "      <td>2038.359558</td>\n",
              "      <td>1852.415783</td>\n",
              "      <td>2230.474684</td>\n",
              "    </tr>\n",
              "    <tr>\n",
              "      <th>17</th>\n",
              "      <td>1990-06-30</td>\n",
              "      <td>2748.654235</td>\n",
              "      <td>2555.896400</td>\n",
              "      <td>2930.291970</td>\n",
              "    </tr>\n",
              "    <tr>\n",
              "      <th>18</th>\n",
              "      <td>1990-09-30</td>\n",
              "      <td>2802.969235</td>\n",
              "      <td>2609.489856</td>\n",
              "      <td>2982.884554</td>\n",
              "    </tr>\n",
              "    <tr>\n",
              "      <th>19</th>\n",
              "      <td>1990-12-31</td>\n",
              "      <td>2530.863845</td>\n",
              "      <td>2361.547423</td>\n",
              "      <td>2711.207299</td>\n",
              "    </tr>\n",
              "    <tr>\n",
              "      <th>20</th>\n",
              "      <td>1991-03-31</td>\n",
              "      <td>2375.250099</td>\n",
              "      <td>2179.012853</td>\n",
              "      <td>2557.414576</td>\n",
              "    </tr>\n",
              "    <tr>\n",
              "      <th>21</th>\n",
              "      <td>1991-06-30</td>\n",
              "      <td>3127.823423</td>\n",
              "      <td>2948.706725</td>\n",
              "      <td>3310.842345</td>\n",
              "    </tr>\n",
              "    <tr>\n",
              "      <th>22</th>\n",
              "      <td>1991-09-30</td>\n",
              "      <td>3206.396566</td>\n",
              "      <td>3022.912378</td>\n",
              "      <td>3369.524695</td>\n",
              "    </tr>\n",
              "    <tr>\n",
              "      <th>23</th>\n",
              "      <td>1991-12-31</td>\n",
              "      <td>2915.971638</td>\n",
              "      <td>2739.447159</td>\n",
              "      <td>3116.746174</td>\n",
              "    </tr>\n",
              "    <tr>\n",
              "      <th>24</th>\n",
              "      <td>1992-03-31</td>\n",
              "      <td>2779.828237</td>\n",
              "      <td>2594.855632</td>\n",
              "      <td>2952.285800</td>\n",
              "    </tr>\n",
              "    <tr>\n",
              "      <th>25</th>\n",
              "      <td>1992-06-30</td>\n",
              "      <td>3546.732141</td>\n",
              "      <td>3366.854856</td>\n",
              "      <td>3731.768802</td>\n",
              "    </tr>\n",
              "    <tr>\n",
              "      <th>26</th>\n",
              "      <td>1992-09-30</td>\n",
              "      <td>3358.345553</td>\n",
              "      <td>3177.961864</td>\n",
              "      <td>3562.384159</td>\n",
              "    </tr>\n",
              "    <tr>\n",
              "      <th>27</th>\n",
              "      <td>1992-12-31</td>\n",
              "      <td>3232.580997</td>\n",
              "      <td>3051.015167</td>\n",
              "      <td>3435.734282</td>\n",
              "    </tr>\n",
              "    <tr>\n",
              "      <th>28</th>\n",
              "      <td>1993-03-31</td>\n",
              "      <td>3162.785575</td>\n",
              "      <td>2977.929653</td>\n",
              "      <td>3351.566232</td>\n",
              "    </tr>\n",
              "    <tr>\n",
              "      <th>29</th>\n",
              "      <td>1993-06-30</td>\n",
              "      <td>3881.209122</td>\n",
              "      <td>3697.062869</td>\n",
              "      <td>4064.446484</td>\n",
              "    </tr>\n",
              "    <tr>\n",
              "      <th>30</th>\n",
              "      <td>1993-09-30</td>\n",
              "      <td>3849.817667</td>\n",
              "      <td>3669.670195</td>\n",
              "      <td>4043.298036</td>\n",
              "    </tr>\n",
              "    <tr>\n",
              "      <th>31</th>\n",
              "      <td>1993-12-31</td>\n",
              "      <td>3635.897510</td>\n",
              "      <td>3448.953792</td>\n",
              "      <td>3800.120882</td>\n",
              "    </tr>\n",
              "    <tr>\n",
              "      <th>32</th>\n",
              "      <td>1994-03-31</td>\n",
              "      <td>3534.095921</td>\n",
              "      <td>3355.263126</td>\n",
              "      <td>3707.185942</td>\n",
              "    </tr>\n",
              "    <tr>\n",
              "      <th>33</th>\n",
              "      <td>1994-06-30</td>\n",
              "      <td>4247.972173</td>\n",
              "      <td>4073.000050</td>\n",
              "      <td>4429.556041</td>\n",
              "    </tr>\n",
              "    <tr>\n",
              "      <th>34</th>\n",
              "      <td>1994-09-30</td>\n",
              "      <td>4305.866556</td>\n",
              "      <td>4131.687722</td>\n",
              "      <td>4487.535023</td>\n",
              "    </tr>\n",
              "    <tr>\n",
              "      <th>35</th>\n",
              "      <td>1994-12-31</td>\n",
              "      <td>4037.333616</td>\n",
              "      <td>3857.882801</td>\n",
              "      <td>4219.573427</td>\n",
              "    </tr>\n",
              "    <tr>\n",
              "      <th>36</th>\n",
              "      <td>1995-03-31</td>\n",
              "      <td>3885.201842</td>\n",
              "      <td>3685.542734</td>\n",
              "      <td>4064.574691</td>\n",
              "    </tr>\n",
              "    <tr>\n",
              "      <th>37</th>\n",
              "      <td>1995-06-30</td>\n",
              "      <td>4641.182052</td>\n",
              "      <td>4461.908878</td>\n",
              "      <td>4825.515305</td>\n",
              "    </tr>\n",
              "    <tr>\n",
              "      <th>38</th>\n",
              "      <td>1995-09-30</td>\n",
              "      <td>4723.199519</td>\n",
              "      <td>4536.314663</td>\n",
              "      <td>4907.835179</td>\n",
              "    </tr>\n",
              "    <tr>\n",
              "      <th>39</th>\n",
              "      <td>1995-12-31</td>\n",
              "      <td>4436.110110</td>\n",
              "      <td>4254.693364</td>\n",
              "      <td>4616.924187</td>\n",
              "    </tr>\n",
              "    <tr>\n",
              "      <th>40</th>\n",
              "      <td>1996-03-31</td>\n",
              "      <td>4303.188756</td>\n",
              "      <td>4120.428173</td>\n",
              "      <td>4490.806700</td>\n",
              "    </tr>\n",
              "    <tr>\n",
              "      <th>41</th>\n",
              "      <td>1996-06-30</td>\n",
              "      <td>5073.234141</td>\n",
              "      <td>4888.606984</td>\n",
              "      <td>5242.745249</td>\n",
              "    </tr>\n",
              "    <tr>\n",
              "      <th>42</th>\n",
              "      <td>1996-09-30</td>\n",
              "      <td>4888.023555</td>\n",
              "      <td>4711.796801</td>\n",
              "      <td>5081.060089</td>\n",
              "    </tr>\n",
              "    <tr>\n",
              "      <th>43</th>\n",
              "      <td>1996-12-31</td>\n",
              "      <td>4765.426019</td>\n",
              "      <td>4580.724841</td>\n",
              "      <td>4945.839493</td>\n",
              "    </tr>\n",
              "    <tr>\n",
              "      <th>44</th>\n",
              "      <td>1997-03-31</td>\n",
              "      <td>4695.906027</td>\n",
              "      <td>4524.158384</td>\n",
              "      <td>4883.528035</td>\n",
              "    </tr>\n",
              "    <tr>\n",
              "      <th>45</th>\n",
              "      <td>1997-06-30</td>\n",
              "      <td>5414.577396</td>\n",
              "      <td>5241.368234</td>\n",
              "      <td>5598.738165</td>\n",
              "    </tr>\n",
              "    <tr>\n",
              "      <th>46</th>\n",
              "      <td>1997-09-30</td>\n",
              "      <td>5383.371436</td>\n",
              "      <td>5186.587947</td>\n",
              "      <td>5590.908268</td>\n",
              "    </tr>\n",
              "    <tr>\n",
              "      <th>47</th>\n",
              "      <td>1997-12-31</td>\n",
              "      <td>5169.636773</td>\n",
              "      <td>4978.566117</td>\n",
              "      <td>5360.137733</td>\n",
              "    </tr>\n",
              "    <tr>\n",
              "      <th>48</th>\n",
              "      <td>1998-03-31</td>\n",
              "      <td>5067.916555</td>\n",
              "      <td>4871.314311</td>\n",
              "      <td>5255.790960</td>\n",
              "    </tr>\n",
              "    <tr>\n",
              "      <th>49</th>\n",
              "      <td>1998-06-30</td>\n",
              "      <td>5781.792807</td>\n",
              "      <td>5595.463197</td>\n",
              "      <td>5974.506083</td>\n",
              "    </tr>\n",
              "    <tr>\n",
              "      <th>50</th>\n",
              "      <td>1998-09-30</td>\n",
              "      <td>5839.687190</td>\n",
              "      <td>5646.733967</td>\n",
              "      <td>6036.045850</td>\n",
              "    </tr>\n",
              "    <tr>\n",
              "      <th>51</th>\n",
              "      <td>1998-12-31</td>\n",
              "      <td>5571.154250</td>\n",
              "      <td>5381.883169</td>\n",
              "      <td>5773.439461</td>\n",
              "    </tr>\n",
              "  </tbody>\n",
              "</table>\n",
              "</div>\n",
              "      <button class=\"colab-df-convert\" onclick=\"convertToInteractive('df-9fce22a8-1a41-4381-bc4a-4515328258fb')\"\n",
              "              title=\"Convert this dataframe to an interactive table.\"\n",
              "              style=\"display:none;\">\n",
              "        \n",
              "  <svg xmlns=\"http://www.w3.org/2000/svg\" height=\"24px\"viewBox=\"0 0 24 24\"\n",
              "       width=\"24px\">\n",
              "    <path d=\"M0 0h24v24H0V0z\" fill=\"none\"/>\n",
              "    <path d=\"M18.56 5.44l.94 2.06.94-2.06 2.06-.94-2.06-.94-.94-2.06-.94 2.06-2.06.94zm-11 1L8.5 8.5l.94-2.06 2.06-.94-2.06-.94L8.5 2.5l-.94 2.06-2.06.94zm10 10l.94 2.06.94-2.06 2.06-.94-2.06-.94-.94-2.06-.94 2.06-2.06.94z\"/><path d=\"M17.41 7.96l-1.37-1.37c-.4-.4-.92-.59-1.43-.59-.52 0-1.04.2-1.43.59L10.3 9.45l-7.72 7.72c-.78.78-.78 2.05 0 2.83L4 21.41c.39.39.9.59 1.41.59.51 0 1.02-.2 1.41-.59l7.78-7.78 2.81-2.81c.8-.78.8-2.07 0-2.86zM5.41 20L4 18.59l7.72-7.72 1.47 1.35L5.41 20z\"/>\n",
              "  </svg>\n",
              "      </button>\n",
              "      \n",
              "  <style>\n",
              "    .colab-df-container {\n",
              "      display:flex;\n",
              "      flex-wrap:wrap;\n",
              "      gap: 12px;\n",
              "    }\n",
              "\n",
              "    .colab-df-convert {\n",
              "      background-color: #E8F0FE;\n",
              "      border: none;\n",
              "      border-radius: 50%;\n",
              "      cursor: pointer;\n",
              "      display: none;\n",
              "      fill: #1967D2;\n",
              "      height: 32px;\n",
              "      padding: 0 0 0 0;\n",
              "      width: 32px;\n",
              "    }\n",
              "\n",
              "    .colab-df-convert:hover {\n",
              "      background-color: #E2EBFA;\n",
              "      box-shadow: 0px 1px 2px rgba(60, 64, 67, 0.3), 0px 1px 3px 1px rgba(60, 64, 67, 0.15);\n",
              "      fill: #174EA6;\n",
              "    }\n",
              "\n",
              "    [theme=dark] .colab-df-convert {\n",
              "      background-color: #3B4455;\n",
              "      fill: #D2E3FC;\n",
              "    }\n",
              "\n",
              "    [theme=dark] .colab-df-convert:hover {\n",
              "      background-color: #434B5C;\n",
              "      box-shadow: 0px 1px 3px 1px rgba(0, 0, 0, 0.15);\n",
              "      filter: drop-shadow(0px 1px 2px rgba(0, 0, 0, 0.3));\n",
              "      fill: #FFFFFF;\n",
              "    }\n",
              "  </style>\n",
              "\n",
              "      <script>\n",
              "        const buttonEl =\n",
              "          document.querySelector('#df-9fce22a8-1a41-4381-bc4a-4515328258fb button.colab-df-convert');\n",
              "        buttonEl.style.display =\n",
              "          google.colab.kernel.accessAllowed ? 'block' : 'none';\n",
              "\n",
              "        async function convertToInteractive(key) {\n",
              "          const element = document.querySelector('#df-9fce22a8-1a41-4381-bc4a-4515328258fb');\n",
              "          const dataTable =\n",
              "            await google.colab.kernel.invokeFunction('convertToInteractive',\n",
              "                                                     [key], {});\n",
              "          if (!dataTable) return;\n",
              "\n",
              "          const docLinkHtml = 'Like what you see? Visit the ' +\n",
              "            '<a target=\"_blank\" href=https://colab.research.google.com/notebooks/data_table.ipynb>data table notebook</a>'\n",
              "            + ' to learn more about interactive tables.';\n",
              "          element.innerHTML = '';\n",
              "          dataTable['output_type'] = 'display_data';\n",
              "          await google.colab.output.renderOutput(dataTable, element);\n",
              "          const docLink = document.createElement('div');\n",
              "          docLink.innerHTML = docLinkHtml;\n",
              "          element.appendChild(docLink);\n",
              "        }\n",
              "      </script>\n",
              "    </div>\n",
              "  </div>\n",
              "  "
            ]
          },
          "metadata": {},
          "execution_count": 41
        }
      ]
    },
    {
      "cell_type": "code",
      "source": [
        "plot_plotly(m , forecast)"
      ],
      "metadata": {
        "colab": {
          "base_uri": "https://localhost:8080/",
          "height": 617
        },
        "id": "24jKXbI_A5ZN",
        "outputId": "e99b7a6f-033f-4b54-b131-edb717aae968"
      },
      "execution_count": 42,
      "outputs": [
        {
          "output_type": "display_data",
          "data": {
            "text/html": [
              "<html>\n",
              "<head><meta charset=\"utf-8\" /></head>\n",
              "<body>\n",
              "    <div>            <script src=\"https://cdnjs.cloudflare.com/ajax/libs/mathjax/2.7.5/MathJax.js?config=TeX-AMS-MML_SVG\"></script><script type=\"text/javascript\">if (window.MathJax) {MathJax.Hub.Config({SVG: {font: \"STIX-Web\"}});}</script>                <script type=\"text/javascript\">window.PlotlyConfig = {MathJaxConfig: 'local'};</script>\n",
              "        <script src=\"https://cdn.plot.ly/plotly-2.8.3.min.js\"></script>                <div id=\"79120328-4fe4-46d8-b0cb-f6f67d9fcf3f\" class=\"plotly-graph-div\" style=\"height:600px; width:900px;\"></div>            <script type=\"text/javascript\">                                    window.PLOTLYENV=window.PLOTLYENV || {};                                    if (document.getElementById(\"79120328-4fe4-46d8-b0cb-f6f67d9fcf3f\")) {                    Plotly.newPlot(                        \"79120328-4fe4-46d8-b0cb-f6f67d9fcf3f\",                        [{\"marker\":{\"color\":\"black\",\"size\":4},\"mode\":\"markers\",\"name\":\"Actual\",\"x\":[\"1986-03-31T00:00:00\",\"1986-06-30T00:00:00\",\"1986-09-30T00:00:00\",\"1986-12-31T00:00:00\",\"1987-03-31T00:00:00\",\"1987-06-30T00:00:00\",\"1987-09-30T00:00:00\",\"1987-12-31T00:00:00\",\"1988-03-31T00:00:00\",\"1988-06-30T00:00:00\",\"1988-09-30T00:00:00\",\"1988-12-31T00:00:00\",\"1989-03-31T00:00:00\",\"1989-06-30T00:00:00\",\"1989-09-30T00:00:00\",\"1989-12-31T00:00:00\",\"1990-03-31T00:00:00\",\"1990-06-30T00:00:00\",\"1990-09-30T00:00:00\",\"1990-12-31T00:00:00\",\"1991-03-31T00:00:00\",\"1991-06-30T00:00:00\",\"1991-09-30T00:00:00\",\"1991-12-31T00:00:00\",\"1992-03-31T00:00:00\",\"1992-06-30T00:00:00\",\"1992-09-30T00:00:00\",\"1992-12-31T00:00:00\",\"1993-03-31T00:00:00\",\"1993-06-30T00:00:00\",\"1993-09-30T00:00:00\",\"1993-12-31T00:00:00\",\"1994-03-31T00:00:00\",\"1994-06-30T00:00:00\",\"1994-09-30T00:00:00\",\"1994-12-31T00:00:00\",\"1995-03-31T00:00:00\",\"1995-06-30T00:00:00\",\"1995-09-30T00:00:00\",\"1995-12-31T00:00:00\",\"1996-03-31T00:00:00\",\"1996-06-30T00:00:00\"],\"y\":[1734.8269996643066,2244.9609985351562,2533.8049926757812,2154.9629974365234,1547.8189964294434,2104.411994934082,2014.3629989624023,1991.746997833252,1869.0499992370605,2313.631996154785,2128.319999694824,2026.8289985656738,1910.6039962768555,2331.164993286133,2206.5499954223633,2173.9679946899414,2148.2779998779297,2739.3079986572266,2792.7539978027344,2556.009994506836,2480.9739990234375,3039.522994995117,3172.115997314453,2879.0009994506836,2772.0,3550.0,3508.0,3243.859992980957,3056.0,3899.0,3629.0,3373.0,3352.0,4342.0,4461.0,4017.0,3854.0,4936.0,4895.0,4333.0,4194.0,5253.0],\"type\":\"scatter\"},{\"hoverinfo\":\"skip\",\"line\":{\"width\":0},\"mode\":\"lines\",\"x\":[\"1986-03-31T00:00:00\",\"1986-06-30T00:00:00\",\"1986-09-30T00:00:00\",\"1986-12-31T00:00:00\",\"1987-03-31T00:00:00\",\"1987-06-30T00:00:00\",\"1987-09-30T00:00:00\",\"1987-12-31T00:00:00\",\"1988-03-31T00:00:00\",\"1988-06-30T00:00:00\",\"1988-09-30T00:00:00\",\"1988-12-31T00:00:00\",\"1989-03-31T00:00:00\",\"1989-06-30T00:00:00\",\"1989-09-30T00:00:00\",\"1989-12-31T00:00:00\",\"1990-03-31T00:00:00\",\"1990-06-30T00:00:00\",\"1990-09-30T00:00:00\",\"1990-12-31T00:00:00\",\"1991-03-31T00:00:00\",\"1991-06-30T00:00:00\",\"1991-09-30T00:00:00\",\"1991-12-31T00:00:00\",\"1992-03-31T00:00:00\",\"1992-06-30T00:00:00\",\"1992-09-30T00:00:00\",\"1992-12-31T00:00:00\",\"1993-03-31T00:00:00\",\"1993-06-30T00:00:00\",\"1993-09-30T00:00:00\",\"1993-12-31T00:00:00\",\"1994-03-31T00:00:00\",\"1994-06-30T00:00:00\",\"1994-09-30T00:00:00\",\"1994-12-31T00:00:00\",\"1995-03-31T00:00:00\",\"1995-06-30T00:00:00\",\"1995-09-30T00:00:00\",\"1995-12-31T00:00:00\",\"1996-03-31T00:00:00\",\"1996-06-30T00:00:00\",\"1996-09-30T00:00:00\",\"1996-12-31T00:00:00\",\"1997-03-31T00:00:00\",\"1997-06-30T00:00:00\",\"1997-09-30T00:00:00\",\"1997-12-31T00:00:00\",\"1998-03-31T00:00:00\",\"1998-06-30T00:00:00\",\"1998-09-30T00:00:00\",\"1998-12-31T00:00:00\"],\"y\":[1407.4919468923483,2057.47146378318,2050.7780335756784,1696.1256466917948,1469.7463313539752,2153.5411390760964,2141.2555013424485,1796.398172733611,1561.344804460252,2275.119224667809,1994.0364539655175,1802.5463884966548,1644.2395623867449,2294.24516970586,2171.7970005555576,1955.239059137201,1852.4157827353113,2555.8963998933777,2609.48985571631,2361.5474230553555,2179.012852572542,2948.706725090769,3022.912378462719,2739.447158914969,2594.8556323806447,3366.854856496575,3177.9618637155327,3051.0151674411886,2977.9296525891677,3697.062869005882,3669.670195224332,3448.953791559804,3355.2631260748085,4073.000050196657,4131.6877221499535,3857.882800535501,3685.5427341300115,4461.908878201599,4536.314663123753,4254.693363596494,4120.428173477132,4888.606984143851,4711.79680148915,4580.7248411859,4524.158383838397,5241.368233737625,5186.587946558815,4978.5661167436065,4871.314311168932,5595.463196873641,5646.733966636511,5381.883168569617],\"type\":\"scatter\"},{\"fill\":\"tonexty\",\"fillcolor\":\"rgba(0, 114, 178, 0.2)\",\"line\":{\"color\":\"#0072B2\",\"width\":2},\"mode\":\"lines\",\"name\":\"Predicted\",\"x\":[\"1986-03-31T00:00:00\",\"1986-06-30T00:00:00\",\"1986-09-30T00:00:00\",\"1986-12-31T00:00:00\",\"1987-03-31T00:00:00\",\"1987-06-30T00:00:00\",\"1987-09-30T00:00:00\",\"1987-12-31T00:00:00\",\"1988-03-31T00:00:00\",\"1988-06-30T00:00:00\",\"1988-09-30T00:00:00\",\"1988-12-31T00:00:00\",\"1989-03-31T00:00:00\",\"1989-06-30T00:00:00\",\"1989-09-30T00:00:00\",\"1989-12-31T00:00:00\",\"1990-03-31T00:00:00\",\"1990-06-30T00:00:00\",\"1990-09-30T00:00:00\",\"1990-12-31T00:00:00\",\"1991-03-31T00:00:00\",\"1991-06-30T00:00:00\",\"1991-09-30T00:00:00\",\"1991-12-31T00:00:00\",\"1992-03-31T00:00:00\",\"1992-06-30T00:00:00\",\"1992-09-30T00:00:00\",\"1992-12-31T00:00:00\",\"1993-03-31T00:00:00\",\"1993-06-30T00:00:00\",\"1993-09-30T00:00:00\",\"1993-12-31T00:00:00\",\"1994-03-31T00:00:00\",\"1994-06-30T00:00:00\",\"1994-09-30T00:00:00\",\"1994-12-31T00:00:00\",\"1995-03-31T00:00:00\",\"1995-06-30T00:00:00\",\"1995-09-30T00:00:00\",\"1995-12-31T00:00:00\",\"1996-03-31T00:00:00\",\"1996-06-30T00:00:00\",\"1996-09-30T00:00:00\",\"1996-12-31T00:00:00\",\"1997-03-31T00:00:00\",\"1997-06-30T00:00:00\",\"1997-09-30T00:00:00\",\"1997-12-31T00:00:00\",\"1998-03-31T00:00:00\",\"1998-06-30T00:00:00\",\"1998-09-30T00:00:00\",\"1998-12-31T00:00:00\"],\"y\":[1610.9244831680526,2246.517004430594,2225.2673960984416,1877.5904650412872,1648.0352206992843,2325.7316994925486,2328.6053312628133,1962.4084227698936,1751.2394333560728,2443.0671719041684,2178.8410026608713,1977.2646586744568,1830.4827889156,2471.06020562457,2361.015510281948,2143.6219939995162,2038.3595583953409,2748.6542352736315,2802.969234650878,2530.863845320744,2375.250098605974,3127.8234228127367,3206.3965663548734,2915.971637930574,2779.828237034001,3546.7321414629187,3358.34555297122,3232.5809966410357,3162.7855746817877,3881.2091216037397,3849.817666527322,3635.8975095996807,3534.0959208769655,4247.972172966114,4305.866556051569,4037.333616410494,3885.201842139063,4641.182051891173,4723.199519285219,4436.110110104867,4303.188755879007,5073.234140821027,4888.023554607388,4765.4260192377,4695.906027473142,5414.577395996708,5383.371435517782,5169.636773187023,5067.916554825035,5781.792806914286,5839.687189997798,5571.154250359696],\"type\":\"scatter\"},{\"fill\":\"tonexty\",\"fillcolor\":\"rgba(0, 114, 178, 0.2)\",\"hoverinfo\":\"skip\",\"line\":{\"width\":0},\"mode\":\"lines\",\"x\":[\"1986-03-31T00:00:00\",\"1986-06-30T00:00:00\",\"1986-09-30T00:00:00\",\"1986-12-31T00:00:00\",\"1987-03-31T00:00:00\",\"1987-06-30T00:00:00\",\"1987-09-30T00:00:00\",\"1987-12-31T00:00:00\",\"1988-03-31T00:00:00\",\"1988-06-30T00:00:00\",\"1988-09-30T00:00:00\",\"1988-12-31T00:00:00\",\"1989-03-31T00:00:00\",\"1989-06-30T00:00:00\",\"1989-09-30T00:00:00\",\"1989-12-31T00:00:00\",\"1990-03-31T00:00:00\",\"1990-06-30T00:00:00\",\"1990-09-30T00:00:00\",\"1990-12-31T00:00:00\",\"1991-03-31T00:00:00\",\"1991-06-30T00:00:00\",\"1991-09-30T00:00:00\",\"1991-12-31T00:00:00\",\"1992-03-31T00:00:00\",\"1992-06-30T00:00:00\",\"1992-09-30T00:00:00\",\"1992-12-31T00:00:00\",\"1993-03-31T00:00:00\",\"1993-06-30T00:00:00\",\"1993-09-30T00:00:00\",\"1993-12-31T00:00:00\",\"1994-03-31T00:00:00\",\"1994-06-30T00:00:00\",\"1994-09-30T00:00:00\",\"1994-12-31T00:00:00\",\"1995-03-31T00:00:00\",\"1995-06-30T00:00:00\",\"1995-09-30T00:00:00\",\"1995-12-31T00:00:00\",\"1996-03-31T00:00:00\",\"1996-06-30T00:00:00\",\"1996-09-30T00:00:00\",\"1996-12-31T00:00:00\",\"1997-03-31T00:00:00\",\"1997-06-30T00:00:00\",\"1997-09-30T00:00:00\",\"1997-12-31T00:00:00\",\"1998-03-31T00:00:00\",\"1998-06-30T00:00:00\",\"1998-09-30T00:00:00\",\"1998-12-31T00:00:00\"],\"y\":[1792.4464213935005,2414.9980889771737,2408.7998840793202,2061.934972145829,1827.433642104265,2505.6044551154514,2513.836820957926,2141.612233630283,1951.5638475493638,2625.5206658936504,2367.4665663397486,2172.7079358003252,2028.5650729682548,2653.7404668624918,2533.5699952449254,2323.53927490453,2230.474683695362,2930.2919696738404,2982.8845541971405,2711.2072992452936,2557.4145764625837,3310.8423447742994,3369.524695164092,3116.7461740441317,2952.2857995669456,3731.7688015815565,3562.3841589568497,3435.7342822342894,3351.566231814621,4064.4464840951487,4043.2980360670026,3800.120882457941,3707.1859419778807,4429.556041151127,4487.535023395365,4219.573427442453,4064.5746906188215,4825.515304592576,4907.835178871709,4616.924186539677,4490.806700240042,5242.745248556943,5081.060088667831,4945.839492820024,4883.528035425191,5598.738165343819,5590.908268396557,5360.137733133546,5255.790959976426,5974.506083285938,6036.045850261097,5773.439461334039],\"type\":\"scatter\"}],                        {\"height\":600,\"showlegend\":false,\"width\":900,\"xaxis\":{\"rangeselector\":{\"buttons\":[{\"count\":7,\"label\":\"1w\",\"step\":\"day\",\"stepmode\":\"backward\"},{\"count\":1,\"label\":\"1m\",\"step\":\"month\",\"stepmode\":\"backward\"},{\"count\":6,\"label\":\"6m\",\"step\":\"month\",\"stepmode\":\"backward\"},{\"count\":1,\"label\":\"1y\",\"step\":\"year\",\"stepmode\":\"backward\"},{\"step\":\"all\"}]},\"rangeslider\":{\"visible\":true},\"title\":{\"text\":\"ds\"},\"type\":\"date\"},\"yaxis\":{\"title\":{\"text\":\"y\"}},\"template\":{\"data\":{\"bar\":[{\"error_x\":{\"color\":\"#2a3f5f\"},\"error_y\":{\"color\":\"#2a3f5f\"},\"marker\":{\"line\":{\"color\":\"#E5ECF6\",\"width\":0.5},\"pattern\":{\"fillmode\":\"overlay\",\"size\":10,\"solidity\":0.2}},\"type\":\"bar\"}],\"barpolar\":[{\"marker\":{\"line\":{\"color\":\"#E5ECF6\",\"width\":0.5},\"pattern\":{\"fillmode\":\"overlay\",\"size\":10,\"solidity\":0.2}},\"type\":\"barpolar\"}],\"carpet\":[{\"aaxis\":{\"endlinecolor\":\"#2a3f5f\",\"gridcolor\":\"white\",\"linecolor\":\"white\",\"minorgridcolor\":\"white\",\"startlinecolor\":\"#2a3f5f\"},\"baxis\":{\"endlinecolor\":\"#2a3f5f\",\"gridcolor\":\"white\",\"linecolor\":\"white\",\"minorgridcolor\":\"white\",\"startlinecolor\":\"#2a3f5f\"},\"type\":\"carpet\"}],\"choropleth\":[{\"colorbar\":{\"outlinewidth\":0,\"ticks\":\"\"},\"type\":\"choropleth\"}],\"contour\":[{\"colorbar\":{\"outlinewidth\":0,\"ticks\":\"\"},\"colorscale\":[[0.0,\"#0d0887\"],[0.1111111111111111,\"#46039f\"],[0.2222222222222222,\"#7201a8\"],[0.3333333333333333,\"#9c179e\"],[0.4444444444444444,\"#bd3786\"],[0.5555555555555556,\"#d8576b\"],[0.6666666666666666,\"#ed7953\"],[0.7777777777777778,\"#fb9f3a\"],[0.8888888888888888,\"#fdca26\"],[1.0,\"#f0f921\"]],\"type\":\"contour\"}],\"contourcarpet\":[{\"colorbar\":{\"outlinewidth\":0,\"ticks\":\"\"},\"type\":\"contourcarpet\"}],\"heatmap\":[{\"colorbar\":{\"outlinewidth\":0,\"ticks\":\"\"},\"colorscale\":[[0.0,\"#0d0887\"],[0.1111111111111111,\"#46039f\"],[0.2222222222222222,\"#7201a8\"],[0.3333333333333333,\"#9c179e\"],[0.4444444444444444,\"#bd3786\"],[0.5555555555555556,\"#d8576b\"],[0.6666666666666666,\"#ed7953\"],[0.7777777777777778,\"#fb9f3a\"],[0.8888888888888888,\"#fdca26\"],[1.0,\"#f0f921\"]],\"type\":\"heatmap\"}],\"heatmapgl\":[{\"colorbar\":{\"outlinewidth\":0,\"ticks\":\"\"},\"colorscale\":[[0.0,\"#0d0887\"],[0.1111111111111111,\"#46039f\"],[0.2222222222222222,\"#7201a8\"],[0.3333333333333333,\"#9c179e\"],[0.4444444444444444,\"#bd3786\"],[0.5555555555555556,\"#d8576b\"],[0.6666666666666666,\"#ed7953\"],[0.7777777777777778,\"#fb9f3a\"],[0.8888888888888888,\"#fdca26\"],[1.0,\"#f0f921\"]],\"type\":\"heatmapgl\"}],\"histogram\":[{\"marker\":{\"pattern\":{\"fillmode\":\"overlay\",\"size\":10,\"solidity\":0.2}},\"type\":\"histogram\"}],\"histogram2d\":[{\"colorbar\":{\"outlinewidth\":0,\"ticks\":\"\"},\"colorscale\":[[0.0,\"#0d0887\"],[0.1111111111111111,\"#46039f\"],[0.2222222222222222,\"#7201a8\"],[0.3333333333333333,\"#9c179e\"],[0.4444444444444444,\"#bd3786\"],[0.5555555555555556,\"#d8576b\"],[0.6666666666666666,\"#ed7953\"],[0.7777777777777778,\"#fb9f3a\"],[0.8888888888888888,\"#fdca26\"],[1.0,\"#f0f921\"]],\"type\":\"histogram2d\"}],\"histogram2dcontour\":[{\"colorbar\":{\"outlinewidth\":0,\"ticks\":\"\"},\"colorscale\":[[0.0,\"#0d0887\"],[0.1111111111111111,\"#46039f\"],[0.2222222222222222,\"#7201a8\"],[0.3333333333333333,\"#9c179e\"],[0.4444444444444444,\"#bd3786\"],[0.5555555555555556,\"#d8576b\"],[0.6666666666666666,\"#ed7953\"],[0.7777777777777778,\"#fb9f3a\"],[0.8888888888888888,\"#fdca26\"],[1.0,\"#f0f921\"]],\"type\":\"histogram2dcontour\"}],\"mesh3d\":[{\"colorbar\":{\"outlinewidth\":0,\"ticks\":\"\"},\"type\":\"mesh3d\"}],\"parcoords\":[{\"line\":{\"colorbar\":{\"outlinewidth\":0,\"ticks\":\"\"}},\"type\":\"parcoords\"}],\"pie\":[{\"automargin\":true,\"type\":\"pie\"}],\"scatter\":[{\"marker\":{\"colorbar\":{\"outlinewidth\":0,\"ticks\":\"\"}},\"type\":\"scatter\"}],\"scatter3d\":[{\"line\":{\"colorbar\":{\"outlinewidth\":0,\"ticks\":\"\"}},\"marker\":{\"colorbar\":{\"outlinewidth\":0,\"ticks\":\"\"}},\"type\":\"scatter3d\"}],\"scattercarpet\":[{\"marker\":{\"colorbar\":{\"outlinewidth\":0,\"ticks\":\"\"}},\"type\":\"scattercarpet\"}],\"scattergeo\":[{\"marker\":{\"colorbar\":{\"outlinewidth\":0,\"ticks\":\"\"}},\"type\":\"scattergeo\"}],\"scattergl\":[{\"marker\":{\"colorbar\":{\"outlinewidth\":0,\"ticks\":\"\"}},\"type\":\"scattergl\"}],\"scattermapbox\":[{\"marker\":{\"colorbar\":{\"outlinewidth\":0,\"ticks\":\"\"}},\"type\":\"scattermapbox\"}],\"scatterpolar\":[{\"marker\":{\"colorbar\":{\"outlinewidth\":0,\"ticks\":\"\"}},\"type\":\"scatterpolar\"}],\"scatterpolargl\":[{\"marker\":{\"colorbar\":{\"outlinewidth\":0,\"ticks\":\"\"}},\"type\":\"scatterpolargl\"}],\"scatterternary\":[{\"marker\":{\"colorbar\":{\"outlinewidth\":0,\"ticks\":\"\"}},\"type\":\"scatterternary\"}],\"surface\":[{\"colorbar\":{\"outlinewidth\":0,\"ticks\":\"\"},\"colorscale\":[[0.0,\"#0d0887\"],[0.1111111111111111,\"#46039f\"],[0.2222222222222222,\"#7201a8\"],[0.3333333333333333,\"#9c179e\"],[0.4444444444444444,\"#bd3786\"],[0.5555555555555556,\"#d8576b\"],[0.6666666666666666,\"#ed7953\"],[0.7777777777777778,\"#fb9f3a\"],[0.8888888888888888,\"#fdca26\"],[1.0,\"#f0f921\"]],\"type\":\"surface\"}],\"table\":[{\"cells\":{\"fill\":{\"color\":\"#EBF0F8\"},\"line\":{\"color\":\"white\"}},\"header\":{\"fill\":{\"color\":\"#C8D4E3\"},\"line\":{\"color\":\"white\"}},\"type\":\"table\"}]},\"layout\":{\"annotationdefaults\":{\"arrowcolor\":\"#2a3f5f\",\"arrowhead\":0,\"arrowwidth\":1},\"autotypenumbers\":\"strict\",\"coloraxis\":{\"colorbar\":{\"outlinewidth\":0,\"ticks\":\"\"}},\"colorscale\":{\"diverging\":[[0,\"#8e0152\"],[0.1,\"#c51b7d\"],[0.2,\"#de77ae\"],[0.3,\"#f1b6da\"],[0.4,\"#fde0ef\"],[0.5,\"#f7f7f7\"],[0.6,\"#e6f5d0\"],[0.7,\"#b8e186\"],[0.8,\"#7fbc41\"],[0.9,\"#4d9221\"],[1,\"#276419\"]],\"sequential\":[[0.0,\"#0d0887\"],[0.1111111111111111,\"#46039f\"],[0.2222222222222222,\"#7201a8\"],[0.3333333333333333,\"#9c179e\"],[0.4444444444444444,\"#bd3786\"],[0.5555555555555556,\"#d8576b\"],[0.6666666666666666,\"#ed7953\"],[0.7777777777777778,\"#fb9f3a\"],[0.8888888888888888,\"#fdca26\"],[1.0,\"#f0f921\"]],\"sequentialminus\":[[0.0,\"#0d0887\"],[0.1111111111111111,\"#46039f\"],[0.2222222222222222,\"#7201a8\"],[0.3333333333333333,\"#9c179e\"],[0.4444444444444444,\"#bd3786\"],[0.5555555555555556,\"#d8576b\"],[0.6666666666666666,\"#ed7953\"],[0.7777777777777778,\"#fb9f3a\"],[0.8888888888888888,\"#fdca26\"],[1.0,\"#f0f921\"]]},\"colorway\":[\"#636efa\",\"#EF553B\",\"#00cc96\",\"#ab63fa\",\"#FFA15A\",\"#19d3f3\",\"#FF6692\",\"#B6E880\",\"#FF97FF\",\"#FECB52\"],\"font\":{\"color\":\"#2a3f5f\"},\"geo\":{\"bgcolor\":\"white\",\"lakecolor\":\"white\",\"landcolor\":\"#E5ECF6\",\"showlakes\":true,\"showland\":true,\"subunitcolor\":\"white\"},\"hoverlabel\":{\"align\":\"left\"},\"hovermode\":\"closest\",\"mapbox\":{\"style\":\"light\"},\"paper_bgcolor\":\"white\",\"plot_bgcolor\":\"#E5ECF6\",\"polar\":{\"angularaxis\":{\"gridcolor\":\"white\",\"linecolor\":\"white\",\"ticks\":\"\"},\"bgcolor\":\"#E5ECF6\",\"radialaxis\":{\"gridcolor\":\"white\",\"linecolor\":\"white\",\"ticks\":\"\"}},\"scene\":{\"xaxis\":{\"backgroundcolor\":\"#E5ECF6\",\"gridcolor\":\"white\",\"gridwidth\":2,\"linecolor\":\"white\",\"showbackground\":true,\"ticks\":\"\",\"zerolinecolor\":\"white\"},\"yaxis\":{\"backgroundcolor\":\"#E5ECF6\",\"gridcolor\":\"white\",\"gridwidth\":2,\"linecolor\":\"white\",\"showbackground\":true,\"ticks\":\"\",\"zerolinecolor\":\"white\"},\"zaxis\":{\"backgroundcolor\":\"#E5ECF6\",\"gridcolor\":\"white\",\"gridwidth\":2,\"linecolor\":\"white\",\"showbackground\":true,\"ticks\":\"\",\"zerolinecolor\":\"white\"}},\"shapedefaults\":{\"line\":{\"color\":\"#2a3f5f\"}},\"ternary\":{\"aaxis\":{\"gridcolor\":\"white\",\"linecolor\":\"white\",\"ticks\":\"\"},\"baxis\":{\"gridcolor\":\"white\",\"linecolor\":\"white\",\"ticks\":\"\"},\"bgcolor\":\"#E5ECF6\",\"caxis\":{\"gridcolor\":\"white\",\"linecolor\":\"white\",\"ticks\":\"\"}},\"title\":{\"x\":0.05},\"xaxis\":{\"automargin\":true,\"gridcolor\":\"white\",\"linecolor\":\"white\",\"ticks\":\"\",\"title\":{\"standoff\":15},\"zerolinecolor\":\"white\",\"zerolinewidth\":2},\"yaxis\":{\"automargin\":true,\"gridcolor\":\"white\",\"linecolor\":\"white\",\"ticks\":\"\",\"title\":{\"standoff\":15},\"zerolinecolor\":\"white\",\"zerolinewidth\":2}}}},                        {\"responsive\": true}                    ).then(function(){\n",
              "                            \n",
              "var gd = document.getElementById('79120328-4fe4-46d8-b0cb-f6f67d9fcf3f');\n",
              "var x = new MutationObserver(function (mutations, observer) {{\n",
              "        var display = window.getComputedStyle(gd).display;\n",
              "        if (!display || display === 'none') {{\n",
              "            console.log([gd, 'removed!']);\n",
              "            Plotly.purge(gd);\n",
              "            observer.disconnect();\n",
              "        }}\n",
              "}});\n",
              "\n",
              "// Listen for the removal of the full notebook cells\n",
              "var notebookContainer = gd.closest('#notebook-container');\n",
              "if (notebookContainer) {{\n",
              "    x.observe(notebookContainer, {childList: true});\n",
              "}}\n",
              "\n",
              "// Listen for the clearing of the current output cell\n",
              "var outputEl = gd.closest('.output');\n",
              "if (outputEl) {{\n",
              "    x.observe(outputEl, {childList: true});\n",
              "}}\n",
              "\n",
              "                        })                };                            </script>        </div>\n",
              "</body>\n",
              "</html>"
            ]
          },
          "metadata": {}
        }
      ]
    },
    {
      "cell_type": "code",
      "source": [
        "plot_components_plotly(m,forecast)"
      ],
      "metadata": {
        "colab": {
          "base_uri": "https://localhost:8080/",
          "height": 417
        },
        "id": "XjPfIyiZA5b7",
        "outputId": "4a2504a8-f4f5-4578-8888-e13a38ebb3e2"
      },
      "execution_count": 43,
      "outputs": [
        {
          "output_type": "display_data",
          "data": {
            "text/html": [
              "<html>\n",
              "<head><meta charset=\"utf-8\" /></head>\n",
              "<body>\n",
              "    <div>            <script src=\"https://cdnjs.cloudflare.com/ajax/libs/mathjax/2.7.5/MathJax.js?config=TeX-AMS-MML_SVG\"></script><script type=\"text/javascript\">if (window.MathJax) {MathJax.Hub.Config({SVG: {font: \"STIX-Web\"}});}</script>                <script type=\"text/javascript\">window.PlotlyConfig = {MathJaxConfig: 'local'};</script>\n",
              "        <script src=\"https://cdn.plot.ly/plotly-2.8.3.min.js\"></script>                <div id=\"d1886a60-674b-4d8c-bec3-168b56d4f092\" class=\"plotly-graph-div\" style=\"height:400px; width:900px;\"></div>            <script type=\"text/javascript\">                                    window.PLOTLYENV=window.PLOTLYENV || {};                                    if (document.getElementById(\"d1886a60-674b-4d8c-bec3-168b56d4f092\")) {                    Plotly.newPlot(                        \"d1886a60-674b-4d8c-bec3-168b56d4f092\",                        [{\"line\":{\"color\":\"#0072B2\",\"width\":2},\"mode\":\"lines\",\"name\":\"trend\",\"x\":[\"1986-03-31T00:00:00\",\"1986-06-30T00:00:00\",\"1986-09-30T00:00:00\",\"1986-12-31T00:00:00\",\"1987-03-31T00:00:00\",\"1987-06-30T00:00:00\",\"1987-09-30T00:00:00\",\"1987-12-31T00:00:00\",\"1988-03-31T00:00:00\",\"1988-06-30T00:00:00\",\"1988-09-30T00:00:00\",\"1988-12-31T00:00:00\",\"1989-03-31T00:00:00\",\"1989-06-30T00:00:00\",\"1989-09-30T00:00:00\",\"1989-12-31T00:00:00\",\"1990-03-31T00:00:00\",\"1990-06-30T00:00:00\",\"1990-09-30T00:00:00\",\"1990-12-31T00:00:00\",\"1991-03-31T00:00:00\",\"1991-06-30T00:00:00\",\"1991-09-30T00:00:00\",\"1991-12-31T00:00:00\",\"1992-03-31T00:00:00\",\"1992-06-30T00:00:00\",\"1992-09-30T00:00:00\",\"1992-12-31T00:00:00\",\"1993-03-31T00:00:00\",\"1993-06-30T00:00:00\",\"1993-09-30T00:00:00\",\"1993-12-31T00:00:00\",\"1994-03-31T00:00:00\",\"1994-06-30T00:00:00\",\"1994-09-30T00:00:00\",\"1994-12-31T00:00:00\",\"1995-03-31T00:00:00\",\"1995-06-30T00:00:00\",\"1995-09-30T00:00:00\",\"1995-12-31T00:00:00\",\"1996-03-31T00:00:00\",\"1996-06-30T00:00:00\",\"1996-09-30T00:00:00\",\"1996-12-31T00:00:00\",\"1997-03-31T00:00:00\",\"1997-06-30T00:00:00\",\"1997-09-30T00:00:00\",\"1997-12-31T00:00:00\",\"1998-03-31T00:00:00\",\"1998-06-30T00:00:00\",\"1998-09-30T00:00:00\",\"1998-12-31T00:00:00\"],\"y\":[-2303.298669,-2286.0466861458335,-2268.6051208722306,-2251.163555598628,-2234.101154996082,-2216.8491722737863,-2199.4074512091024,-2181.9293938301685,-2164.6413153357885,-2147.3232480480747,-2129.753274387888,-2112.146526315496,-2094.9225336359814,-2077.480771768518,-2059.7339499424816,-1966.8072472061892,-1875.8635937733577,-1783.9094553023833,-1690.9032823198793,-1597.8901753206922,-1506.8862770870894,-1414.7574489538458,-1321.6162161158409,-1228.3661786689295,-1136.0525116560812,-1043.6582784884938,-950.2487240773064,-856.8301883482463,-762.6197478692543,-667.331855789117,-570.9317936979421,-474.53173160676624,-380.1272312913554,-284.5915176094367,-188.0059609200244,-91.42040423061268,3.065466443812993,98.60118012573169,195.186736815144,291.77229350455633,387.308007186475,482.8437208683937,579.4292775578054,676.0148342472183,770.5007049216434,866.0364186035621,962.6219752929744,1059.2075319823873,1153.6934026568117,1249.2291163387306,1345.8146730281433,1442.4002297175557],\"type\":\"scatter\",\"xaxis\":\"x\",\"yaxis\":\"y\"},{\"line\":{\"color\":\"rgba(0, 114, 178, 0.2)\",\"width\":0},\"mode\":\"lines\",\"name\":\"trend_upper\",\"x\":[\"1986-03-31T00:00:00\",\"1986-06-30T00:00:00\",\"1986-09-30T00:00:00\",\"1986-12-31T00:00:00\",\"1987-03-31T00:00:00\",\"1987-06-30T00:00:00\",\"1987-09-30T00:00:00\",\"1987-12-31T00:00:00\",\"1988-03-31T00:00:00\",\"1988-06-30T00:00:00\",\"1988-09-30T00:00:00\",\"1988-12-31T00:00:00\",\"1989-03-31T00:00:00\",\"1989-06-30T00:00:00\",\"1989-09-30T00:00:00\",\"1989-12-31T00:00:00\",\"1990-03-31T00:00:00\",\"1990-06-30T00:00:00\",\"1990-09-30T00:00:00\",\"1990-12-31T00:00:00\",\"1991-03-31T00:00:00\",\"1991-06-30T00:00:00\",\"1991-09-30T00:00:00\",\"1991-12-31T00:00:00\",\"1992-03-31T00:00:00\",\"1992-06-30T00:00:00\",\"1992-09-30T00:00:00\",\"1992-12-31T00:00:00\",\"1993-03-31T00:00:00\",\"1993-06-30T00:00:00\",\"1993-09-30T00:00:00\",\"1993-12-31T00:00:00\",\"1994-03-31T00:00:00\",\"1994-06-30T00:00:00\",\"1994-09-30T00:00:00\",\"1994-12-31T00:00:00\",\"1995-03-31T00:00:00\",\"1995-06-30T00:00:00\",\"1995-09-30T00:00:00\",\"1995-12-31T00:00:00\",\"1996-03-31T00:00:00\",\"1996-06-30T00:00:00\",\"1996-09-30T00:00:00\",\"1996-12-31T00:00:00\",\"1997-03-31T00:00:00\",\"1997-06-30T00:00:00\",\"1997-09-30T00:00:00\",\"1997-12-31T00:00:00\",\"1998-03-31T00:00:00\",\"1998-06-30T00:00:00\",\"1998-09-30T00:00:00\",\"1998-12-31T00:00:00\"],\"y\":[-2303.298669,-2286.0466861458335,-2268.6051208722306,-2251.163555598628,-2234.101154996082,-2216.8491722737863,-2199.4074512091024,-2181.9293938301685,-2164.6413153357885,-2147.3232480480747,-2129.753274387888,-2112.146526315496,-2094.9225336359814,-2077.480771768518,-2059.7339499424816,-1966.8072472061892,-1875.8635937733577,-1783.9094553023833,-1690.9032823198793,-1597.8901753206922,-1506.8862770870894,-1414.7574489538458,-1321.6162161158409,-1228.3661786689295,-1136.0525116560812,-1043.6582784884938,-950.2487240773064,-856.8301883482463,-762.6197478692543,-667.331855789117,-570.9317936979421,-474.53173160676624,-380.1272312913554,-284.5915176094367,-188.0059609200244,-91.42040423061268,3.065466443812993,98.60118012573169,195.186736815144,291.77229350455633,387.308007186475,482.8437208683937,581.2636274377926,681.916726733607,782.5773225778787,884.7574866929338,988.9318017302877,1095.6759917589063,1199.0466864062314,1304.3111050152716,1410.680181021743,1518.3788795437033],\"type\":\"scatter\",\"xaxis\":\"x\",\"yaxis\":\"y\"},{\"fill\":\"tonexty\",\"fillcolor\":\"rgba(0, 114, 178, 0.2)\",\"line\":{\"color\":\"rgba(0, 114, 178, 0.2)\",\"width\":0},\"mode\":\"lines\",\"name\":\"trend_lower\",\"x\":[\"1986-03-31T00:00:00\",\"1986-06-30T00:00:00\",\"1986-09-30T00:00:00\",\"1986-12-31T00:00:00\",\"1987-03-31T00:00:00\",\"1987-06-30T00:00:00\",\"1987-09-30T00:00:00\",\"1987-12-31T00:00:00\",\"1988-03-31T00:00:00\",\"1988-06-30T00:00:00\",\"1988-09-30T00:00:00\",\"1988-12-31T00:00:00\",\"1989-03-31T00:00:00\",\"1989-06-30T00:00:00\",\"1989-09-30T00:00:00\",\"1989-12-31T00:00:00\",\"1990-03-31T00:00:00\",\"1990-06-30T00:00:00\",\"1990-09-30T00:00:00\",\"1990-12-31T00:00:00\",\"1991-03-31T00:00:00\",\"1991-06-30T00:00:00\",\"1991-09-30T00:00:00\",\"1991-12-31T00:00:00\",\"1992-03-31T00:00:00\",\"1992-06-30T00:00:00\",\"1992-09-30T00:00:00\",\"1992-12-31T00:00:00\",\"1993-03-31T00:00:00\",\"1993-06-30T00:00:00\",\"1993-09-30T00:00:00\",\"1993-12-31T00:00:00\",\"1994-03-31T00:00:00\",\"1994-06-30T00:00:00\",\"1994-09-30T00:00:00\",\"1994-12-31T00:00:00\",\"1995-03-31T00:00:00\",\"1995-06-30T00:00:00\",\"1995-09-30T00:00:00\",\"1995-12-31T00:00:00\",\"1996-03-31T00:00:00\",\"1996-06-30T00:00:00\",\"1996-09-30T00:00:00\",\"1996-12-31T00:00:00\",\"1997-03-31T00:00:00\",\"1997-06-30T00:00:00\",\"1997-09-30T00:00:00\",\"1997-12-31T00:00:00\",\"1998-03-31T00:00:00\",\"1998-06-30T00:00:00\",\"1998-09-30T00:00:00\",\"1998-12-31T00:00:00\"],\"y\":[-2303.298669,-2286.0466861458335,-2268.6051208722306,-2251.163555598628,-2234.101154996082,-2216.8491722737863,-2199.4074512091024,-2181.9293938301685,-2164.6413153357885,-2147.3232480480747,-2129.753274387888,-2112.146526315496,-2094.9225336359814,-2077.480771768518,-2059.7339499424816,-1966.8072472061892,-1875.8635937733577,-1783.9094553023833,-1690.9032823198793,-1597.8901753206922,-1506.8862770870894,-1414.7574489538458,-1321.6162161158409,-1228.3661786689295,-1136.0525116560812,-1043.6582784884938,-950.2487240773064,-856.8301883482463,-762.6197478692543,-667.331855789117,-570.9317936979421,-474.53173160676624,-380.1272312913554,-284.5915176094367,-188.0059609200244,-91.42040423061268,3.065466443812993,98.60118012573169,195.186736815144,291.77229350455633,387.308007186475,482.8437208683937,577.5971212834716,670.3410650375997,757.5262512880317,847.4875616043449,937.2780710504493,1023.9517000787478,1108.7727073500373,1194.3931975829917,1279.9137677216988,1365.5038914297197],\"type\":\"scatter\",\"xaxis\":\"x\",\"yaxis\":\"y\"},{\"line\":{\"color\":\"#0072B2\",\"width\":2},\"mode\":\"lines\",\"name\":\"yearly\",\"x\":[\"2017-01-01T00:00:00\",\"2017-01-02T00:00:59.178082\",\"2017-01-03T00:01:58.356164\",\"2017-01-04T00:02:57.534246\",\"2017-01-05T00:03:56.712328\",\"2017-01-06T00:04:55.890411\",\"2017-01-07T00:05:55.068493\",\"2017-01-08T00:06:54.246575\",\"2017-01-09T00:07:53.424657\",\"2017-01-10T00:08:52.602739\",\"2017-01-11T00:09:51.780822\",\"2017-01-12T00:10:50.958904\",\"2017-01-13T00:11:50.136986\",\"2017-01-14T00:12:49.315068\",\"2017-01-15T00:13:48.493150\",\"2017-01-16T00:14:47.671232\",\"2017-01-17T00:15:46.849315\",\"2017-01-18T00:16:46.027397\",\"2017-01-19T00:17:45.205479\",\"2017-01-20T00:18:44.383561\",\"2017-01-21T00:19:43.561643\",\"2017-01-22T00:20:42.739726\",\"2017-01-23T00:21:41.917808\",\"2017-01-24T00:22:41.095890\",\"2017-01-25T00:23:40.273972\",\"2017-01-26T00:24:39.452054\",\"2017-01-27T00:25:38.630137\",\"2017-01-28T00:26:37.808219\",\"2017-01-29T00:27:36.986301\",\"2017-01-30T00:28:36.164383\",\"2017-01-31T00:29:35.342465\",\"2017-02-01T00:30:34.520547\",\"2017-02-02T00:31:33.698630\",\"2017-02-03T00:32:32.876712\",\"2017-02-04T00:33:32.054794\",\"2017-02-05T00:34:31.232876\",\"2017-02-06T00:35:30.410958\",\"2017-02-07T00:36:29.589041\",\"2017-02-08T00:37:28.767123\",\"2017-02-09T00:38:27.945205\",\"2017-02-10T00:39:27.123287\",\"2017-02-11T00:40:26.301369\",\"2017-02-12T00:41:25.479452\",\"2017-02-13T00:42:24.657534\",\"2017-02-14T00:43:23.835616\",\"2017-02-15T00:44:23.013698\",\"2017-02-16T00:45:22.191780\",\"2017-02-17T00:46:21.369862\",\"2017-02-18T00:47:20.547945\",\"2017-02-19T00:48:19.726027\",\"2017-02-20T00:49:18.904109\",\"2017-02-21T00:50:18.082191\",\"2017-02-22T00:51:17.260273\",\"2017-02-23T00:52:16.438356\",\"2017-02-24T00:53:15.616438\",\"2017-02-25T00:54:14.794520\",\"2017-02-26T00:55:13.972602\",\"2017-02-27T00:56:13.150684\",\"2017-02-28T00:57:12.328767\",\"2017-03-01T00:58:11.506849\",\"2017-03-02T00:59:10.684931\",\"2017-03-03T01:00:09.863013\",\"2017-03-04T01:01:09.041095\",\"2017-03-05T01:02:08.219177\",\"2017-03-06T01:03:07.397260\",\"2017-03-07T01:04:06.575342\",\"2017-03-08T01:05:05.753424\",\"2017-03-09T01:06:04.931506\",\"2017-03-10T01:07:04.109588\",\"2017-03-11T01:08:03.287671\",\"2017-03-12T01:09:02.465753\",\"2017-03-13T01:10:01.643835\",\"2017-03-14T01:11:00.821917\",\"2017-03-15T01:12:00\",\"2017-03-16T01:12:59.178082\",\"2017-03-17T01:13:58.356164\",\"2017-03-18T01:14:57.534246\",\"2017-03-19T01:15:56.712328\",\"2017-03-20T01:16:55.890411\",\"2017-03-21T01:17:55.068493\",\"2017-03-22T01:18:54.246575\",\"2017-03-23T01:19:53.424657\",\"2017-03-24T01:20:52.602739\",\"2017-03-25T01:21:51.780822\",\"2017-03-26T01:22:50.958904\",\"2017-03-27T01:23:50.136986\",\"2017-03-28T01:24:49.315068\",\"2017-03-29T01:25:48.493150\",\"2017-03-30T01:26:47.671232\",\"2017-03-31T01:27:46.849315\",\"2017-04-01T01:28:46.027397\",\"2017-04-02T01:29:45.205479\",\"2017-04-03T01:30:44.383561\",\"2017-04-04T01:31:43.561643\",\"2017-04-05T01:32:42.739726\",\"2017-04-06T01:33:41.917808\",\"2017-04-07T01:34:41.095890\",\"2017-04-08T01:35:40.273972\",\"2017-04-09T01:36:39.452054\",\"2017-04-10T01:37:38.630137\",\"2017-04-11T01:38:37.808219\",\"2017-04-12T01:39:36.986301\",\"2017-04-13T01:40:36.164383\",\"2017-04-14T01:41:35.342465\",\"2017-04-15T01:42:34.520547\",\"2017-04-16T01:43:33.698630\",\"2017-04-17T01:44:32.876712\",\"2017-04-18T01:45:32.054794\",\"2017-04-19T01:46:31.232876\",\"2017-04-20T01:47:30.410958\",\"2017-04-21T01:48:29.589041\",\"2017-04-22T01:49:28.767123\",\"2017-04-23T01:50:27.945205\",\"2017-04-24T01:51:27.123287\",\"2017-04-25T01:52:26.301369\",\"2017-04-26T01:53:25.479452\",\"2017-04-27T01:54:24.657534\",\"2017-04-28T01:55:23.835616\",\"2017-04-29T01:56:23.013698\",\"2017-04-30T01:57:22.191780\",\"2017-05-01T01:58:21.369862\",\"2017-05-02T01:59:20.547945\",\"2017-05-03T02:00:19.726027\",\"2017-05-04T02:01:18.904109\",\"2017-05-05T02:02:18.082191\",\"2017-05-06T02:03:17.260273\",\"2017-05-07T02:04:16.438356\",\"2017-05-08T02:05:15.616438\",\"2017-05-09T02:06:14.794520\",\"2017-05-10T02:07:13.972602\",\"2017-05-11T02:08:13.150684\",\"2017-05-12T02:09:12.328767\",\"2017-05-13T02:10:11.506849\",\"2017-05-14T02:11:10.684931\",\"2017-05-15T02:12:09.863013\",\"2017-05-16T02:13:09.041095\",\"2017-05-17T02:14:08.219177\",\"2017-05-18T02:15:07.397260\",\"2017-05-19T02:16:06.575342\",\"2017-05-20T02:17:05.753424\",\"2017-05-21T02:18:04.931506\",\"2017-05-22T02:19:04.109588\",\"2017-05-23T02:20:03.287671\",\"2017-05-24T02:21:02.465753\",\"2017-05-25T02:22:01.643835\",\"2017-05-26T02:23:00.821917\",\"2017-05-27T02:24:00\",\"2017-05-28T02:24:59.178082\",\"2017-05-29T02:25:58.356164\",\"2017-05-30T02:26:57.534246\",\"2017-05-31T02:27:56.712328\",\"2017-06-01T02:28:55.890411\",\"2017-06-02T02:29:55.068493\",\"2017-06-03T02:30:54.246575\",\"2017-06-04T02:31:53.424657\",\"2017-06-05T02:32:52.602739\",\"2017-06-06T02:33:51.780822\",\"2017-06-07T02:34:50.958904\",\"2017-06-08T02:35:50.136986\",\"2017-06-09T02:36:49.315068\",\"2017-06-10T02:37:48.493150\",\"2017-06-11T02:38:47.671232\",\"2017-06-12T02:39:46.849315\",\"2017-06-13T02:40:46.027397\",\"2017-06-14T02:41:45.205479\",\"2017-06-15T02:42:44.383561\",\"2017-06-16T02:43:43.561643\",\"2017-06-17T02:44:42.739726\",\"2017-06-18T02:45:41.917808\",\"2017-06-19T02:46:41.095890\",\"2017-06-20T02:47:40.273972\",\"2017-06-21T02:48:39.452054\",\"2017-06-22T02:49:38.630137\",\"2017-06-23T02:50:37.808219\",\"2017-06-24T02:51:36.986301\",\"2017-06-25T02:52:36.164383\",\"2017-06-26T02:53:35.342465\",\"2017-06-27T02:54:34.520547\",\"2017-06-28T02:55:33.698630\",\"2017-06-29T02:56:32.876712\",\"2017-06-30T02:57:32.054794\",\"2017-07-01T02:58:31.232876\",\"2017-07-02T02:59:30.410958\",\"2017-07-03T03:00:29.589041\",\"2017-07-04T03:01:28.767123\",\"2017-07-05T03:02:27.945205\",\"2017-07-06T03:03:27.123287\",\"2017-07-07T03:04:26.301369\",\"2017-07-08T03:05:25.479452\",\"2017-07-09T03:06:24.657534\",\"2017-07-10T03:07:23.835616\",\"2017-07-11T03:08:23.013698\",\"2017-07-12T03:09:22.191780\",\"2017-07-13T03:10:21.369862\",\"2017-07-14T03:11:20.547945\",\"2017-07-15T03:12:19.726027\",\"2017-07-16T03:13:18.904109\",\"2017-07-17T03:14:18.082191\",\"2017-07-18T03:15:17.260273\",\"2017-07-19T03:16:16.438356\",\"2017-07-20T03:17:15.616438\",\"2017-07-21T03:18:14.794520\",\"2017-07-22T03:19:13.972602\",\"2017-07-23T03:20:13.150684\",\"2017-07-24T03:21:12.328767\",\"2017-07-25T03:22:11.506849\",\"2017-07-26T03:23:10.684931\",\"2017-07-27T03:24:09.863013\",\"2017-07-28T03:25:09.041095\",\"2017-07-29T03:26:08.219177\",\"2017-07-30T03:27:07.397260\",\"2017-07-31T03:28:06.575342\",\"2017-08-01T03:29:05.753424\",\"2017-08-02T03:30:04.931506\",\"2017-08-03T03:31:04.109588\",\"2017-08-04T03:32:03.287671\",\"2017-08-05T03:33:02.465753\",\"2017-08-06T03:34:01.643835\",\"2017-08-07T03:35:00.821917\",\"2017-08-08T03:36:00\",\"2017-08-09T03:36:59.178082\",\"2017-08-10T03:37:58.356164\",\"2017-08-11T03:38:57.534246\",\"2017-08-12T03:39:56.712328\",\"2017-08-13T03:40:55.890411\",\"2017-08-14T03:41:55.068493\",\"2017-08-15T03:42:54.246575\",\"2017-08-16T03:43:53.424657\",\"2017-08-17T03:44:52.602739\",\"2017-08-18T03:45:51.780822\",\"2017-08-19T03:46:50.958904\",\"2017-08-20T03:47:50.136986\",\"2017-08-21T03:48:49.315068\",\"2017-08-22T03:49:48.493150\",\"2017-08-23T03:50:47.671232\",\"2017-08-24T03:51:46.849315\",\"2017-08-25T03:52:46.027397\",\"2017-08-26T03:53:45.205479\",\"2017-08-27T03:54:44.383561\",\"2017-08-28T03:55:43.561643\",\"2017-08-29T03:56:42.739726\",\"2017-08-30T03:57:41.917808\",\"2017-08-31T03:58:41.095890\",\"2017-09-01T03:59:40.273972\",\"2017-09-02T04:00:39.452054\",\"2017-09-03T04:01:38.630137\",\"2017-09-04T04:02:37.808219\",\"2017-09-05T04:03:36.986301\",\"2017-09-06T04:04:36.164383\",\"2017-09-07T04:05:35.342465\",\"2017-09-08T04:06:34.520547\",\"2017-09-09T04:07:33.698630\",\"2017-09-10T04:08:32.876712\",\"2017-09-11T04:09:32.054794\",\"2017-09-12T04:10:31.232876\",\"2017-09-13T04:11:30.410958\",\"2017-09-14T04:12:29.589041\",\"2017-09-15T04:13:28.767123\",\"2017-09-16T04:14:27.945205\",\"2017-09-17T04:15:27.123287\",\"2017-09-18T04:16:26.301369\",\"2017-09-19T04:17:25.479452\",\"2017-09-20T04:18:24.657534\",\"2017-09-21T04:19:23.835616\",\"2017-09-22T04:20:23.013698\",\"2017-09-23T04:21:22.191780\",\"2017-09-24T04:22:21.369862\",\"2017-09-25T04:23:20.547945\",\"2017-09-26T04:24:19.726027\",\"2017-09-27T04:25:18.904109\",\"2017-09-28T04:26:18.082191\",\"2017-09-29T04:27:17.260273\",\"2017-09-30T04:28:16.438356\",\"2017-10-01T04:29:15.616438\",\"2017-10-02T04:30:14.794520\",\"2017-10-03T04:31:13.972602\",\"2017-10-04T04:32:13.150684\",\"2017-10-05T04:33:12.328767\",\"2017-10-06T04:34:11.506849\",\"2017-10-07T04:35:10.684931\",\"2017-10-08T04:36:09.863013\",\"2017-10-09T04:37:09.041095\",\"2017-10-10T04:38:08.219177\",\"2017-10-11T04:39:07.397260\",\"2017-10-12T04:40:06.575342\",\"2017-10-13T04:41:05.753424\",\"2017-10-14T04:42:04.931506\",\"2017-10-15T04:43:04.109588\",\"2017-10-16T04:44:03.287671\",\"2017-10-17T04:45:02.465753\",\"2017-10-18T04:46:01.643835\",\"2017-10-19T04:47:00.821917\",\"2017-10-20T04:48:00\",\"2017-10-21T04:48:59.178082\",\"2017-10-22T04:49:58.356164\",\"2017-10-23T04:50:57.534246\",\"2017-10-24T04:51:56.712328\",\"2017-10-25T04:52:55.890411\",\"2017-10-26T04:53:55.068493\",\"2017-10-27T04:54:54.246575\",\"2017-10-28T04:55:53.424657\",\"2017-10-29T04:56:52.602739\",\"2017-10-30T04:57:51.780822\",\"2017-10-31T04:58:50.958904\",\"2017-11-01T04:59:50.136986\",\"2017-11-02T05:00:49.315068\",\"2017-11-03T05:01:48.493150\",\"2017-11-04T05:02:47.671232\",\"2017-11-05T05:03:46.849315\",\"2017-11-06T05:04:46.027397\",\"2017-11-07T05:05:45.205479\",\"2017-11-08T05:06:44.383561\",\"2017-11-09T05:07:43.561643\",\"2017-11-10T05:08:42.739726\",\"2017-11-11T05:09:41.917808\",\"2017-11-12T05:10:41.095890\",\"2017-11-13T05:11:40.273972\",\"2017-11-14T05:12:39.452054\",\"2017-11-15T05:13:38.630137\",\"2017-11-16T05:14:37.808219\",\"2017-11-17T05:15:36.986301\",\"2017-11-18T05:16:36.164383\",\"2017-11-19T05:17:35.342465\",\"2017-11-20T05:18:34.520547\",\"2017-11-21T05:19:33.698630\",\"2017-11-22T05:20:32.876712\",\"2017-11-23T05:21:32.054794\",\"2017-11-24T05:22:31.232876\",\"2017-11-25T05:23:30.410958\",\"2017-11-26T05:24:29.589041\",\"2017-11-27T05:25:28.767123\",\"2017-11-28T05:26:27.945205\",\"2017-11-29T05:27:27.123287\",\"2017-11-30T05:28:26.301369\",\"2017-12-01T05:29:25.479452\",\"2017-12-02T05:30:24.657534\",\"2017-12-03T05:31:23.835616\",\"2017-12-04T05:32:23.013698\",\"2017-12-05T05:33:22.191780\",\"2017-12-06T05:34:21.369862\",\"2017-12-07T05:35:20.547945\",\"2017-12-08T05:36:19.726027\",\"2017-12-09T05:37:18.904109\",\"2017-12-10T05:38:18.082191\",\"2017-12-11T05:39:17.260273\",\"2017-12-12T05:40:16.438356\",\"2017-12-13T05:41:15.616438\",\"2017-12-14T05:42:14.794520\",\"2017-12-15T05:43:13.972602\",\"2017-12-16T05:44:13.150684\",\"2017-12-17T05:45:12.328767\",\"2017-12-18T05:46:11.506849\",\"2017-12-19T05:47:10.684931\",\"2017-12-20T05:48:09.863013\",\"2017-12-21T05:49:09.041095\",\"2017-12-22T05:50:08.219177\",\"2017-12-23T05:51:07.397260\",\"2017-12-24T05:52:06.575342\",\"2017-12-25T05:53:05.753424\",\"2017-12-26T05:54:04.931506\",\"2017-12-27T05:55:04.109588\",\"2017-12-28T05:56:03.287671\",\"2017-12-29T05:57:02.465753\",\"2017-12-30T05:58:01.643835\",\"2017-12-31T05:59:00.821917\"],\"y\":[3979.033241526746,3826.84479239749,3631.5943585699138,3389.9081703924103,3096.707305614256,2745.6749744262324,2329.8143257229885,1842.0722789927515,1276.002136447488,626.435970612835,-109.86292603609002,-933.5968742774029,-1842.4078309208794,-2830.454048093585,-3888.111410931936,-5001.817258406359,-6154.069561008861,-7323.5888666548035,-8485.644614517098,-9612.541449133316,-10674.255244174063,-11639.202867409633,-12475.124479446717,-13150.052539871143,-13633.337857330494,-13896.700104364654,-13915.26833197905,-13668.576241516053,-13141.477344020579,-12324.94666638038,-11216.738317622552,-9821.871939831519,-8152.925734305258,-6230.119241061931,-4081.175196264858,-1740.956414174906,749.1194644772638,3341.8775603509653,5985.379082388583,8624.087369991375,11200.177776142831,13654.957437804982,15930.356835901039,17970.45198581106,19722.974228078612,21140.76398411373,22183.125542478345,22817.041942643486,23018.212286419373,22771.878249315276,22073.412069577334,20928.644708335993,19353.920021958074,17375.86846103635,15030.901788229432,12364.43835378108,9429.876346482597,6287.339909650743,3002.229853686607,-356.38330418534497,-3717.4812709413195,-7009.888391897401,-10164.081586369144,-13113.9697634184,-15798.593040543701,-18163.69389572898,-20163.11559689699,-21759.987788993054,-22927.664857909644,-23650.389471842835,-23923.661336273217,-23754.299470416412,-23160.194983774734,-22169.76015042595,-20821.088289158168,-19160.84730342874,-17242.937470139503,-15126.950960669275,-12876.47642300797,-10557.296575008704,-8235.530011344123,-5975.770209053531,-3839.2749675016644,-1882.2582230689131,-154.3333662257998,1302.8470661151114,2456.7160298747767,3284.648399542155,3774.5243584518616,3924.9834097278626,3745.3616499756085,3255.3141824059326,2484.133757766622,1469.7856510900906,257.6871459335475,-1100.7324418699857,-2549.6487375832826,-4030.588508569869,-5484.253403258081,-6852.367124824867,-8079.491107398216,-9114.754547331826,-9913.44702550513,-10438.425874047653,-10661.295782725756,-10563.324756167454,-10136.068231776426,-9381.681728410782,-8312.911568021122,-6952.762729382521,-5333.852474952627,-3497.4677576424015,-1492.353285843594,626.734759971305,2800.667250875382,4967.724862391909,7065.472536971541,9032.670156640124,10811.162573702322,12347.692465818109,13595.581470240191,14516.228659789538,15080.380548721407,15269.133319384438,15074.635651275617,14500.469194668643,13561.69310949236,12284.548914513205,10705.831874895044,8871.945006187469,6837.66119839195,4664.627688239839,2419.654869482065,172.83800098164753,-2004.4344498659507,-4041.5284626098664,-5870.608784683377,-7428.620345862942,-8659.148695350856,-9514.104598356485,-9955.182753700645,-9955.05090360092,-9498.23322210597,-8581.660572026025,-7214.869762735476,-5419.844047052191,-3230.4974710466895,-691.8160362043118,2141.321356297599,5205.609824406606,8431.032450800602,11742.773092036197,15063.27393095953,18314.379247616595,21419.504161356967,24305.766146193608,26906.017972849037,29160.723367475002,31019.621028527337,32443.1285875438,33403.44546882181,33885.32218882897,33886.47319048695,33417.62055653532,32502.166593541104,31175.50401464801,29483.982963295533,27483.56410446299,25238.19617328483,22817.964442710327,20297.063316168817,17751.651465296585,15257.651463537602,12888.557603745257,10713.315478106717,8794.33493960957,7185.694306714053,5931.588223368005,5065.064597812029,4607.087715495552,4565.955192884176,4937.086182076428,5703.187446548481,6834.792919730401,8291.161450169111,10021.506947785474,11966.525381660444,14060.174328006595,16231.653283889003,18407.526970453942,20513.929527385808,22478.784976886,24233.978692485358,25717.415865439463,26874.906091618075,27661.818116091377,28044.45533536057,28001.110680356625,27522.76875846662,26613.433354450597,25290.06928297892,23582.158835047547,21530.884340837707,19187.95935426547,16614.14132949321,13877.468103643576,11051.268745789414,8212.00613642533,5437.013801017439,2802.1928824790307,379.736594692716,-1764.0509938923574,-3570.777435901846,-4991.765545392451,-5989.584187738767,-6539.259873179737,-6629.13185288644,-6261.323579092543,-5451.814381977794,-4230.106720382829,-2638.496051609147,-730.961899875837,1428.290248703533,3766.5963552530325,6204.861535156655,8659.791290597308,11046.263329951358,13279.772651150108,15278.88009623971,16967.594106072942,18277.61693862752,19150.390123501584,19538.879316140043,19409.045839442188,18740.9608595235,17529.528095115213,15784.791925158966,13531.81942765129,10810.156924585111,7672.873680298077,4185.2171612365855,422.9153777966286,-3529.828022872258,-7582.591351923405,-11641.18321979843,-15610.214023110924,-19395.71921056095,-22907.761190216705,-26062.93702714978,-28786.72141546554,-31015.578733285634,-32698.784184794582,-33799.90192784677,-34297.87746145282,-34187.712140954645,-33480.69920653857,-32204.212828654177,-30401.05405410792,-28128.36983144392,-25456.173160282204,-22465.503512943862,-19246.2767088656,-15894.882100424964,-12511.592011827108,-9197.853662849006,-6053.537157796674,-3174.2144374777367,-648.5433393126996,1444.1718869754616,3036.177024930932,4073.1613117163843,4515.796088335863,4340.876593479798,3542.035616484944,2130.009371559632,132.44812062255687,-2406.7235809301087,-5428.37995415175,-8859.671631275696,-12615.868230570932,-16602.516489571783,-20717.856196645782,-24855.429386693384,-28906.81327997161,-32764.404366719347,-36324.179956396176,-39488.36443246631,-42167.930349200804,-44284.869283636595,-45774.17386899266,-46585.48049821004,-46684.33156268102,-46053.02651603274,-44691.042231170184,-42615.014737024234,-39858.28615666676,-36470.032197284985,-32513.99654798247,-28066.868727951645,-23216.351019649843,-18058.96788246862,-12697.677469671087,-7239.349411049256,-1792.1757690474187,3536.9170287986562,8644.788435267457,13434.472121919163,17817.37279078722,21715.217863238984,25061.71784414835,27803.897700386988,29903.071025834673,31335.438815788497,32092.30505214253,32179.91171158889,31618.90596215294,30443.46192694417,28700.08820824823,26446.160145138332,23748.222323293787,20680.11200236415,17320.957755739753,13753.109653098953,10060.057731489345,6324.394314662051,2625.8730182470617,-960.3868709948418,-4365.5073811649845,-7528.233469612245,-10396.05993650549,-12926.08236536453,-15085.559276722743,-16852.181284153252,-18214.051533974864,-19169.389842653258,-19725.98048809106,-19900.390350385416,-19716.989852341518,-19206.813771087836,-18406.302365355667,-17355.96531697634,-16099.011687932945,-14679.988456186049,-13143.46826624481,-11532.823903583974,-9889.122800648476,-8250.169763016405,-6649.720248513904,-5116.880141966638,-3675.7012575579884,-2344.974991584005,-1138.2198602270323,-63.85230272467015,874.4756905976096,1677.3936768445847,2349.210382694281,2897.220907169116,3330.95474580049,3661.3969316197417,3900.214499599517,4059.019268634053,4148.695659841085,4178.819022137989,4157.185840718598,4089.4724110004167],\"type\":\"scatter\",\"xaxis\":\"x2\",\"yaxis\":\"y2\"}],                        {\"template\":{\"data\":{\"bar\":[{\"error_x\":{\"color\":\"#2a3f5f\"},\"error_y\":{\"color\":\"#2a3f5f\"},\"marker\":{\"line\":{\"color\":\"#E5ECF6\",\"width\":0.5},\"pattern\":{\"fillmode\":\"overlay\",\"size\":10,\"solidity\":0.2}},\"type\":\"bar\"}],\"barpolar\":[{\"marker\":{\"line\":{\"color\":\"#E5ECF6\",\"width\":0.5},\"pattern\":{\"fillmode\":\"overlay\",\"size\":10,\"solidity\":0.2}},\"type\":\"barpolar\"}],\"carpet\":[{\"aaxis\":{\"endlinecolor\":\"#2a3f5f\",\"gridcolor\":\"white\",\"linecolor\":\"white\",\"minorgridcolor\":\"white\",\"startlinecolor\":\"#2a3f5f\"},\"baxis\":{\"endlinecolor\":\"#2a3f5f\",\"gridcolor\":\"white\",\"linecolor\":\"white\",\"minorgridcolor\":\"white\",\"startlinecolor\":\"#2a3f5f\"},\"type\":\"carpet\"}],\"choropleth\":[{\"colorbar\":{\"outlinewidth\":0,\"ticks\":\"\"},\"type\":\"choropleth\"}],\"contour\":[{\"colorbar\":{\"outlinewidth\":0,\"ticks\":\"\"},\"colorscale\":[[0.0,\"#0d0887\"],[0.1111111111111111,\"#46039f\"],[0.2222222222222222,\"#7201a8\"],[0.3333333333333333,\"#9c179e\"],[0.4444444444444444,\"#bd3786\"],[0.5555555555555556,\"#d8576b\"],[0.6666666666666666,\"#ed7953\"],[0.7777777777777778,\"#fb9f3a\"],[0.8888888888888888,\"#fdca26\"],[1.0,\"#f0f921\"]],\"type\":\"contour\"}],\"contourcarpet\":[{\"colorbar\":{\"outlinewidth\":0,\"ticks\":\"\"},\"type\":\"contourcarpet\"}],\"heatmap\":[{\"colorbar\":{\"outlinewidth\":0,\"ticks\":\"\"},\"colorscale\":[[0.0,\"#0d0887\"],[0.1111111111111111,\"#46039f\"],[0.2222222222222222,\"#7201a8\"],[0.3333333333333333,\"#9c179e\"],[0.4444444444444444,\"#bd3786\"],[0.5555555555555556,\"#d8576b\"],[0.6666666666666666,\"#ed7953\"],[0.7777777777777778,\"#fb9f3a\"],[0.8888888888888888,\"#fdca26\"],[1.0,\"#f0f921\"]],\"type\":\"heatmap\"}],\"heatmapgl\":[{\"colorbar\":{\"outlinewidth\":0,\"ticks\":\"\"},\"colorscale\":[[0.0,\"#0d0887\"],[0.1111111111111111,\"#46039f\"],[0.2222222222222222,\"#7201a8\"],[0.3333333333333333,\"#9c179e\"],[0.4444444444444444,\"#bd3786\"],[0.5555555555555556,\"#d8576b\"],[0.6666666666666666,\"#ed7953\"],[0.7777777777777778,\"#fb9f3a\"],[0.8888888888888888,\"#fdca26\"],[1.0,\"#f0f921\"]],\"type\":\"heatmapgl\"}],\"histogram\":[{\"marker\":{\"pattern\":{\"fillmode\":\"overlay\",\"size\":10,\"solidity\":0.2}},\"type\":\"histogram\"}],\"histogram2d\":[{\"colorbar\":{\"outlinewidth\":0,\"ticks\":\"\"},\"colorscale\":[[0.0,\"#0d0887\"],[0.1111111111111111,\"#46039f\"],[0.2222222222222222,\"#7201a8\"],[0.3333333333333333,\"#9c179e\"],[0.4444444444444444,\"#bd3786\"],[0.5555555555555556,\"#d8576b\"],[0.6666666666666666,\"#ed7953\"],[0.7777777777777778,\"#fb9f3a\"],[0.8888888888888888,\"#fdca26\"],[1.0,\"#f0f921\"]],\"type\":\"histogram2d\"}],\"histogram2dcontour\":[{\"colorbar\":{\"outlinewidth\":0,\"ticks\":\"\"},\"colorscale\":[[0.0,\"#0d0887\"],[0.1111111111111111,\"#46039f\"],[0.2222222222222222,\"#7201a8\"],[0.3333333333333333,\"#9c179e\"],[0.4444444444444444,\"#bd3786\"],[0.5555555555555556,\"#d8576b\"],[0.6666666666666666,\"#ed7953\"],[0.7777777777777778,\"#fb9f3a\"],[0.8888888888888888,\"#fdca26\"],[1.0,\"#f0f921\"]],\"type\":\"histogram2dcontour\"}],\"mesh3d\":[{\"colorbar\":{\"outlinewidth\":0,\"ticks\":\"\"},\"type\":\"mesh3d\"}],\"parcoords\":[{\"line\":{\"colorbar\":{\"outlinewidth\":0,\"ticks\":\"\"}},\"type\":\"parcoords\"}],\"pie\":[{\"automargin\":true,\"type\":\"pie\"}],\"scatter\":[{\"marker\":{\"colorbar\":{\"outlinewidth\":0,\"ticks\":\"\"}},\"type\":\"scatter\"}],\"scatter3d\":[{\"line\":{\"colorbar\":{\"outlinewidth\":0,\"ticks\":\"\"}},\"marker\":{\"colorbar\":{\"outlinewidth\":0,\"ticks\":\"\"}},\"type\":\"scatter3d\"}],\"scattercarpet\":[{\"marker\":{\"colorbar\":{\"outlinewidth\":0,\"ticks\":\"\"}},\"type\":\"scattercarpet\"}],\"scattergeo\":[{\"marker\":{\"colorbar\":{\"outlinewidth\":0,\"ticks\":\"\"}},\"type\":\"scattergeo\"}],\"scattergl\":[{\"marker\":{\"colorbar\":{\"outlinewidth\":0,\"ticks\":\"\"}},\"type\":\"scattergl\"}],\"scattermapbox\":[{\"marker\":{\"colorbar\":{\"outlinewidth\":0,\"ticks\":\"\"}},\"type\":\"scattermapbox\"}],\"scatterpolar\":[{\"marker\":{\"colorbar\":{\"outlinewidth\":0,\"ticks\":\"\"}},\"type\":\"scatterpolar\"}],\"scatterpolargl\":[{\"marker\":{\"colorbar\":{\"outlinewidth\":0,\"ticks\":\"\"}},\"type\":\"scatterpolargl\"}],\"scatterternary\":[{\"marker\":{\"colorbar\":{\"outlinewidth\":0,\"ticks\":\"\"}},\"type\":\"scatterternary\"}],\"surface\":[{\"colorbar\":{\"outlinewidth\":0,\"ticks\":\"\"},\"colorscale\":[[0.0,\"#0d0887\"],[0.1111111111111111,\"#46039f\"],[0.2222222222222222,\"#7201a8\"],[0.3333333333333333,\"#9c179e\"],[0.4444444444444444,\"#bd3786\"],[0.5555555555555556,\"#d8576b\"],[0.6666666666666666,\"#ed7953\"],[0.7777777777777778,\"#fb9f3a\"],[0.8888888888888888,\"#fdca26\"],[1.0,\"#f0f921\"]],\"type\":\"surface\"}],\"table\":[{\"cells\":{\"fill\":{\"color\":\"#EBF0F8\"},\"line\":{\"color\":\"white\"}},\"header\":{\"fill\":{\"color\":\"#C8D4E3\"},\"line\":{\"color\":\"white\"}},\"type\":\"table\"}]},\"layout\":{\"annotationdefaults\":{\"arrowcolor\":\"#2a3f5f\",\"arrowhead\":0,\"arrowwidth\":1},\"autotypenumbers\":\"strict\",\"coloraxis\":{\"colorbar\":{\"outlinewidth\":0,\"ticks\":\"\"}},\"colorscale\":{\"diverging\":[[0,\"#8e0152\"],[0.1,\"#c51b7d\"],[0.2,\"#de77ae\"],[0.3,\"#f1b6da\"],[0.4,\"#fde0ef\"],[0.5,\"#f7f7f7\"],[0.6,\"#e6f5d0\"],[0.7,\"#b8e186\"],[0.8,\"#7fbc41\"],[0.9,\"#4d9221\"],[1,\"#276419\"]],\"sequential\":[[0.0,\"#0d0887\"],[0.1111111111111111,\"#46039f\"],[0.2222222222222222,\"#7201a8\"],[0.3333333333333333,\"#9c179e\"],[0.4444444444444444,\"#bd3786\"],[0.5555555555555556,\"#d8576b\"],[0.6666666666666666,\"#ed7953\"],[0.7777777777777778,\"#fb9f3a\"],[0.8888888888888888,\"#fdca26\"],[1.0,\"#f0f921\"]],\"sequentialminus\":[[0.0,\"#0d0887\"],[0.1111111111111111,\"#46039f\"],[0.2222222222222222,\"#7201a8\"],[0.3333333333333333,\"#9c179e\"],[0.4444444444444444,\"#bd3786\"],[0.5555555555555556,\"#d8576b\"],[0.6666666666666666,\"#ed7953\"],[0.7777777777777778,\"#fb9f3a\"],[0.8888888888888888,\"#fdca26\"],[1.0,\"#f0f921\"]]},\"colorway\":[\"#636efa\",\"#EF553B\",\"#00cc96\",\"#ab63fa\",\"#FFA15A\",\"#19d3f3\",\"#FF6692\",\"#B6E880\",\"#FF97FF\",\"#FECB52\"],\"font\":{\"color\":\"#2a3f5f\"},\"geo\":{\"bgcolor\":\"white\",\"lakecolor\":\"white\",\"landcolor\":\"#E5ECF6\",\"showlakes\":true,\"showland\":true,\"subunitcolor\":\"white\"},\"hoverlabel\":{\"align\":\"left\"},\"hovermode\":\"closest\",\"mapbox\":{\"style\":\"light\"},\"paper_bgcolor\":\"white\",\"plot_bgcolor\":\"#E5ECF6\",\"polar\":{\"angularaxis\":{\"gridcolor\":\"white\",\"linecolor\":\"white\",\"ticks\":\"\"},\"bgcolor\":\"#E5ECF6\",\"radialaxis\":{\"gridcolor\":\"white\",\"linecolor\":\"white\",\"ticks\":\"\"}},\"scene\":{\"xaxis\":{\"backgroundcolor\":\"#E5ECF6\",\"gridcolor\":\"white\",\"gridwidth\":2,\"linecolor\":\"white\",\"showbackground\":true,\"ticks\":\"\",\"zerolinecolor\":\"white\"},\"yaxis\":{\"backgroundcolor\":\"#E5ECF6\",\"gridcolor\":\"white\",\"gridwidth\":2,\"linecolor\":\"white\",\"showbackground\":true,\"ticks\":\"\",\"zerolinecolor\":\"white\"},\"zaxis\":{\"backgroundcolor\":\"#E5ECF6\",\"gridcolor\":\"white\",\"gridwidth\":2,\"linecolor\":\"white\",\"showbackground\":true,\"ticks\":\"\",\"zerolinecolor\":\"white\"}},\"shapedefaults\":{\"line\":{\"color\":\"#2a3f5f\"}},\"ternary\":{\"aaxis\":{\"gridcolor\":\"white\",\"linecolor\":\"white\",\"ticks\":\"\"},\"baxis\":{\"gridcolor\":\"white\",\"linecolor\":\"white\",\"ticks\":\"\"},\"bgcolor\":\"#E5ECF6\",\"caxis\":{\"gridcolor\":\"white\",\"linecolor\":\"white\",\"ticks\":\"\"}},\"title\":{\"x\":0.05},\"xaxis\":{\"automargin\":true,\"gridcolor\":\"white\",\"linecolor\":\"white\",\"ticks\":\"\",\"title\":{\"standoff\":15},\"zerolinecolor\":\"white\",\"zerolinewidth\":2},\"yaxis\":{\"automargin\":true,\"gridcolor\":\"white\",\"linecolor\":\"white\",\"ticks\":\"\",\"title\":{\"standoff\":15},\"zerolinecolor\":\"white\",\"zerolinewidth\":2}}},\"xaxis\":{\"anchor\":\"y\",\"domain\":[0.0,1.0],\"range\":[\"1985-08-10T02:24:00\",\"1999-08-20T21:36:00\"],\"type\":\"date\"},\"yaxis\":{\"anchor\":\"x\",\"domain\":[0.575,1.0],\"title\":{\"text\":\"trend\"},\"rangemode\":\"normal\",\"zerolinecolor\":\"#AAA\"},\"xaxis2\":{\"anchor\":\"y2\",\"domain\":[0.0,1.0],\"range\":[\"2016-12-13T18:54:02.958904115\",\"2018-01-18T11:04:57.863013581\"],\"tickformat\":\"%B %e\",\"type\":\"date\"},\"yaxis2\":{\"anchor\":\"x2\",\"domain\":[0.0,0.425],\"title\":{\"text\":\"yearly\"},\"zerolinecolor\":\"#AAA\"},\"height\":400,\"showlegend\":false,\"width\":900},                        {\"responsive\": true}                    ).then(function(){\n",
              "                            \n",
              "var gd = document.getElementById('d1886a60-674b-4d8c-bec3-168b56d4f092');\n",
              "var x = new MutationObserver(function (mutations, observer) {{\n",
              "        var display = window.getComputedStyle(gd).display;\n",
              "        if (!display || display === 'none') {{\n",
              "            console.log([gd, 'removed!']);\n",
              "            Plotly.purge(gd);\n",
              "            observer.disconnect();\n",
              "        }}\n",
              "}});\n",
              "\n",
              "// Listen for the removal of the full notebook cells\n",
              "var notebookContainer = gd.closest('#notebook-container');\n",
              "if (notebookContainer) {{\n",
              "    x.observe(notebookContainer, {childList: true});\n",
              "}}\n",
              "\n",
              "// Listen for the clearing of the current output cell\n",
              "var outputEl = gd.closest('.output');\n",
              "if (outputEl) {{\n",
              "    x.observe(outputEl, {childList: true});\n",
              "}}\n",
              "\n",
              "                        })                };                            </script>        </div>\n",
              "</body>\n",
              "</html>"
            ]
          },
          "metadata": {}
        }
      ]
    },
    {
      "cell_type": "code",
      "source": [
        "pro_change= Prophet(n_changepoints=4)\n",
        "forecast = pro_change.fit(train_dataset).predict(future)\n",
        "fig= pro_change.plot(forecast);\n",
        "a = add_changepoints_to_plot(fig.gca(), pro_change, forecast)"
      ],
      "metadata": {
        "colab": {
          "base_uri": "https://localhost:8080/",
          "height": 652
        },
        "id": "G0J8Ea-HA5ek",
        "outputId": "5c80449c-d382-4956-9e1c-b83952cd6e8c"
      },
      "execution_count": 44,
      "outputs": [
        {
          "output_type": "stream",
          "name": "stderr",
          "text": [
            "INFO:prophet:Disabling weekly seasonality. Run prophet with weekly_seasonality=True to override this.\n",
            "INFO:prophet:Disabling daily seasonality. Run prophet with daily_seasonality=True to override this.\n",
            "DEBUG:cmdstanpy:input tempfile: /tmp/tmpuafds_t6/_cuexqi3.json\n",
            "DEBUG:cmdstanpy:input tempfile: /tmp/tmpuafds_t6/6vwwygw4.json\n",
            "DEBUG:cmdstanpy:idx 0\n",
            "DEBUG:cmdstanpy:running CmdStan, num_threads: None\n",
            "DEBUG:cmdstanpy:CmdStan args: ['/usr/local/lib/python3.8/dist-packages/prophet/stan_model/prophet_model.bin', 'random', 'seed=87436', 'data', 'file=/tmp/tmpuafds_t6/_cuexqi3.json', 'init=/tmp/tmpuafds_t6/6vwwygw4.json', 'output', 'file=/tmp/tmpuafds_t6/prophet_model74h883nf/prophet_model-20230110162416.csv', 'method=optimize', 'algorithm=newton', 'iter=10000']\n",
            "16:24:16 - cmdstanpy - INFO - Chain [1] start processing\n",
            "INFO:cmdstanpy:Chain [1] start processing\n",
            "16:24:16 - cmdstanpy - INFO - Chain [1] done processing\n",
            "INFO:cmdstanpy:Chain [1] done processing\n"
          ]
        },
        {
          "output_type": "display_data",
          "data": {
            "text/plain": [
              "<Figure size 720x432 with 1 Axes>"
            ],
            "image/png": "[encoded data removed]"
          },
          "metadata": {}
        }
      ]
    }
  ]
}